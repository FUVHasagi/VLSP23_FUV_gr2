{
 "cells": [
  {
   "cell_type": "code",
   "execution_count": 12,
   "id": "initial_id",
   "metadata": {
    "collapsed": true,
    "ExecuteTime": {
     "end_time": "2023-10-23T14:06:17.997382300Z",
     "start_time": "2023-10-23T14:06:17.966130600Z"
    }
   },
   "outputs": [],
   "source": [
    "import os"
   ]
  },
  {
   "cell_type": "code",
   "execution_count": 13,
   "outputs": [],
   "source": [
    "curDir = os.getcwd()\n",
    "path = \"/datasets/original/Release train and dev data/Train/\"\n",
    "fileName = \"train2023.\"\n",
    "lang = \"vi\"\n",
    "fullPath = curDir + path + fileName + lang"
   ],
   "metadata": {
    "collapsed": false,
    "ExecuteTime": {
     "end_time": "2023-10-23T14:06:18.928611700Z",
     "start_time": "2023-10-23T14:06:18.912618600Z"
    }
   },
   "id": "44e1e38164f15b7b"
  },
  {
   "cell_type": "code",
   "execution_count": 20,
   "outputs": [
    {
     "name": "stdout",
     "output_type": "stream",
     "text": [
      "/ RU\n",
      "\n",
      "/ SK\n",
      "\n",
      " OK\n",
      "\n",
      " OK\n",
      "\n",
      "OK !\n",
      "\n",
      "kg t\n",
      "\n",
      " OK\n",
      "\n",
      "R$ 0\n",
      "\n",
      "M 53\n",
      "\n",
      "HK $\n",
      "\n",
      "Ẩn X\n",
      "\n",
      "P JK\n",
      "\n",
      "1 kk\n",
      "\n",
      " OK\n",
      "\n",
      "- BT\n",
      "\n",
      "- kg\n",
      "\n",
      "15 m\n",
      "\n",
      "BA 3\n",
      "\n",
      "M 90\n",
      "\n",
      "TR _\n",
      "\n",
      "1 HP\n",
      "\n",
      "4 HP\n",
      "\n",
      "M XL\n",
      "\n",
      "B BH\n",
      "\n",
      "5 J.\n",
      "\n",
      "▼ DC\n",
      "\n",
      "r 14\n",
      "\n",
      "16 C\n",
      "\n",
      "VS 1\n",
      "\n",
      "K 40\n",
      "\n",
      "1 sk\n",
      "\n",
      "HP က\n",
      "\n",
      "22 m\n",
      "\n",
      "RU /\n",
      "\n",
      "3 CO\n",
      "\n",
      " OK\n",
      "\n",
      ". TR\n",
      "\n",
      "2 Kg\n",
      "\n",
      "© JK\n",
      "\n",
      "R 36\n",
      "\n",
      "Số 7\n",
      "\n",
      "20 C\n",
      "\n",
      "-1 C\n",
      "\n",
      "CO 2\n",
      "\n",
      "2 HP\n",
      "\n",
      "24 C\n",
      "\n",
      "Ô tô\n",
      "\n",
      "36 C\n",
      "\n",
      "Số 6\n",
      "\n",
      "3 °C\n",
      "\n",
      "1 vu\n"
     ]
    }
   ],
   "source": [
    "with open(fullPath, 'r', encoding = 'utf8') as file:\n",
    "    allLine = file.readlines()\n",
    "    \n",
    "    for line in allLine:\n",
    "        if len(line.strip()) <= 4:\n",
    "            print(line)"
   ],
   "metadata": {
    "collapsed": false,
    "ExecuteTime": {
     "end_time": "2023-10-23T14:08:59.710352500Z",
     "start_time": "2023-10-23T14:08:59.582480300Z"
    }
   },
   "id": "dd3a1970a0955945"
  }
 ],
 "metadata": {
  "kernelspec": {
   "display_name": "Python 3",
   "language": "python",
   "name": "python3"
  },
  "language_info": {
   "codemirror_mode": {
    "name": "ipython",
    "version": 2
   },
   "file_extension": ".py",
   "mimetype": "text/x-python",
   "name": "python",
   "nbconvert_exporter": "python",
   "pygments_lexer": "ipython2",
   "version": "2.7.6"
  }
 },
 "nbformat": 4,
 "nbformat_minor": 5
}
