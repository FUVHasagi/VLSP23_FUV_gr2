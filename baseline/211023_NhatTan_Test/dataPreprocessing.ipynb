{
 "cells": [
  {
   "cell_type": "code",
   "execution_count": 1,
   "id": "initial_id",
   "metadata": {
    "collapsed": true,
    "ExecuteTime": {
     "end_time": "2023-10-28T15:17:48.378542800Z",
     "start_time": "2023-10-28T15:17:47.891167500Z"
    }
   },
   "outputs": [],
   "source": [
    "import os\n",
    "import string\n",
    "\n",
    "import pandas as pd\n",
    "\n",
    "from dataUtils import *\n",
    "\n",
    "curDir = os.getcwd()"
   ]
  },
  {
   "cell_type": "markdown",
   "source": [
    "# Split dataset"
   ],
   "metadata": {
    "collapsed": false
   },
   "id": "9ba25601b25101e"
  },
  {
   "cell_type": "code",
   "execution_count": 2,
   "outputs": [],
   "source": [
    "# path = \"/datasets/modified/Release train and dev data/Train/\"\n",
    "# \n",
    "# fileName10k = \"train2023_0to10k.\"\n",
    "# fullPathVi10k = curDir + path + fileName10k + 'vi'\n",
    "# fullPathLo10k = curDir + path + fileName10k + 'lo'\n",
    "# \n",
    "# fileName30k = \"train2023_10kto30k.\"\n",
    "# fullPathVi30k = curDir + path + fileName30k + 'vi'\n",
    "# fullPathLo30k = curDir + path + fileName30k + 'lo'\n",
    "# \n",
    "# fileName100k = \"train2023_40kto100k.\"\n",
    "# fullPathVi100k = curDir + path + fileName100k + 'vi'\n",
    "# fullPathLo100k = curDir + path + fileName100k + 'lo'"
   ],
   "metadata": {
    "collapsed": false,
    "ExecuteTime": {
     "end_time": "2023-10-28T15:15:10.850663100Z",
     "start_time": "2023-10-28T15:15:10.840657800Z"
    }
   },
   "id": "be2ff2e6dc03fec9"
  },
  {
   "cell_type": "code",
   "execution_count": 3,
   "outputs": [],
   "source": [
    "# allLineVi10k = readData(fullPathVi10k)\n",
    "# allLineLo10k = readData(fullPathLo10k)\n",
    "# \n",
    "# allLineVi30k = readData(fullPathVi30k)\n",
    "# allLineLo30k = readData(fullPathLo30k)\n",
    "# \n",
    "# allLineVi100k = readData(fullPathVi100k)\n",
    "# allLineLo100k = readData(fullPathLo100k)\n",
    "# \n",
    "# \n",
    "# p1 = 0.85\n",
    "# p2 = 0.15\n",
    "# p3 = 0.0\n",
    "# \n",
    "# ((allLineVi10kTrain, allLineLo10kTrain),\n",
    "#  (allLineVi10kVal, allLineLo10kVal),\n",
    "#  (_, _)) = splitDataset(allLineVi10k, allLineLo10k, p1, p2, p3)\n",
    "# \n",
    "# ((allLineVi30kTrain, allLineLo30kTrain),\n",
    "#  (allLineVi30kVal, allLineLo30kVal),\n",
    "#  (_, _)) = splitDataset(allLineVi30k, allLineLo30k, p1, p2, p3)\n",
    "# \n",
    "# ((allLineVi100kTrain, allLineLo100kTrain),\n",
    "#  (allLineVi100kVal, allLineLo100kVal),\n",
    "#  (_, _)) = splitDataset(allLineVi100k, allLineLo100k, p1, p2, p3)"
   ],
   "metadata": {
    "collapsed": false,
    "ExecuteTime": {
     "end_time": "2023-10-28T15:15:12.295360800Z",
     "start_time": "2023-10-28T15:15:12.104893900Z"
    }
   },
   "id": "63425e4add3dd426"
  },
  {
   "cell_type": "code",
   "execution_count": 4,
   "outputs": [
    {
     "name": "stdout",
     "output_type": "stream",
     "text": [
      "8500 8500 1500 1500\n",
      "17000 17000 3000 3000\n",
      "51000 51000 9000 9000\n"
     ]
    }
   ],
   "source": [
    "# print(len(allLineVi10kTrain), len(allLineLo10kTrain), len(allLineVi10kVal), len(allLineLo10kVal))\n",
    "# print(len(allLineVi30kTrain), len(allLineLo30kTrain), len(allLineVi30kVal), len(allLineLo30kVal))\n",
    "# print(len(allLineVi100kTrain), len(allLineLo100kTrain), len(allLineVi100kVal), len(allLineLo100kVal))"
   ],
   "metadata": {
    "collapsed": false,
    "ExecuteTime": {
     "end_time": "2023-10-28T15:15:14.558406300Z",
     "start_time": "2023-10-28T15:15:14.550406800Z"
    }
   },
   "id": "51a691dd481a003b"
  },
  {
   "cell_type": "code",
   "execution_count": 5,
   "outputs": [],
   "source": [
    "# writeData(allLineVi10kTrain, 'split_train2023_0to10k.vi')\n",
    "# writeData(allLineLo10kTrain, 'split_train2023_0to10k.lo')\n",
    "# \n",
    "# writeData(allLineVi30kTrain, 'split_train2023_10kto30k.vi')\n",
    "# writeData(allLineLo30kTrain, 'split_train2023_10kto30k.lo')\n",
    "# \n",
    "# writeData(allLineVi100kTrain, 'split_train2023_40kto100k.vi')\n",
    "# writeData(allLineLo100kTrain, 'split_train2023_40kto100k.lo')\n",
    "# \n",
    "# \n",
    "# writeData(allLineVi10kVal, 'split_val2023_0to10k.vi')\n",
    "# writeData(allLineLo10kVal, 'split_val2023_0to10k.lo')\n",
    "# \n",
    "# writeData(allLineVi30kVal, 'split_val2023_10kto30k.vi')\n",
    "# writeData(allLineLo30kVal, 'split_val2023_10kto30k.lo')\n",
    "# \n",
    "# writeData(allLineVi100kVal, 'split_val2023_40kto100k.vi')\n",
    "# writeData(allLineLo100kVal, 'split_val2023_40kto100k.lo')"
   ],
   "metadata": {
    "collapsed": false,
    "ExecuteTime": {
     "end_time": "2023-10-28T15:15:16.176074400Z",
     "start_time": "2023-10-28T15:15:15.939540600Z"
    }
   },
   "id": "1879649eef882575"
  },
  {
   "cell_type": "markdown",
   "source": [
    "# Load dataset"
   ],
   "metadata": {
    "collapsed": false
   },
   "id": "b5a9568b88f4707d"
  },
  {
   "cell_type": "code",
   "execution_count": 2,
   "outputs": [],
   "source": [
    "path = \"/datasets/modified/Release train and dev data/Split/Train/\"\n",
    "\n",
    "fileName10k = \"split_train2023_0to10k.\"\n",
    "fullPathVi10k = curDir + path + fileName10k + 'vi'\n",
    "fullPathLo10k = curDir + path + fileName10k + 'lo'\n",
    "\n",
    "fileName30k = \"split_train2023_10kto30k.\"\n",
    "fullPathVi30k = curDir + path + fileName30k + 'vi'\n",
    "fullPathLo30k = curDir + path + fileName30k + 'lo'\n",
    "\n",
    "fileName100k = \"split_train2023_40kto100k.\"\n",
    "fullPathVi100k = curDir + path + fileName100k + 'vi'\n",
    "fullPathLo100k = curDir + path + fileName100k + 'lo'"
   ],
   "metadata": {
    "collapsed": false,
    "ExecuteTime": {
     "end_time": "2023-10-28T15:17:51.904970600Z",
     "start_time": "2023-10-28T15:17:51.889379200Z"
    }
   },
   "id": "bee9c0b16c7bd2e"
  },
  {
   "cell_type": "code",
   "execution_count": 3,
   "outputs": [],
   "source": [
    "allLineVi10k = readData(fullPathVi10k)\n",
    "allLineLo10k = readData(fullPathLo10k)"
   ],
   "metadata": {
    "collapsed": false,
    "ExecuteTime": {
     "end_time": "2023-10-28T15:17:53.620885400Z",
     "start_time": "2023-10-28T15:17:53.594602400Z"
    }
   },
   "id": "eb926cd7fc6e8456"
  },
  {
   "cell_type": "code",
   "execution_count": 4,
   "outputs": [],
   "source": [
    "allLineVi30k = readData(fullPathVi30k)\n",
    "allLineLo30k = readData(fullPathLo30k)"
   ],
   "metadata": {
    "collapsed": false,
    "ExecuteTime": {
     "end_time": "2023-10-28T15:17:55.846529300Z",
     "start_time": "2023-10-28T15:17:55.799931600Z"
    }
   },
   "id": "39171c950d57547b"
  },
  {
   "cell_type": "code",
   "execution_count": 5,
   "outputs": [],
   "source": [
    "allLineVi100k = readData(fullPathVi100k)\n",
    "allLineLo100k = readData(fullPathLo100k)"
   ],
   "metadata": {
    "collapsed": false,
    "ExecuteTime": {
     "end_time": "2023-10-28T15:17:56.971901400Z",
     "start_time": "2023-10-28T15:17:56.885608200Z"
    }
   },
   "id": "85f0a99f9a49b54a"
  },
  {
   "cell_type": "markdown",
   "source": [
    "# 0-10k"
   ],
   "metadata": {
    "collapsed": false
   },
   "id": "d099ab0e51d710bf"
  },
  {
   "cell_type": "code",
   "execution_count": 6,
   "outputs": [
    {
     "name": "stdout",
     "output_type": "stream",
     "text": [
      "Dropped 0 samples out of 8500. Leftover: 8500\n"
     ]
    }
   ],
   "source": [
    "allLineVi10k, allLineLo10k = dropDoubleDuplicates(allLineVi10k, allLineLo10k)"
   ],
   "metadata": {
    "collapsed": false,
    "ExecuteTime": {
     "end_time": "2023-10-28T15:17:58.927540Z",
     "start_time": "2023-10-28T15:17:58.832683100Z"
    }
   },
   "id": "714e0d9a4b9de0c1"
  },
  {
   "cell_type": "code",
   "execution_count": 7,
   "outputs": [
    {
     "name": "stdout",
     "output_type": "stream",
     "text": [
      "Cleared 0. Dropped 0 out of 8500. Leftover: 8500\n"
     ]
    }
   ],
   "source": [
    "allLineVi10k, allLineLo10k = cleanSpecialSpacing(allLineVi10k, allLineLo10k, removeMode = 'special_spacing')"
   ],
   "metadata": {
    "collapsed": false,
    "ExecuteTime": {
     "end_time": "2023-10-28T15:18:00.256041300Z",
     "start_time": "2023-10-28T15:18:00.238355100Z"
    }
   },
   "id": "1265b98cbc203057"
  },
  {
   "cell_type": "code",
   "execution_count": 8,
   "outputs": [],
   "source": [
    "# allLineVi10k = cleanHTMLFormat(allLineVi10k)\n",
    "# allLineLo10k = cleanHTMLFormat(allLineLo10k)"
   ],
   "metadata": {
    "collapsed": false,
    "ExecuteTime": {
     "end_time": "2023-10-28T15:18:01.990767300Z",
     "start_time": "2023-10-28T15:18:01.963098300Z"
    }
   },
   "id": "7746fa89a4a97676"
  },
  {
   "cell_type": "code",
   "execution_count": 9,
   "outputs": [
    {
     "name": "stdout",
     "output_type": "stream",
     "text": [
      "Dropped 0 out of 8500. Leftover: 8500\n"
     ]
    }
   ],
   "source": [
    "allLineVi10k, allLineLo10k = cleanFontError(allLineVi10k, allLineLo10k)"
   ],
   "metadata": {
    "collapsed": false,
    "ExecuteTime": {
     "end_time": "2023-10-28T15:18:03.129413Z",
     "start_time": "2023-10-28T15:18:03.103521500Z"
    }
   },
   "id": "843398ce36a9d0e2"
  },
  {
   "cell_type": "code",
   "execution_count": 10,
   "outputs": [
    {
     "name": "stdout",
     "output_type": "stream",
     "text": [
      "Cleared 0\n",
      "Cleared 0\n"
     ]
    }
   ],
   "source": [
    "allLineVi10k = adjustQuoting(allLineVi10k)\n",
    "allLineLo10k = adjustQuoting(allLineLo10k)"
   ],
   "metadata": {
    "collapsed": false,
    "ExecuteTime": {
     "end_time": "2023-10-28T15:18:04.703684200Z",
     "start_time": "2023-10-28T15:18:04.667647300Z"
    }
   },
   "id": "44f17f7ced8755ef"
  },
  {
   "cell_type": "code",
   "execution_count": 11,
   "outputs": [
    {
     "name": "stdout",
     "output_type": "stream",
     "text": [
      "Cleared 11. Dropped 37 out of 8500. Leftover: 8463\n"
     ]
    }
   ],
   "source": [
    "allLineVi10k, allLineLo10k = cleanEmoji(allLineVi10k, allLineLo10k)"
   ],
   "metadata": {
    "collapsed": false,
    "ExecuteTime": {
     "end_time": "2023-10-28T15:18:14.604417100Z",
     "start_time": "2023-10-28T15:18:06.036430700Z"
    }
   },
   "id": "ae02258c4baf739"
  },
  {
   "cell_type": "code",
   "execution_count": 12,
   "outputs": [
    {
     "name": "stdout",
     "output_type": "stream",
     "text": [
      "Dropped 250 samples out of 8463. Leftover: 8213\n"
     ]
    }
   ],
   "source": [
    "allLineVi10k, allLineLo10k = lenRatioThresholding(allLineVi10k, allLineLo10k, mode = 'character', lowerThreshold = 0.5, upperThreshold = 1.5,\n",
    "                                                  removePunctuation1 = False, removePunctuation2 = False, removeSpace1 = False, removeSpace2 = False)"
   ],
   "metadata": {
    "collapsed": false,
    "ExecuteTime": {
     "end_time": "2023-10-28T15:18:14.642746500Z",
     "start_time": "2023-10-28T15:18:14.612586800Z"
    }
   },
   "id": "3cdf5cb872527a1d"
  },
  {
   "cell_type": "markdown",
   "source": [
    "# 10-30k"
   ],
   "metadata": {
    "collapsed": false
   },
   "id": "428006c310573e9f"
  },
  {
   "cell_type": "code",
   "execution_count": 13,
   "outputs": [
    {
     "name": "stdout",
     "output_type": "stream",
     "text": [
      "Dropped 197 samples out of 17000. Leftover: 16803\n"
     ]
    }
   ],
   "source": [
    "allLineVi30k, allLineLo30k = dropDoubleDuplicates(allLineVi30k, allLineLo30k)"
   ],
   "metadata": {
    "collapsed": false,
    "ExecuteTime": {
     "end_time": "2023-10-28T15:18:14.720074300Z",
     "start_time": "2023-10-28T15:18:14.648744900Z"
    }
   },
   "id": "43cfd67ab0dfb5dc"
  },
  {
   "cell_type": "code",
   "execution_count": 14,
   "outputs": [
    {
     "name": "stdout",
     "output_type": "stream",
     "text": [
      "Cleared 100. Dropped 0 out of 16803. Leftover: 16803\n"
     ]
    }
   ],
   "source": [
    "allLineVi30k, allLineLo30k = cleanSpecialSpacing(allLineVi30k, allLineLo30k, removeMode = 'special_spacing')"
   ],
   "metadata": {
    "collapsed": false,
    "ExecuteTime": {
     "end_time": "2023-10-28T15:18:14.773513500Z",
     "start_time": "2023-10-28T15:18:14.699080700Z"
    }
   },
   "id": "add52c042a944a8e"
  },
  {
   "cell_type": "code",
   "execution_count": 15,
   "outputs": [],
   "source": [
    "# allLineVi30k = cleanHTMLFormat(allLineVi30k)\n",
    "# allLineLo30k = cleanHTMLFormat(allLineLo30k)"
   ],
   "metadata": {
    "collapsed": false,
    "ExecuteTime": {
     "end_time": "2023-10-28T15:18:14.786414500Z",
     "start_time": "2023-10-28T15:18:14.746079100Z"
    }
   },
   "id": "98182c86b81b7947"
  },
  {
   "cell_type": "code",
   "execution_count": 16,
   "outputs": [
    {
     "name": "stdout",
     "output_type": "stream",
     "text": [
      "Dropped 0 out of 16803. Leftover: 16803\n"
     ]
    }
   ],
   "source": [
    "allLineVi30k, allLineLo30k = cleanFontError(allLineVi30k, allLineLo30k)"
   ],
   "metadata": {
    "collapsed": false,
    "ExecuteTime": {
     "end_time": "2023-10-28T15:18:14.799414100Z",
     "start_time": "2023-10-28T15:18:14.761417100Z"
    }
   },
   "id": "920977c2bc2474d7"
  },
  {
   "cell_type": "code",
   "execution_count": 17,
   "outputs": [
    {
     "name": "stdout",
     "output_type": "stream",
     "text": [
      "Cleared 0\n",
      "Cleared 280\n"
     ]
    }
   ],
   "source": [
    "allLineVi30k = adjustQuoting(allLineVi30k)\n",
    "allLineLo30k = adjustQuoting(allLineLo30k)"
   ],
   "metadata": {
    "collapsed": false,
    "ExecuteTime": {
     "end_time": "2023-10-28T15:18:14.847853500Z",
     "start_time": "2023-10-28T15:18:14.794414800Z"
    }
   },
   "id": "28f68221b83a51be"
  },
  {
   "cell_type": "code",
   "execution_count": 18,
   "outputs": [
    {
     "name": "stdout",
     "output_type": "stream",
     "text": [
      "Cleared 63. Dropped 64 out of 16803. Leftover: 16739\n"
     ]
    }
   ],
   "source": [
    "allLineVi30k, allLineLo30k = cleanEmoji(allLineVi30k, allLineLo30k)"
   ],
   "metadata": {
    "collapsed": false,
    "ExecuteTime": {
     "end_time": "2023-10-28T15:18:40.776408100Z",
     "start_time": "2023-10-28T15:18:24.475760800Z"
    }
   },
   "id": "31bd36811be5a8e0"
  },
  {
   "cell_type": "code",
   "execution_count": 19,
   "outputs": [
    {
     "name": "stdout",
     "output_type": "stream",
     "text": [
      "Dropped 591 samples out of 16739. Leftover: 16148\n"
     ]
    }
   ],
   "source": [
    "allLineVi30k, allLineLo30k = lenRatioThresholding(allLineVi30k, allLineLo30k, mode = 'character', lowerThreshold = 0.5, upperThreshold = 1.5,\n",
    "                                                  removePunctuation1 = False, removePunctuation2 = False, removeSpace1 = False, removeSpace2 = False)"
   ],
   "metadata": {
    "collapsed": false,
    "ExecuteTime": {
     "end_time": "2023-10-28T15:18:40.846168500Z",
     "start_time": "2023-10-28T15:18:40.777398200Z"
    }
   },
   "id": "f863cae49505a5fc"
  },
  {
   "cell_type": "markdown",
   "source": [
    "# 40k-100k"
   ],
   "metadata": {
    "collapsed": false
   },
   "id": "224fdc50fea5aa46"
  },
  {
   "cell_type": "code",
   "execution_count": 20,
   "outputs": [
    {
     "name": "stdout",
     "output_type": "stream",
     "text": [
      "Dropped 700 samples out of 51000. Leftover: 50300\n"
     ]
    }
   ],
   "source": [
    "allLineVi100k, allLineLo100k = dropDoubleDuplicates(allLineVi100k, allLineLo100k)"
   ],
   "metadata": {
    "collapsed": false,
    "ExecuteTime": {
     "end_time": "2023-10-28T15:18:40.923168100Z",
     "start_time": "2023-10-28T15:18:40.842170400Z"
    }
   },
   "id": "94d8abbf77adba4c"
  },
  {
   "cell_type": "code",
   "execution_count": 21,
   "outputs": [
    {
     "name": "stdout",
     "output_type": "stream",
     "text": [
      "Cleared 4533. Dropped 0 out of 50300. Leftover: 50300\n"
     ]
    }
   ],
   "source": [
    "allLineVi100k, allLineLo100k = cleanSpecialSpacing(allLineVi100k, allLineLo100k, removeMode = 'special_spacing')"
   ],
   "metadata": {
    "collapsed": false,
    "ExecuteTime": {
     "end_time": "2023-10-28T15:18:41.043430100Z",
     "start_time": "2023-10-28T15:18:40.918169500Z"
    }
   },
   "id": "41581812a14d093"
  },
  {
   "cell_type": "code",
   "execution_count": 22,
   "outputs": [],
   "source": [
    "# allLineVi100k = cleanHTMLFormat(allLineVi100k)\n",
    "# allLineLo100k = cleanHTMLFormat(allLineLo100k)"
   ],
   "metadata": {
    "collapsed": false,
    "ExecuteTime": {
     "end_time": "2023-10-28T15:18:41.089002Z",
     "start_time": "2023-10-28T15:18:41.045426900Z"
    }
   },
   "id": "60ad3bf1fc90166b"
  },
  {
   "cell_type": "code",
   "execution_count": 23,
   "outputs": [
    {
     "name": "stdout",
     "output_type": "stream",
     "text": [
      "Dropped 9 out of 50300. Leftover: 50291\n"
     ]
    }
   ],
   "source": [
    "allLineVi100k, allLineLo100k = cleanFontError(allLineVi100k, allLineLo100k)"
   ],
   "metadata": {
    "collapsed": false,
    "ExecuteTime": {
     "end_time": "2023-10-28T15:18:41.152581300Z",
     "start_time": "2023-10-28T15:18:41.059887900Z"
    }
   },
   "id": "ae7f32f2d7956dad"
  },
  {
   "cell_type": "code",
   "execution_count": 24,
   "outputs": [
    {
     "name": "stdout",
     "output_type": "stream",
     "text": [
      "Cleared 13\n",
      "Cleared 11\n"
     ]
    }
   ],
   "source": [
    "allLineVi100k = adjustQuoting(allLineVi100k)\n",
    "allLineLo100k = adjustQuoting(allLineLo100k)"
   ],
   "metadata": {
    "collapsed": false,
    "ExecuteTime": {
     "end_time": "2023-10-28T15:18:41.268601900Z",
     "start_time": "2023-10-28T15:18:41.124496700Z"
    }
   },
   "id": "7249e774055be5a2"
  },
  {
   "cell_type": "code",
   "execution_count": 25,
   "outputs": [
    {
     "name": "stdout",
     "output_type": "stream",
     "text": [
      "Cleared 577. Dropped 442 out of 50291. Leftover: 49849\n"
     ]
    }
   ],
   "source": [
    "allLineVi100k, allLineLo100k = cleanEmoji(allLineVi100k, allLineLo100k)"
   ],
   "metadata": {
    "collapsed": false,
    "ExecuteTime": {
     "end_time": "2023-10-28T15:19:28.217833900Z",
     "start_time": "2023-10-28T15:18:41.308931400Z"
    }
   },
   "id": "d8478c5b34fcf808"
  },
  {
   "cell_type": "code",
   "execution_count": 26,
   "outputs": [
    {
     "name": "stdout",
     "output_type": "stream",
     "text": [
      "Dropped 9333 samples out of 49849. Leftover: 40516\n"
     ]
    }
   ],
   "source": [
    "allLineVi100k, allLineLo100k = lenRatioThresholding(allLineVi100k, allLineLo100k, mode = 'character', lowerThreshold = 0.5, upperThreshold = 1.5,\n",
    "                                                  removePunctuation1 = False, removePunctuation2 = False, removeSpace1 = False, removeSpace2 = False)"
   ],
   "metadata": {
    "collapsed": false,
    "ExecuteTime": {
     "end_time": "2023-10-28T15:19:28.295923900Z",
     "start_time": "2023-10-28T15:19:28.269833300Z"
    }
   },
   "id": "ca723c524e352a22"
  },
  {
   "cell_type": "markdown",
   "source": [
    "# Saving"
   ],
   "metadata": {
    "collapsed": false
   },
   "id": "b81640a956700613"
  },
  {
   "cell_type": "code",
   "execution_count": 27,
   "outputs": [],
   "source": [
    "# writeData(allLineVi10k + allLineVi30k, 'split_train2023_combine0to40k_basicPreprocessed.vi')\n",
    "# writeData(allLineLo10k + allLineLo30k, 'split_train2023_combine0to40k_basicPreprocessed.lo')\n",
    "# \n",
    "# writeData(allLineVi100k, 'split_train2023_combine40kto100k_basicPreprocessed.vi')\n",
    "# writeData(allLineLo100k, 'split_train2023_combine40kto100k_basicPreprocessed.lo')"
   ],
   "metadata": {
    "collapsed": false,
    "ExecuteTime": {
     "end_time": "2023-10-28T15:22:10.340572300Z",
     "start_time": "2023-10-28T15:22:10.197415600Z"
    }
   },
   "id": "c475a44c88e0baad"
  }
 ],
 "metadata": {
  "kernelspec": {
   "display_name": "Python 3",
   "language": "python",
   "name": "python3"
  },
  "language_info": {
   "codemirror_mode": {
    "name": "ipython",
    "version": 2
   },
   "file_extension": ".py",
   "mimetype": "text/x-python",
   "name": "python",
   "nbconvert_exporter": "python",
   "pygments_lexer": "ipython2",
   "version": "2.7.6"
  }
 },
 "nbformat": 4,
 "nbformat_minor": 5
}
