{
 "cells": [
  {
   "cell_type": "code",
   "execution_count": 1,
   "id": "initial_id",
   "metadata": {
    "collapsed": true,
    "ExecuteTime": {
     "end_time": "2023-10-27T09:30:42.441119700Z",
     "start_time": "2023-10-27T09:30:41.408745500Z"
    }
   },
   "outputs": [],
   "source": [
    "import os\n",
    "\n",
    "import pandas as pd\n",
    "\n",
    "from dataUtils import *"
   ]
  },
  {
   "cell_type": "markdown",
   "source": [
    "# 0-10k"
   ],
   "metadata": {
    "collapsed": false
   },
   "id": "d099ab0e51d710bf"
  },
  {
   "cell_type": "code",
   "execution_count": 2,
   "outputs": [],
   "source": [
    "curDir = os.getcwd()\n",
    "path = \"/datasets/modified/Release train and dev data/Train/\"\n",
    "fileName10k = \"train2023_0to10k.\"\n",
    "# lang = \"vi\"\n",
    "fullPathVi10k = curDir + path + fileName10k + 'vi'\n",
    "fullPathLo10k = curDir + path + fileName10k + 'lo'"
   ],
   "metadata": {
    "collapsed": false,
    "ExecuteTime": {
     "end_time": "2023-10-27T09:30:42.456743200Z",
     "start_time": "2023-10-27T09:30:42.441119700Z"
    }
   },
   "id": "548f3bb7a8c45be7"
  },
  {
   "cell_type": "code",
   "execution_count": 3,
   "outputs": [],
   "source": [
    "allLineVi10k = readData(fullPathVi10k)\n",
    "allLineLo10k = readData(fullPathLo10k)"
   ],
   "metadata": {
    "collapsed": false,
    "ExecuteTime": {
     "end_time": "2023-10-27T09:30:42.503602900Z",
     "start_time": "2023-10-27T09:30:42.456743200Z"
    }
   },
   "id": "a8227800d30a7ef8"
  },
  {
   "cell_type": "code",
   "execution_count": 4,
   "outputs": [
    {
     "name": "stdout",
     "output_type": "stream",
     "text": [
      "Dropped 0 samples out of 10000. Leftover: 10000\n"
     ]
    }
   ],
   "source": [
    "allLineVi10k, allLineLo10k = dropDoubleDuplicates(allLineVi10k, allLineLo10k)"
   ],
   "metadata": {
    "collapsed": false,
    "ExecuteTime": {
     "end_time": "2023-10-27T09:30:42.581707300Z",
     "start_time": "2023-10-27T09:30:42.503602900Z"
    }
   },
   "id": "714e0d9a4b9de0c1"
  },
  {
   "cell_type": "code",
   "execution_count": 5,
   "outputs": [
    {
     "name": "stdout",
     "output_type": "stream",
     "text": [
      "Dropped 299 samples out of 10000. Leftover: 9701\n"
     ]
    }
   ],
   "source": [
    "allLineVi10k, allLineLo10k = lenRatioThresholding(allLineVi10k, allLineLo10k, mode = 'character', lowerThreshold = 0.5, upperThreshold = 1.5)"
   ],
   "metadata": {
    "collapsed": false,
    "ExecuteTime": {
     "end_time": "2023-10-27T09:30:42.644219400Z",
     "start_time": "2023-10-27T09:30:42.597245700Z"
    }
   },
   "id": "3cdf5cb872527a1d"
  },
  {
   "cell_type": "code",
   "execution_count": 6,
   "outputs": [
    {
     "name": "stdout",
     "output_type": "stream",
     "text": [
      "Cleared 6. Dropped 0 out of 9701. Leftover: 9701\n"
     ]
    }
   ],
   "source": [
    "allLineVi10k, allLineLo10k = cleanEmoji(allLineVi10k, allLineLo10k)"
   ],
   "metadata": {
    "collapsed": false,
    "ExecuteTime": {
     "end_time": "2023-10-27T09:30:51.888684500Z",
     "start_time": "2023-10-27T09:30:42.612877300Z"
    }
   },
   "id": "38a63ed9b0fdf320"
  },
  {
   "cell_type": "markdown",
   "source": [
    "# 10-30k"
   ],
   "metadata": {
    "collapsed": false
   },
   "id": "428006c310573e9f"
  },
  {
   "cell_type": "code",
   "execution_count": 7,
   "outputs": [],
   "source": [
    "curDir = os.getcwd()\n",
    "path = \"/datasets/modified/Release train and dev data/Train/\"\n",
    "fileName30k = \"train2023_10kto30k.\"\n",
    "# lang = \"vi\"\n",
    "fullPathVi30k = curDir + path + fileName30k + 'vi'\n",
    "fullPathLo30k = curDir + path + fileName30k + 'lo'"
   ],
   "metadata": {
    "collapsed": false,
    "ExecuteTime": {
     "end_time": "2023-10-27T09:30:51.932401200Z",
     "start_time": "2023-10-27T09:30:51.891684Z"
    }
   },
   "id": "ceae6bccb26ca1f5"
  },
  {
   "cell_type": "code",
   "execution_count": 8,
   "outputs": [],
   "source": [
    "allLineVi30k = readData(fullPathVi30k)\n",
    "allLineLo30k = readData(fullPathLo30k)"
   ],
   "metadata": {
    "collapsed": false,
    "ExecuteTime": {
     "end_time": "2023-10-27T09:30:51.967952Z",
     "start_time": "2023-10-27T09:30:51.904903700Z"
    }
   },
   "id": "9a36296b76b853e"
  },
  {
   "cell_type": "code",
   "execution_count": 9,
   "outputs": [
    {
     "name": "stdout",
     "output_type": "stream",
     "text": [
      "Dropped 274 samples out of 20000. Leftover: 19726\n"
     ]
    }
   ],
   "source": [
    "allLineVi30k, allLineLo30k = dropDoubleDuplicates(allLineVi30k, allLineLo30k)"
   ],
   "metadata": {
    "collapsed": false,
    "ExecuteTime": {
     "end_time": "2023-10-27T09:30:52.032421300Z",
     "start_time": "2023-10-27T09:30:51.967952Z"
    }
   },
   "id": "862e54529265118e"
  },
  {
   "cell_type": "code",
   "execution_count": 10,
   "outputs": [
    {
     "name": "stdout",
     "output_type": "stream",
     "text": [
      "Dropped 697 samples out of 19726. Leftover: 19029\n"
     ]
    }
   ],
   "source": [
    "allLineVi30k, allLineLo30k = lenRatioThresholding(allLineVi30k, allLineLo30k, mode = 'character', lowerThreshold = 0.5, upperThreshold = 1.5)"
   ],
   "metadata": {
    "collapsed": false,
    "ExecuteTime": {
     "end_time": "2023-10-27T09:30:52.090367500Z",
     "start_time": "2023-10-27T09:30:52.031499800Z"
    }
   },
   "id": "1ef5e2f2a3bcf172"
  },
  {
   "cell_type": "code",
   "execution_count": 11,
   "outputs": [
    {
     "name": "stdout",
     "output_type": "stream",
     "text": [
      "Cleared 6. Dropped 2 out of 19029. Leftover: 19027\n"
     ]
    }
   ],
   "source": [
    "allLineVi30k, allLineLo30k = cleanEmoji(allLineVi30k, allLineLo30k)"
   ],
   "metadata": {
    "collapsed": false,
    "ExecuteTime": {
     "end_time": "2023-10-27T09:31:10.847737400Z",
     "start_time": "2023-10-27T09:30:52.064368Z"
    }
   },
   "id": "6eed679ad0ccb159"
  },
  {
   "cell_type": "markdown",
   "source": [
    "# 40k-100k"
   ],
   "metadata": {
    "collapsed": false
   },
   "id": "224fdc50fea5aa46"
  },
  {
   "cell_type": "code",
   "execution_count": 12,
   "outputs": [],
   "source": [
    "curDir = os.getcwd()\n",
    "path = \"/datasets/modified/Release train and dev data/Train/\"\n",
    "fileName100k = \"train2023_40kto100k.\"\n",
    "# lang = \"vi\"\n",
    "fullPathVi100k = curDir + path + fileName100k + 'vi'\n",
    "fullPathLo100k = curDir + path + fileName100k + 'lo'"
   ],
   "metadata": {
    "collapsed": false,
    "ExecuteTime": {
     "end_time": "2023-10-27T09:31:10.893686300Z",
     "start_time": "2023-10-27T09:31:10.850736100Z"
    }
   },
   "id": "c32496ffb3cc53da"
  },
  {
   "cell_type": "code",
   "execution_count": 13,
   "outputs": [],
   "source": [
    "allLineVi100k = readData(fullPathVi100k)\n",
    "allLineLo100k = readData(fullPathLo100k)"
   ],
   "metadata": {
    "collapsed": false,
    "ExecuteTime": {
     "end_time": "2023-10-27T09:31:10.996873Z",
     "start_time": "2023-10-27T09:31:10.867684600Z"
    }
   },
   "id": "3ba1983c3e2ebf2c"
  },
  {
   "cell_type": "code",
   "execution_count": 14,
   "outputs": [
    {
     "name": "stdout",
     "output_type": "stream",
     "text": [
      "Dropped 927 samples out of 60000. Leftover: 59073\n"
     ]
    }
   ],
   "source": [
    "allLineVi100k, allLineLo100k = dropDoubleDuplicates(allLineVi100k, allLineLo100k)"
   ],
   "metadata": {
    "collapsed": false,
    "ExecuteTime": {
     "end_time": "2023-10-27T09:31:11.130302200Z",
     "start_time": "2023-10-27T09:31:10.991874900Z"
    }
   },
   "id": "45001a7fd1547b74"
  },
  {
   "cell_type": "code",
   "execution_count": 15,
   "outputs": [
    {
     "name": "stdout",
     "output_type": "stream",
     "text": [
      "Dropped 10971 samples out of 59073. Leftover: 48102\n"
     ]
    }
   ],
   "source": [
    "allLineVi100k, allLineLo100k = lenRatioThresholding(allLineVi100k, allLineLo100k, mode = 'character', lowerThreshold = 0.5, upperThreshold = 1.5)"
   ],
   "metadata": {
    "collapsed": false,
    "ExecuteTime": {
     "end_time": "2023-10-27T09:31:11.224369600Z",
     "start_time": "2023-10-27T09:31:11.131295700Z"
    }
   },
   "id": "ea7b43f4504e7cd4"
  },
  {
   "cell_type": "code",
   "execution_count": 16,
   "outputs": [
    {
     "name": "stdout",
     "output_type": "stream",
     "text": [
      "Cleared 293. Dropped 163 out of 48102. Leftover: 47939\n"
     ]
    }
   ],
   "source": [
    "allLineVi100k, allLineLo100k = cleanEmoji(allLineVi100k, allLineLo100k)"
   ],
   "metadata": {
    "collapsed": false,
    "ExecuteTime": {
     "end_time": "2023-10-27T09:31:58.889218600Z",
     "start_time": "2023-10-27T09:31:11.225376900Z"
    }
   },
   "id": "6e6060253c7a1d9a"
  },
  {
   "cell_type": "markdown",
   "source": [
    "# Saving"
   ],
   "metadata": {
    "collapsed": false
   },
   "id": "b81640a956700613"
  },
  {
   "cell_type": "code",
   "execution_count": 18,
   "outputs": [],
   "source": [
    "# writeData(allLineVi10k + allLineVi30k, 'train2023_combine0to40k_basicPreprocessed.vi')\n",
    "# writeData(allLineLo10k + allLineLo30k, 'train2023_combine0to40k_basicPreprocessed.lo')\n",
    "# \n",
    "# writeData(allLineVi100k, 'train2023_combine40kto100k_basicPreprocessed.vi')\n",
    "# writeData(allLineLo100k, 'train2023_combine40kto100k_basicPreprocessed.lo')"
   ],
   "metadata": {
    "collapsed": false,
    "ExecuteTime": {
     "end_time": "2023-10-27T09:32:08.069683300Z",
     "start_time": "2023-10-27T09:32:07.826223600Z"
    }
   },
   "id": "c475a44c88e0baad"
  }
 ],
 "metadata": {
  "kernelspec": {
   "display_name": "Python 3",
   "language": "python",
   "name": "python3"
  },
  "language_info": {
   "codemirror_mode": {
    "name": "ipython",
    "version": 2
   },
   "file_extension": ".py",
   "mimetype": "text/x-python",
   "name": "python",
   "nbconvert_exporter": "python",
   "pygments_lexer": "ipython2",
   "version": "2.7.6"
  }
 },
 "nbformat": 4,
 "nbformat_minor": 5
}
