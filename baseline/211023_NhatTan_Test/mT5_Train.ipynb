{
 "cells": [
  {
   "cell_type": "code",
   "source": [
    "# !pip install datasets sentencepiece transformers"
   ],
   "metadata": {
    "colab": {
     "base_uri": "https://localhost:8080/"
    },
    "id": "R5bsaEMy1sCw",
    "outputId": "5bf2b5c3-a6ff-41b6-8c99-736f9846315e",
    "ExecuteTime": {
     "end_time": "2023-10-22T19:56:09.797582300Z",
     "start_time": "2023-10-22T19:56:09.737819400Z"
    }
   },
   "id": "R5bsaEMy1sCw",
   "execution_count": 1,
   "outputs": []
  },
  {
   "cell_type": "code",
   "source": [
    "# from datasets import load_dataset\n",
    "# from google.colab import drive\n",
    "# from IPython.display import display\n",
    "# from IPython.html import widgets\n",
    "# import matplotlib.pyplot as plt\n",
    "# import numpy as np\n",
    "# import seaborn as sns\n",
    "# import torch\n",
    "# from torch import optim\n",
    "# from torch.nn import functional as F\n",
    "# from transformers import AdamW, AutoModelForSeq2SeqLM, AutoTokenizer\n",
    "# from transformers import get_linear_schedule_with_warmup\n",
    "# from tqdm import tqdm_notebook\n",
    "\n",
    "# sns.set()\n",
    "\n",
    "# device = torch.device(\"cuda\") if torch.cuda.is_available() else torch.device(\"cpu\")\n",
    "# print(\"Using device: %s\" % (device))"
   ],
   "metadata": {
    "id": "hgWBEeD_152L",
    "ExecuteTime": {
     "end_time": "2023-10-22T19:56:09.798582500Z",
     "start_time": "2023-10-22T19:56:09.756018Z"
    }
   },
   "id": "hgWBEeD_152L",
   "execution_count": 2,
   "outputs": []
  },
  {
   "cell_type": "code",
   "execution_count": 3,
   "id": "initial_id",
   "metadata": {
    "collapsed": true,
    "colab": {
     "base_uri": "https://localhost:8080/"
    },
    "id": "initial_id",
    "outputId": "553d3fdf-e700-404e-d217-2be413280188",
    "ExecuteTime": {
     "end_time": "2023-10-22T19:56:11.933684600Z",
     "start_time": "2023-10-22T19:56:09.756018Z"
    }
   },
   "outputs": [
    {
     "name": "stdout",
     "output_type": "stream",
     "text": [
      "Using device: cuda\n"
     ]
    }
   ],
   "source": [
    "from datasets import load_dataset\n",
    "from IPython.display import display\n",
    "import ipywidgets as widgets\n",
    "import matplotlib.pyplot as plt\n",
    "import numpy as np\n",
    "import seaborn as sns\n",
    "import torch\n",
    "from torch import optim\n",
    "from torch.nn import functional as F\n",
    "from transformers import AdamW, AutoModelForSeq2SeqLM, AutoTokenizer\n",
    "from transformers import get_linear_schedule_with_warmup\n",
    "from tqdm import tqdm_notebook\n",
    "\n",
    "sns.set()\n",
    "\n",
    "device = torch.device(\"cuda\") if torch.cuda.is_available() else torch.device(\"cpu\")\n",
    "print(\"Using device: %s\" % (device))"
   ]
  },
  {
   "cell_type": "code",
   "execution_count": 4,
   "outputs": [
    {
     "name": "stderr",
     "output_type": "stream",
     "text": [
      "You are using the default legacy behaviour of the <class 'transformers.models.t5.tokenization_t5.T5Tokenizer'>. This is expected, and simply means that the `legacy` (previous) behavior will be used so nothing changes for you. If you want to use the new behaviour, set `legacy=False`. This should only be set if you understand what it means, and thouroughly read the reason why this was added as explained in https://github.com/huggingface/transformers/pull/24565\n",
      "/usr/local/lib/python3.10/dist-packages/transformers/convert_slow_tokenizer.py:473: UserWarning: The sentencepiece tokenizer that you are converting to a fast tokenizer uses the byte fallback option which is not implemented in the fast tokenizers. In practice this means that the fast version of the tokenizer can produce unknown tokens whereas the sentencepiece version would have converted these unknown tokens into a sequence of byte tokens matching the original piece of text.\n",
      "  warnings.warn(\n"
     ]
    },
    {
     "data": {
      "text/plain": "MT5ForConditionalGeneration(\n  (shared): Embedding(250112, 768)\n  (encoder): MT5Stack(\n    (embed_tokens): Embedding(250112, 768)\n    (block): ModuleList(\n      (0): MT5Block(\n        (layer): ModuleList(\n          (0): MT5LayerSelfAttention(\n            (SelfAttention): MT5Attention(\n              (q): Linear(in_features=768, out_features=768, bias=False)\n              (k): Linear(in_features=768, out_features=768, bias=False)\n              (v): Linear(in_features=768, out_features=768, bias=False)\n              (o): Linear(in_features=768, out_features=768, bias=False)\n              (relative_attention_bias): Embedding(32, 12)\n            )\n            (layer_norm): MT5LayerNorm()\n            (dropout): Dropout(p=0.1, inplace=False)\n          )\n          (1): MT5LayerFF(\n            (DenseReluDense): MT5DenseGatedActDense(\n              (wi_0): Linear(in_features=768, out_features=2048, bias=False)\n              (wi_1): Linear(in_features=768, out_features=2048, bias=False)\n              (wo): Linear(in_features=2048, out_features=768, bias=False)\n              (dropout): Dropout(p=0.1, inplace=False)\n              (act): NewGELUActivation()\n            )\n            (layer_norm): MT5LayerNorm()\n            (dropout): Dropout(p=0.1, inplace=False)\n          )\n        )\n      )\n      (1-11): 11 x MT5Block(\n        (layer): ModuleList(\n          (0): MT5LayerSelfAttention(\n            (SelfAttention): MT5Attention(\n              (q): Linear(in_features=768, out_features=768, bias=False)\n              (k): Linear(in_features=768, out_features=768, bias=False)\n              (v): Linear(in_features=768, out_features=768, bias=False)\n              (o): Linear(in_features=768, out_features=768, bias=False)\n            )\n            (layer_norm): MT5LayerNorm()\n            (dropout): Dropout(p=0.1, inplace=False)\n          )\n          (1): MT5LayerFF(\n            (DenseReluDense): MT5DenseGatedActDense(\n              (wi_0): Linear(in_features=768, out_features=2048, bias=False)\n              (wi_1): Linear(in_features=768, out_features=2048, bias=False)\n              (wo): Linear(in_features=2048, out_features=768, bias=False)\n              (dropout): Dropout(p=0.1, inplace=False)\n              (act): NewGELUActivation()\n            )\n            (layer_norm): MT5LayerNorm()\n            (dropout): Dropout(p=0.1, inplace=False)\n          )\n        )\n      )\n    )\n    (final_layer_norm): MT5LayerNorm()\n    (dropout): Dropout(p=0.1, inplace=False)\n  )\n  (decoder): MT5Stack(\n    (embed_tokens): Embedding(250112, 768)\n    (block): ModuleList(\n      (0): MT5Block(\n        (layer): ModuleList(\n          (0): MT5LayerSelfAttention(\n            (SelfAttention): MT5Attention(\n              (q): Linear(in_features=768, out_features=768, bias=False)\n              (k): Linear(in_features=768, out_features=768, bias=False)\n              (v): Linear(in_features=768, out_features=768, bias=False)\n              (o): Linear(in_features=768, out_features=768, bias=False)\n              (relative_attention_bias): Embedding(32, 12)\n            )\n            (layer_norm): MT5LayerNorm()\n            (dropout): Dropout(p=0.1, inplace=False)\n          )\n          (1): MT5LayerCrossAttention(\n            (EncDecAttention): MT5Attention(\n              (q): Linear(in_features=768, out_features=768, bias=False)\n              (k): Linear(in_features=768, out_features=768, bias=False)\n              (v): Linear(in_features=768, out_features=768, bias=False)\n              (o): Linear(in_features=768, out_features=768, bias=False)\n            )\n            (layer_norm): MT5LayerNorm()\n            (dropout): Dropout(p=0.1, inplace=False)\n          )\n          (2): MT5LayerFF(\n            (DenseReluDense): MT5DenseGatedActDense(\n              (wi_0): Linear(in_features=768, out_features=2048, bias=False)\n              (wi_1): Linear(in_features=768, out_features=2048, bias=False)\n              (wo): Linear(in_features=2048, out_features=768, bias=False)\n              (dropout): Dropout(p=0.1, inplace=False)\n              (act): NewGELUActivation()\n            )\n            (layer_norm): MT5LayerNorm()\n            (dropout): Dropout(p=0.1, inplace=False)\n          )\n        )\n      )\n      (1-11): 11 x MT5Block(\n        (layer): ModuleList(\n          (0): MT5LayerSelfAttention(\n            (SelfAttention): MT5Attention(\n              (q): Linear(in_features=768, out_features=768, bias=False)\n              (k): Linear(in_features=768, out_features=768, bias=False)\n              (v): Linear(in_features=768, out_features=768, bias=False)\n              (o): Linear(in_features=768, out_features=768, bias=False)\n            )\n            (layer_norm): MT5LayerNorm()\n            (dropout): Dropout(p=0.1, inplace=False)\n          )\n          (1): MT5LayerCrossAttention(\n            (EncDecAttention): MT5Attention(\n              (q): Linear(in_features=768, out_features=768, bias=False)\n              (k): Linear(in_features=768, out_features=768, bias=False)\n              (v): Linear(in_features=768, out_features=768, bias=False)\n              (o): Linear(in_features=768, out_features=768, bias=False)\n            )\n            (layer_norm): MT5LayerNorm()\n            (dropout): Dropout(p=0.1, inplace=False)\n          )\n          (2): MT5LayerFF(\n            (DenseReluDense): MT5DenseGatedActDense(\n              (wi_0): Linear(in_features=768, out_features=2048, bias=False)\n              (wi_1): Linear(in_features=768, out_features=2048, bias=False)\n              (wo): Linear(in_features=2048, out_features=768, bias=False)\n              (dropout): Dropout(p=0.1, inplace=False)\n              (act): NewGELUActivation()\n            )\n            (layer_norm): MT5LayerNorm()\n            (dropout): Dropout(p=0.1, inplace=False)\n          )\n        )\n      )\n    )\n    (final_layer_norm): MT5LayerNorm()\n    (dropout): Dropout(p=0.1, inplace=False)\n  )\n  (lm_head): Linear(in_features=768, out_features=250112, bias=False)\n)"
     },
     "execution_count": 4,
     "metadata": {},
     "output_type": "execute_result"
    }
   ],
   "source": [
    "model_repo = 'google/mt5-base'\n",
    "\n",
    "tokenizer = AutoTokenizer.from_pretrained(model_repo)\n",
    "model = AutoModelForSeq2SeqLM.from_pretrained(model_repo)\n",
    "model.to(device)"
   ],
   "metadata": {
    "colab": {
     "base_uri": "https://localhost:8080/"
    },
    "id": "287ff3959c2ae6d9",
    "outputId": "fe0f4b41-6d7c-4b94-a3c4-81e4fe72e7f7",
    "ExecuteTime": {
     "end_time": "2023-10-22T19:56:23.514511700Z",
     "start_time": "2023-10-22T19:56:11.926404Z"
    }
   },
   "id": "287ff3959c2ae6d9"
  },
  {
   "cell_type": "code",
   "execution_count": 5,
   "outputs": [
    {
     "data": {
      "text/plain": "{'SNT.URLID': '80188',\n 'SNT.URLID.SNTID': '1',\n 'url': 'http://en.wikinews.org/wiki/2007_Rugby_World_Cup:_Italy_31_-_5_Portugal',\n 'translation': {'bg': 'ফ্রান্সের প্যারিসের পার্ক দি প্রিন্সেস-এ হওয়া ২০০৭-এর রাগবি বিশ্বকাপের পুল সি-তে ইটালি পর্তুগালকে ৩১-৫ গোলে হারিয়েছে।',\n  'en': 'Italy have defeated Portugal 31-5 in Pool C of the 2007 Rugby World Cup at Parc des Princes, Paris, France.',\n  'en_tok': 'Italy have defeated Portugal 31-5 in Pool C of the 2007 Rugby World Cup at Parc des Princes , Paris , France .',\n  'fil': 'Natalo ng Italya ang Portugal sa puntos na 31-5 sa Grupong C noong 2007 sa Pandaigdigang laro ng Ragbi sa Parc des Princes, Paris, France.',\n  'hi': '2007 में फ़्रांस, पेरिस के पार्क डेस प्रिंसेस में हुए रग्बी विश्व कप के पूल C में इटली ने पुर्तगाल को 31-5 से हराया।',\n  'id': 'Italia berhasil mengalahkan Portugal 31-5 di grup C dalam Piala Dunia Rugby 2007 di Parc des Princes, Paris, Perancis.',\n  'ja': 'フランスのパリ、パルク・デ・プランスで行われた2007年ラグビーワールドカップのプールCで、イタリアは31対5でポルトガルを下した。',\n  'khm': 'អ៊ីតាលីបានឈ្នះលើព័រទុយហ្គាល់ 31-5 ក្នុងប៉ូលCនៃពីធីប្រកួតពានរង្វាន់ពិភពលោកនៃកីឡាបាល់ឱបឆ្នាំ2007ដែលប្រព្រឹត្តនៅប៉ាសឌេសប្រីន ក្រុងប៉ារីស បារាំង។',\n  'lo': 'ອິຕາລີໄດ້ເສຍໃຫ້ປ໊ອກຕຸຍການ 31 ຕໍ່ 5 ໃນພູລ C ຂອງ ການແຂ່ງຂັນຣັກບີ້ລະດັບໂລກປີ 2007 ທີ່ ປາກເດແພຣັງ ປາຣີ ປະເທດຝຣັ່ງ.',\n  'ms': 'Itali telah mengalahkan Portugal 31-5 dalam Pool C pada Piala Dunia Ragbi 2007 di Parc des Princes, Paris, Perancis.',\n  'my': 'ပြင်သစ်နိုင်ငံ ပါရီမြို့ ပါ့ဒက်စ် ပရင့်စက် ၌ ၂၀၀၇ခုနှစ် ရပ်ဘီ ကမ္ဘာ့ ဖလား တွင် အီတလီ သည် ပေါ်တူဂီ ကို ၃၁-၅ ဂိုး ဖြင့် ရေကူးကန် စီ တွင် ရှုံးနိမ့်သွားပါသည် ။',\n  'th': 'อิตาลีได้เอาชนะโปรตุเกสด้วยคะแนน31ต่อ5 ในกลุ่มc ของการแข่งขันรักบี้เวิลด์คัพปี2007 ที่สนามปาร์กเดแพร็งส์ ที่กรุงปารีส ประเทศฝรั่งเศส',\n  'vi': 'Ý đã đánh bại Bồ Đào Nha với tỉ số 31-5 ở Bảng C Giải vô địch Rugby thế giới 2007 tại Parc des Princes, Pari, Pháp.',\n  'zh': '意大利在法国巴黎王子公园体育场举办的2007年橄榄球世界杯C组以31-5击败葡萄牙。'}}"
     },
     "execution_count": 5,
     "metadata": {},
     "output_type": "execute_result"
    }
   ],
   "source": [
    "dataset = load_dataset('alt')\n",
    "train_dataset = dataset['train']\n",
    "test_dataset = dataset['test']\n",
    "train_dataset[0]"
   ],
   "metadata": {
    "colab": {
     "base_uri": "https://localhost:8080/"
    },
    "id": "4a2a4de4d943870e",
    "outputId": "0ba07ce5-46c3-48a3-f484-1ba07f609578",
    "ExecuteTime": {
     "end_time": "2023-10-22T19:56:27.154445800Z",
     "start_time": "2023-10-22T19:56:23.514511700Z"
    }
   },
   "id": "4a2a4de4d943870e"
  },
  {
   "cell_type": "code",
   "execution_count": 6,
   "outputs": [],
   "source": [
    "LANG_TOKEN_MAPPING = {\n",
    "    'vi': '<vi> ',\n",
    "    'lo': '<lo> ',\n",
    "}\n",
    "\n",
    "# LANG_TOKEN_MAPPING = {\n",
    "#     'vi': 'translate Lao to Vietnamese: ',\n",
    "#     'lo': 'translate Vietnamese to Lao: ',\n",
    "# }\n",
    "\n",
    "max_seq_len = 144"
   ],
   "metadata": {
    "id": "28eee9b3efc48537",
    "ExecuteTime": {
     "end_time": "2023-10-22T19:56:27.154445800Z",
     "start_time": "2023-10-22T19:56:27.154445800Z"
    }
   },
   "id": "28eee9b3efc48537"
  },
  {
   "cell_type": "code",
   "execution_count": 7,
   "outputs": [
    {
     "name": "stdout",
     "output_type": "stream",
     "text": [
      "tensor([[ 1042,   878,   669,   363, 12093,   331,  3168,  2868,   370,   458,\n",
      "          5395,   267,  4650,   273,  2424,   259,   263,  2254,   259,  1318,\n",
      "           331,  3168,   394,  3255,  2868,   370,   458,  5395,   260,     1,\n",
      "             0,     0,     0,     0,     0,     0,     0,     0,     0,     0,\n",
      "             0,     0,     0,     0,     0,     0,     0,     0,     0,     0,\n",
      "             0,     0,     0,     0,     0,     0,     0,     0,     0,     0,\n",
      "             0,     0,     0,     0,     0,     0,     0,     0,     0,     0,\n",
      "             0,     0,     0,     0,     0,     0,     0,     0,     0,     0,\n",
      "             0,     0,     0,     0,     0,     0,     0,     0,     0,     0,\n",
      "             0,     0,     0,     0,     0,     0,     0,     0,     0,     0,\n",
      "             0,     0,     0,     0,     0,     0,     0,     0,     0,     0,\n",
      "             0,     0,     0,     0,     0,     0,     0,     0,     0,     0,\n",
      "             0,     0,     0,     0,     0,     0,     0,     0,     0,     0,\n",
      "             0,     0,     0,     0,     0,     0,     0,     0,     0,     0,\n",
      "             0,     0,     0,     0]], device='cuda:0')\n",
      "['▁<', 'lo', '>', '▁P', 'hiên', '▁d', 'ịch', '▁tiế', 'ng', '▁L', 'ào', ':', '▁câ', 'u', '▁này', '▁', 's', 'ẽ', '▁', 'được', '▁d', 'ịch', '▁th', 'ành', '▁tiế', 'ng', '▁L', 'ào', '.', '</s>', '<pad>', '<pad>', '<pad>', '<pad>', '<pad>', '<pad>', '<pad>', '<pad>', '<pad>', '<pad>', '<pad>', '<pad>', '<pad>', '<pad>', '<pad>', '<pad>', '<pad>', '<pad>', '<pad>', '<pad>', '<pad>', '<pad>', '<pad>', '<pad>', '<pad>', '<pad>', '<pad>', '<pad>', '<pad>', '<pad>', '<pad>', '<pad>', '<pad>', '<pad>', '<pad>', '<pad>', '<pad>', '<pad>', '<pad>', '<pad>', '<pad>', '<pad>', '<pad>', '<pad>', '<pad>', '<pad>', '<pad>', '<pad>', '<pad>', '<pad>', '<pad>', '<pad>', '<pad>', '<pad>', '<pad>', '<pad>', '<pad>', '<pad>', '<pad>', '<pad>', '<pad>', '<pad>', '<pad>', '<pad>', '<pad>', '<pad>', '<pad>', '<pad>', '<pad>', '<pad>', '<pad>', '<pad>', '<pad>', '<pad>', '<pad>', '<pad>', '<pad>', '<pad>', '<pad>', '<pad>', '<pad>', '<pad>', '<pad>', '<pad>', '<pad>', '<pad>', '<pad>', '<pad>', '<pad>', '<pad>', '<pad>', '<pad>', '<pad>', '<pad>', '<pad>', '<pad>', '<pad>', '<pad>', '<pad>', '<pad>', '<pad>', '<pad>', '<pad>', '<pad>', '<pad>', '<pad>', '<pad>', '<pad>', '<pad>', '<pad>', '<pad>', '<pad>', '<pad>', '<pad>']\n",
      "<lo> Phiên dịch tiếng Lào: câu này sẽ được dịch thành tiếng Lào.</s><pad><pad><pad><pad><pad><pad><pad><pad><pad><pad><pad><pad><pad><pad><pad><pad><pad><pad><pad><pad><pad><pad><pad><pad><pad><pad><pad><pad><pad><pad><pad><pad><pad><pad><pad><pad><pad><pad><pad><pad><pad><pad><pad><pad><pad><pad><pad><pad><pad><pad><pad><pad><pad><pad><pad><pad><pad><pad><pad><pad><pad><pad><pad><pad><pad><pad><pad><pad><pad><pad><pad><pad><pad><pad><pad><pad><pad><pad><pad><pad><pad><pad><pad><pad><pad><pad><pad><pad><pad><pad><pad><pad><pad><pad><pad><pad><pad><pad><pad><pad><pad><pad><pad><pad><pad><pad><pad><pad><pad><pad><pad><pad><pad><pad>\n",
      "tensor([[     0, 250099,    259,    263,   2254,    259,   1318,      1]],\n",
      "       device='cuda:0')\n",
      "['<pad>', '▁<extra_id_0>', '▁', 's', 'ẽ', '▁', 'được', '</s>']\n",
      "<pad> <extra_id_0> sẽ được</s>\n"
     ]
    }
   ],
   "source": [
    "sampleInputSentence = '<lo> Phiên dịch tiếng Lào: câu này sẽ được dịch thành tiếng Lào.'\n",
    "sampleOutputSentence = 'ແປເປັນພາສາລາວ.'\n",
    "\n",
    "tokenizerOutput = tokenizer(\n",
    "    text = sampleInputSentence,\n",
    "    text_target = sampleOutputSentence,\n",
    "    return_tensors = 'pt',\n",
    "    padding = 'max_length',\n",
    "    truncation = True,\n",
    "    max_length = max_seq_len).to(device)\n",
    "print(tokenizerOutput['input_ids'])\n",
    "print(tokenizer.convert_ids_to_tokens(tokenizerOutput['input_ids'][0]))\n",
    "print(tokenizer.decode(tokenizerOutput['input_ids'][0]))\n",
    "\n",
    "model.eval()\n",
    "modelOutput = model(tokenizerOutput['input_ids'],\n",
    "                    attention_mask = tokenizerOutput['attention_mask'],\n",
    "                    labels = tokenizerOutput['labels'])\n",
    "\n",
    "modelGenerate = model.generate(tokenizerOutput['input_ids'], max_new_tokens = max_seq_len)\n",
    "print(modelGenerate)\n",
    "\n",
    "output_text = tokenizer.decode(modelGenerate[0])\n",
    "print(tokenizer.convert_ids_to_tokens(modelGenerate[0]))\n",
    "print(output_text)"
   ],
   "metadata": {
    "colab": {
     "base_uri": "https://localhost:8080/"
    },
    "id": "41ccae6b12e557c1",
    "outputId": "f5c31feb-f7c7-4748-e92b-282c2dc1f6ee",
    "ExecuteTime": {
     "end_time": "2023-10-22T19:56:29.158616600Z",
     "start_time": "2023-10-22T19:56:27.167057400Z"
    }
   },
   "id": "41ccae6b12e557c1"
  },
  {
   "cell_type": "code",
   "execution_count": 8,
   "outputs": [],
   "source": [
    "# sorted(tokenizer.vocab.items(), key=lambda x: x[1])"
   ],
   "metadata": {
    "id": "806ff0b9b1c17a25",
    "ExecuteTime": {
     "end_time": "2023-10-22T19:56:29.172529300Z",
     "start_time": "2023-10-22T19:56:29.172529300Z"
    }
   },
   "id": "806ff0b9b1c17a25"
  },
  {
   "cell_type": "code",
   "execution_count": 9,
   "outputs": [
    {
     "data": {
      "text/plain": "Embedding(250102, 768)"
     },
     "execution_count": 9,
     "metadata": {},
     "output_type": "execute_result"
    }
   ],
   "source": [
    "special_tokens_dict = {'additional_special_tokens': list(LANG_TOKEN_MAPPING.values())}\n",
    "tokenizer.add_special_tokens(special_tokens_dict)\n",
    "model.resize_token_embeddings(len(tokenizer))"
   ],
   "metadata": {
    "colab": {
     "base_uri": "https://localhost:8080/"
    },
    "id": "bf121d70e105bbd9",
    "outputId": "cbba8b5e-eb92-4c50-b7cf-a015689fb371",
    "ExecuteTime": {
     "end_time": "2023-10-22T19:56:29.228894600Z",
     "start_time": "2023-10-22T19:56:29.222878200Z"
    }
   },
   "id": "bf121d70e105bbd9"
  },
  {
   "cell_type": "code",
   "execution_count": 10,
   "outputs": [
    {
     "name": "stdout",
     "output_type": "stream",
     "text": [
      "['<lo> ', '▁P', 'hiên', '▁d', 'ịch', '▁tiế', 'ng', '▁L', 'ào', ':', '▁câ', 'u', '▁này', '▁', 's', 'ẽ', '▁', 'được', '▁d', 'ịch', '▁th', 'ành', '▁tiế', 'ng', '▁L', 'ào', '.', '</s>', '<pad>', '<pad>', '<pad>', '<pad>', '<pad>', '<pad>', '<pad>', '<pad>', '<pad>', '<pad>', '<pad>', '<pad>', '<pad>', '<pad>', '<pad>', '<pad>', '<pad>', '<pad>', '<pad>', '<pad>', '<pad>', '<pad>', '<pad>', '<pad>', '<pad>', '<pad>', '<pad>', '<pad>', '<pad>', '<pad>', '<pad>', '<pad>', '<pad>', '<pad>', '<pad>', '<pad>', '<pad>', '<pad>', '<pad>', '<pad>', '<pad>', '<pad>', '<pad>', '<pad>', '<pad>', '<pad>', '<pad>', '<pad>', '<pad>', '<pad>', '<pad>', '<pad>', '<pad>', '<pad>', '<pad>', '<pad>', '<pad>', '<pad>', '<pad>', '<pad>', '<pad>', '<pad>', '<pad>', '<pad>', '<pad>', '<pad>', '<pad>', '<pad>', '<pad>', '<pad>', '<pad>', '<pad>', '<pad>', '<pad>', '<pad>', '<pad>', '<pad>', '<pad>', '<pad>', '<pad>', '<pad>', '<pad>', '<pad>', '<pad>', '<pad>', '<pad>', '<pad>', '<pad>', '<pad>', '<pad>', '<pad>', '<pad>', '<pad>', '<pad>', '<pad>', '<pad>', '<pad>', '<pad>', '<pad>', '<pad>', '<pad>', '<pad>', '<pad>', '<pad>', '<pad>', '<pad>', '<pad>', '<pad>', '<pad>', '<pad>', '<pad>', '<pad>', '<pad>', '<pad>', '<pad>', '<pad>']\n"
     ]
    }
   ],
   "source": [
    "tokenizerOutput = tokenizer(\n",
    "    text = sampleInputSentence,\n",
    "    text_target = sampleOutputSentence,\n",
    "    return_tensors = 'pt',\n",
    "    padding = 'max_length',\n",
    "    truncation = True,\n",
    "    max_length = max_seq_len).to(device)\n",
    "\n",
    "tokens = tokenizer.convert_ids_to_tokens(tokenizerOutput['input_ids'][0])\n",
    "print(tokens) # Make sure that the special translation token is not 'fragmented'"
   ],
   "metadata": {
    "colab": {
     "base_uri": "https://localhost:8080/"
    },
    "id": "289e8a809f64cdce",
    "outputId": "bd064d9c-9da1-447c-c9f9-aa3d69807221",
    "ExecuteTime": {
     "end_time": "2023-10-22T19:56:29.254225500Z",
     "start_time": "2023-10-22T19:56:29.227894200Z"
    }
   },
   "id": "289e8a809f64cdce"
  },
  {
   "cell_type": "code",
   "execution_count": 11,
   "outputs": [],
   "source": [
    "def encode_str(text, text_target, target_lang, tokenizer, seq_len,\n",
    "                     lang_token_map=LANG_TOKEN_MAPPING):\n",
    "\n",
    "    target_lang_token = lang_token_map[target_lang]\n",
    "\n",
    "    # Tokenize and add special tokens\n",
    "    tokenizerOutp = tokenizer(\n",
    "        text = target_lang_token + text,\n",
    "        text_target = text_target,\n",
    "        return_tensors = 'pt',\n",
    "        padding = 'max_length',\n",
    "        truncation = True,\n",
    "        max_length = seq_len)\n",
    "\n",
    "    return tokenizerOutp['input_ids'][0], tokenizerOutp['labels'][0], tokenizerOutp['attention_mask'][0]\n",
    "\n",
    "\n",
    "def format_translation_data(translations, lang_token_map,\n",
    "                            tokenizer, seq_len=max_seq_len):\n",
    "\n",
    "    # Choose a random 2 languages for in i/o\n",
    "    langs = list(lang_token_map.keys())\n",
    "    input_lang, target_lang = np.random.choice(langs, size=2, replace=False)\n",
    "\n",
    "    # Get the translations for the batch\n",
    "    input_text = translations[input_lang]\n",
    "    target_text = translations[target_lang]\n",
    "\n",
    "    if input_text is None or target_text is None:\n",
    "        return None\n",
    "\n",
    "    input_token_ids, target_token_ids, attention_mask = encode_str(\n",
    "        input_text, target_text, target_lang, tokenizer, seq_len, lang_token_map)\n",
    "\n",
    "    return input_token_ids, target_token_ids, attention_mask\n",
    "\n",
    "def transform_batch(batch, lang_token_map, tokenizer):\n",
    "    inputs = []\n",
    "    targets = []\n",
    "    attentionMask = []\n",
    "    for translation_set in batch['translation']:\n",
    "        formatted_data = format_translation_data(\n",
    "            translation_set, lang_token_map, tokenizer, max_seq_len)\n",
    "\n",
    "        if formatted_data is None:\n",
    "            continue\n",
    "\n",
    "        input_ids, target_ids, attention_mask = formatted_data\n",
    "\n",
    "        inputs.append(input_ids.unsqueeze(0))\n",
    "        targets.append(target_ids.unsqueeze(0))\n",
    "        attentionMask.append(attention_mask.unsqueeze(0))\n",
    "\n",
    "    batch_input_ids = torch.cat(inputs).cuda()\n",
    "    batch_target_ids = torch.cat(targets).cuda()\n",
    "    attentionMask = torch.cat(attentionMask).cuda()\n",
    "\n",
    "    return batch_input_ids, batch_target_ids, attentionMask\n",
    "\n",
    "def get_data_generator(dataset, lang_token_map, tokenizer, batch_size = 32):\n",
    "    dataset = dataset.shuffle()\n",
    "    for i in range(0, len(dataset), batch_size):\n",
    "        raw_batch = dataset[i:i+batch_size]\n",
    "        yield transform_batch(raw_batch, lang_token_map, tokenizer)"
   ],
   "metadata": {
    "id": "4e701fe2cee8b085",
    "ExecuteTime": {
     "end_time": "2023-10-22T19:56:29.316936200Z",
     "start_time": "2023-10-22T19:56:29.271726100Z"
    }
   },
   "id": "4e701fe2cee8b085"
  },
  {
   "cell_type": "code",
   "execution_count": 12,
   "outputs": [
    {
     "name": "stdout",
     "output_type": "stream",
     "text": [
      "<lo>  ▁ Ý ▁đ ã ▁đ ánh ▁b ại ▁B ồ ▁Đ ào ▁Nh a ▁v ới ▁ t ỉ ▁ s ố ▁3 1-5 ▁ ở ▁B ảng ▁C ▁Gi ải ▁v ô ▁đ ịch ▁ Rugby ▁th ế ▁gi ới ▁2007 ▁ t ại ▁Parc ▁des ▁Princes , ▁Pari , ▁P háp . </s> <pad> <pad> <pad> <pad> <pad> <pad> <pad> <pad> <pad> <pad> <pad> <pad> <pad> <pad> <pad> <pad> <pad> <pad> <pad> <pad> <pad> <pad> <pad> <pad> <pad> <pad> <pad> <pad> <pad> <pad> <pad> <pad> <pad> <pad> <pad> <pad> <pad> <pad> <pad> <pad> <pad> <pad> <pad> <pad> <pad> <pad> <pad> <pad> <pad> <pad> <pad> <pad> <pad> <pad> <pad> <pad> <pad> <pad> <pad> <pad> <pad> <pad> <pad> <pad> <pad> <pad> <pad> <pad> <pad> <pad> <pad> <pad> <pad> <pad> <pad> <pad> <pad> <pad> <pad> <pad> <pad> <pad> <pad> <pad> <pad> <pad> <pad> <pad>\n",
      "▁ ອິ ຕາ ລີ ໄດ້ ເສຍ ໃຫ້ ປ ໊ ອກ ຕຸ ຍ ການ ▁31 ▁ຕໍ່ ▁5 ▁ໃນ ພູ ລ ▁C ▁ຂອງ ▁ການ ແຂ່ງຂັນ ຣັ ກ ບ ີ້ ລະດັບ ໂລກ ປີ ▁2007 ▁ທີ່ ▁ ປາກ ເດ ແພ ຣັ ງ ▁ ປາ ຣີ ▁ ປະເທດ ຝ ຣ ັ່ງ . </s> <pad> <pad> <pad> <pad> <pad> <pad> <pad> <pad> <pad> <pad> <pad> <pad> <pad> <pad> <pad> <pad> <pad> <pad> <pad> <pad> <pad> <pad> <pad> <pad> <pad> <pad> <pad> <pad> <pad> <pad> <pad> <pad> <pad> <pad> <pad> <pad> <pad> <pad> <pad> <pad> <pad> <pad> <pad> <pad> <pad> <pad> <pad> <pad> <pad> <pad> <pad> <pad> <pad> <pad> <pad> <pad> <pad> <pad> <pad> <pad> <pad> <pad> <pad> <pad> <pad> <pad> <pad> <pad> <pad> <pad> <pad> <pad> <pad> <pad> <pad> <pad> <pad> <pad> <pad> <pad> <pad> <pad> <pad> <pad> <pad> <pad> <pad> <pad> <pad> <pad> <pad> <pad> <pad> <pad> <pad> <pad>\n",
      "Input shape: torch.Size([8, 144])\n",
      "Output shape: torch.Size([8, 144])\n",
      "Attention mask shape: torch.Size([8, 144])\n"
     ]
    }
   ],
   "source": [
    "# Testing `data_transform`\n",
    "in_ids, out_ids, attention_mask = format_translation_data(\n",
    "    train_dataset[0]['translation'], LANG_TOKEN_MAPPING, tokenizer)\n",
    "\n",
    "print(' '.join(tokenizer.convert_ids_to_tokens(in_ids)))\n",
    "print(' '.join(tokenizer.convert_ids_to_tokens(out_ids)))\n",
    "\n",
    "# Testing data generator\n",
    "data_gen = get_data_generator(train_dataset, LANG_TOKEN_MAPPING, tokenizer, 8)\n",
    "data_batch = next(data_gen)\n",
    "print('Input shape:', data_batch[0].shape)\n",
    "print('Output shape:', data_batch[1].shape)\n",
    "print('Attention mask shape:', data_batch[2].shape)"
   ],
   "metadata": {
    "colab": {
     "base_uri": "https://localhost:8080/"
    },
    "id": "261a97b3cc42763e",
    "outputId": "f0bff073-e899-4b67-af7d-1e8ff1ec7ef1",
    "ExecuteTime": {
     "end_time": "2023-10-22T19:56:29.327993300Z",
     "start_time": "2023-10-22T19:56:29.271726100Z"
    }
   },
   "id": "261a97b3cc42763e"
  },
  {
   "cell_type": "code",
   "execution_count": 13,
   "outputs": [],
   "source": [
    "# Constants\n",
    "n_epochs = 25\n",
    "batch_size = 32\n",
    "print_freq = 50\n",
    "checkpoint_freq = 500\n",
    "lr = 7.5e-4\n",
    "n_batches = int(np.ceil(len(train_dataset) / batch_size))\n",
    "total_steps = n_epochs * n_batches\n",
    "n_warmup_steps = int(total_steps * 0.01)"
   ],
   "metadata": {
    "id": "35f4f0bdd3f1baac",
    "ExecuteTime": {
     "end_time": "2023-10-22T19:56:29.329094400Z",
     "start_time": "2023-10-22T19:56:29.301513200Z"
    }
   },
   "id": "35f4f0bdd3f1baac"
  },
  {
   "cell_type": "code",
   "execution_count": 14,
   "outputs": [
    {
     "name": "stderr",
     "output_type": "stream",
     "text": [
      "/usr/local/lib/python3.10/dist-packages/transformers/optimization.py:411: FutureWarning: This implementation of AdamW is deprecated and will be removed in a future version. Use the PyTorch implementation torch.optim.AdamW instead, or set `no_deprecation_warning=True` to disable this warning\n",
      "  warnings.warn(\n"
     ]
    }
   ],
   "source": [
    "# Optimizer\n",
    "optimizer = AdamW(model.parameters(), lr=lr)\n",
    "scheduler = get_linear_schedule_with_warmup(\n",
    "    optimizer, n_warmup_steps, total_steps)"
   ],
   "metadata": {
    "colab": {
     "base_uri": "https://localhost:8080/"
    },
    "id": "bbfb4673ceacb61b",
    "outputId": "32cfaa8f-91d7-4695-c8b4-5701a0a7443e",
    "ExecuteTime": {
     "end_time": "2023-10-22T19:56:29.465712900Z",
     "start_time": "2023-10-22T19:56:29.313927Z"
    }
   },
   "id": "bbfb4673ceacb61b"
  },
  {
   "cell_type": "code",
   "execution_count": 15,
   "outputs": [],
   "source": [
    "losses = []\n",
    "valLosses = []"
   ],
   "metadata": {
    "id": "c34682d5d20e07ff",
    "ExecuteTime": {
     "end_time": "2023-10-22T19:56:29.465712900Z",
     "start_time": "2023-10-22T19:56:29.464681500Z"
    }
   },
   "id": "c34682d5d20e07ff"
  },
  {
   "cell_type": "code",
   "execution_count": 16,
   "outputs": [],
   "source": [
    "def eval_model(model, gdataset, max_iters=8):\n",
    "    \n",
    "    model.eval()\n",
    "    test_generator = get_data_generator(gdataset, LANG_TOKEN_MAPPING,\n",
    "                                      tokenizer, batch_size)\n",
    "    eval_losses = []\n",
    "    for i, (input_batch, label_batch, attention_mask_batch) in enumerate(test_generator):\n",
    "        if i >= max_iters:\n",
    "            break\n",
    "    \n",
    "        model_out = model(\n",
    "            input_ids = input_batch,\n",
    "            labels = label_batch,\n",
    "            attention_mask = attention_mask_batch)\n",
    "        eval_losses.append(model_out.loss.item())\n",
    "    \n",
    "    return np.mean(eval_losses)"
   ],
   "metadata": {
    "id": "94450606090b3174",
    "ExecuteTime": {
     "end_time": "2023-10-22T19:56:29.479677700Z",
     "start_time": "2023-10-22T19:56:29.478661900Z"
    }
   },
   "id": "94450606090b3174"
  },
  {
   "cell_type": "code",
   "execution_count": 17,
   "outputs": [],
   "source": [
    "model_path = 'mT5FineTunedEpoch{}.pt'"
   ],
   "metadata": {
    "collapsed": false,
    "ExecuteTime": {
     "end_time": "2023-10-22T19:56:29.519656600Z",
     "start_time": "2023-10-22T19:56:29.488353500Z"
    }
   },
   "id": "8eb86801385cb123"
  },
  {
   "cell_type": "code",
   "execution_count": 18,
   "outputs": [
    {
     "name": "stderr",
     "output_type": "stream",
     "text": [
      "/tmp/ipykernel_8838/3895180792.py:7: TqdmDeprecationWarning: This function will be removed in tqdm==5.0.0\n",
      "Please use `tqdm.notebook.tqdm` instead of `tqdm.tqdm_notebook`\n",
      "  in tqdm_notebook(enumerate(data_generator), total=n_batches):\n"
     ]
    },
    {
     "data": {
      "text/plain": "  0%|          | 0/566 [00:00<?, ?it/s]",
      "application/vnd.jupyter.widget-view+json": {
       "version_major": 2,
       "version_minor": 0,
       "model_id": "72a5927557b340f8a2fe6b6b7c49cdb4"
      }
     },
     "metadata": {},
     "output_type": "display_data"
    },
    {
     "name": "stdout",
     "output_type": "stream",
     "text": [
      "Epoch: 1 | Step: 50/566 | Avg. loss: 19.578 | lr: 0.00026595744680851064\n",
      "Epoch: 1 | Step: 100/566 | Avg. loss: 3.492 | lr: 0.0005319148936170213\n",
      "Epoch: 1 | Step: 150/566 | Avg. loss: 2.502 | lr: 0.0007495181668927118\n",
      "Epoch: 1 | Step: 200/566 | Avg. loss: 2.202 | lr: 0.0007468413162966664\n",
      "Epoch: 1 | Step: 250/566 | Avg. loss: 2.068 | lr: 0.000744164465700621\n",
      "Epoch: 1 | Step: 300/566 | Avg. loss: 1.974 | lr: 0.0007414876151045757\n",
      "Epoch: 1 | Step: 350/566 | Avg. loss: 1.918 | lr: 0.0007388107645085302\n",
      "Epoch: 1 | Step: 400/566 | Avg. loss: 1.795 | lr: 0.0007361339139124849\n",
      "Epoch: 1 | Step: 450/566 | Avg. loss: 1.745 | lr: 0.0007334570633164394\n",
      "Epoch: 1 | Step: 500/566 | Avg. loss: 1.700 | lr: 0.000730780212720394\n",
      "Saving model with test loss of 1.709\n",
      "Epoch: 1 | Step: 550/566 | Avg. loss: 1.646 | lr: 0.0007281033621243486\n"
     ]
    },
    {
     "data": {
      "text/plain": "  0%|          | 0/566 [00:00<?, ?it/s]",
      "application/vnd.jupyter.widget-view+json": {
       "version_major": 2,
       "version_minor": 0,
       "model_id": "b6975617e5b14c528ffb986f4ab58e3c"
      }
     },
     "metadata": {},
     "output_type": "display_data"
    },
    {
     "name": "stdout",
     "output_type": "stream",
     "text": [
      "Epoch: 2 | Step: 50/566 | Avg. loss: 1.573 | lr: 0.0007245699193375687\n",
      "Epoch: 2 | Step: 100/566 | Avg. loss: 1.511 | lr: 0.0007218930687415234\n",
      "Epoch: 2 | Step: 150/566 | Avg. loss: 1.464 | lr: 0.0007192162181454779\n",
      "Epoch: 2 | Step: 200/566 | Avg. loss: 1.434 | lr: 0.0007165393675494326\n",
      "Epoch: 2 | Step: 250/566 | Avg. loss: 1.407 | lr: 0.0007138625169533871\n",
      "Epoch: 2 | Step: 300/566 | Avg. loss: 1.365 | lr: 0.0007111856663573417\n",
      "Epoch: 2 | Step: 350/566 | Avg. loss: 1.326 | lr: 0.0007085088157612963\n",
      "Epoch: 2 | Step: 400/566 | Avg. loss: 1.326 | lr: 0.000705831965165251\n",
      "Epoch: 2 | Step: 450/566 | Avg. loss: 1.318 | lr: 0.0007031551145692055\n",
      "Epoch: 2 | Step: 500/566 | Avg. loss: 1.294 | lr: 0.0007004782639731601\n",
      "Saving model with test loss of 1.282\n",
      "Epoch: 2 | Step: 550/566 | Avg. loss: 1.266 | lr: 0.0006978014133771147\n"
     ]
    },
    {
     "data": {
      "text/plain": "  0%|          | 0/566 [00:00<?, ?it/s]",
      "application/vnd.jupyter.widget-view+json": {
       "version_major": 2,
       "version_minor": 0,
       "model_id": "e496acdf83e6438fb2c91448f070f02c"
      }
     },
     "metadata": {},
     "output_type": "display_data"
    },
    {
     "name": "stdout",
     "output_type": "stream",
     "text": [
      "Epoch: 3 | Step: 50/566 | Avg. loss: 1.234 | lr: 0.0006942679705903348\n",
      "Epoch: 3 | Step: 100/566 | Avg. loss: 1.233 | lr: 0.0006915911199942893\n",
      "Epoch: 3 | Step: 150/566 | Avg. loss: 1.225 | lr: 0.000688914269398244\n",
      "Epoch: 3 | Step: 200/566 | Avg. loss: 1.206 | lr: 0.0006862374188021986\n",
      "Epoch: 3 | Step: 250/566 | Avg. loss: 1.189 | lr: 0.0006835605682061532\n",
      "Epoch: 3 | Step: 300/566 | Avg. loss: 1.166 | lr: 0.0006808837176101078\n",
      "Epoch: 3 | Step: 350/566 | Avg. loss: 1.179 | lr: 0.0006782068670140624\n",
      "Epoch: 3 | Step: 400/566 | Avg. loss: 1.166 | lr: 0.000675530016418017\n",
      "Epoch: 3 | Step: 450/566 | Avg. loss: 1.200 | lr: 0.0006728531658219716\n",
      "Epoch: 3 | Step: 500/566 | Avg. loss: 1.160 | lr: 0.0006701763152259263\n",
      "Saving model with test loss of 1.192\n",
      "Epoch: 3 | Step: 550/566 | Avg. loss: 1.176 | lr: 0.0006674994646298808\n"
     ]
    },
    {
     "data": {
      "text/plain": "  0%|          | 0/566 [00:00<?, ?it/s]",
      "application/vnd.jupyter.widget-view+json": {
       "version_major": 2,
       "version_minor": 0,
       "model_id": "bc69679d491b4ab69acb3e5f85c4d468"
      }
     },
     "metadata": {},
     "output_type": "display_data"
    },
    {
     "name": "stdout",
     "output_type": "stream",
     "text": [
      "Epoch: 4 | Step: 50/566 | Avg. loss: 1.125 | lr: 0.0006639660218431009\n",
      "Epoch: 4 | Step: 100/566 | Avg. loss: 1.126 | lr: 0.0006612891712470555\n",
      "Epoch: 4 | Step: 150/566 | Avg. loss: 1.113 | lr: 0.0006586123206510101\n",
      "Epoch: 4 | Step: 200/566 | Avg. loss: 1.125 | lr: 0.0006559354700549646\n",
      "Epoch: 4 | Step: 250/566 | Avg. loss: 1.101 | lr: 0.0006532586194589193\n",
      "Epoch: 4 | Step: 300/566 | Avg. loss: 1.099 | lr: 0.0006505817688628739\n",
      "Epoch: 4 | Step: 350/566 | Avg. loss: 1.110 | lr: 0.0006479049182668285\n",
      "Epoch: 4 | Step: 400/566 | Avg. loss: 1.113 | lr: 0.000645228067670783\n",
      "Epoch: 4 | Step: 450/566 | Avg. loss: 1.105 | lr: 0.0006425512170747376\n",
      "Epoch: 4 | Step: 500/566 | Avg. loss: 1.125 | lr: 0.0006398743664786924\n",
      "Saving model with test loss of 1.156\n",
      "Epoch: 4 | Step: 550/566 | Avg. loss: 1.093 | lr: 0.0006371975158826469\n"
     ]
    },
    {
     "data": {
      "text/plain": "  0%|          | 0/566 [00:00<?, ?it/s]",
      "application/vnd.jupyter.widget-view+json": {
       "version_major": 2,
       "version_minor": 0,
       "model_id": "30096e06974a43fdbbe4fc75749e863e"
      }
     },
     "metadata": {},
     "output_type": "display_data"
    },
    {
     "name": "stdout",
     "output_type": "stream",
     "text": [
      "Epoch: 5 | Step: 50/566 | Avg. loss: 1.056 | lr: 0.000633664073095867\n",
      "Epoch: 5 | Step: 100/566 | Avg. loss: 1.066 | lr: 0.0006309872224998216\n",
      "Epoch: 5 | Step: 150/566 | Avg. loss: 1.059 | lr: 0.0006283103719037762\n",
      "Epoch: 5 | Step: 200/566 | Avg. loss: 1.051 | lr: 0.0006256335213077307\n",
      "Epoch: 5 | Step: 250/566 | Avg. loss: 1.062 | lr: 0.0006229566707116853\n",
      "Epoch: 5 | Step: 300/566 | Avg. loss: 1.045 | lr: 0.00062027982011564\n",
      "Epoch: 5 | Step: 350/566 | Avg. loss: 1.065 | lr: 0.0006176029695195946\n",
      "Epoch: 5 | Step: 400/566 | Avg. loss: 1.053 | lr: 0.0006149261189235491\n",
      "Epoch: 5 | Step: 450/566 | Avg. loss: 1.036 | lr: 0.0006122492683275038\n",
      "Epoch: 5 | Step: 500/566 | Avg. loss: 1.070 | lr: 0.0006095724177314583\n",
      "Saving model with test loss of 1.156\n",
      "Epoch: 5 | Step: 550/566 | Avg. loss: 1.047 | lr: 0.0006068955671354129\n"
     ]
    },
    {
     "data": {
      "text/plain": "  0%|          | 0/566 [00:00<?, ?it/s]",
      "application/vnd.jupyter.widget-view+json": {
       "version_major": 2,
       "version_minor": 0,
       "model_id": "df223b48279a4e65bd16ec80aab78529"
      }
     },
     "metadata": {},
     "output_type": "display_data"
    },
    {
     "name": "stdout",
     "output_type": "stream",
     "text": [
      "Epoch: 6 | Step: 50/566 | Avg. loss: 1.012 | lr: 0.000603362124348633\n",
      "Epoch: 6 | Step: 100/566 | Avg. loss: 1.004 | lr: 0.0006006852737525877\n",
      "Epoch: 6 | Step: 150/566 | Avg. loss: 1.015 | lr: 0.0005980084231565423\n",
      "Epoch: 6 | Step: 200/566 | Avg. loss: 1.007 | lr: 0.0005953315725604968\n",
      "Epoch: 6 | Step: 250/566 | Avg. loss: 1.000 | lr: 0.0005926547219644515\n",
      "Epoch: 6 | Step: 300/566 | Avg. loss: 0.995 | lr: 0.000589977871368406\n",
      "Epoch: 6 | Step: 350/566 | Avg. loss: 1.012 | lr: 0.0005873010207723606\n",
      "Epoch: 6 | Step: 400/566 | Avg. loss: 0.997 | lr: 0.0005846241701763153\n",
      "Epoch: 6 | Step: 450/566 | Avg. loss: 0.991 | lr: 0.0005819473195802699\n",
      "Epoch: 6 | Step: 500/566 | Avg. loss: 0.983 | lr: 0.0005792704689842244\n",
      "Saving model with test loss of 1.134\n",
      "Epoch: 6 | Step: 550/566 | Avg. loss: 1.005 | lr: 0.000576593618388179\n"
     ]
    },
    {
     "data": {
      "text/plain": "  0%|          | 0/566 [00:00<?, ?it/s]",
      "application/vnd.jupyter.widget-view+json": {
       "version_major": 2,
       "version_minor": 0,
       "model_id": "07d13288dfde4cee9a1c4b061bf8d0c9"
      }
     },
     "metadata": {},
     "output_type": "display_data"
    },
    {
     "name": "stdout",
     "output_type": "stream",
     "text": [
      "Epoch: 7 | Step: 50/566 | Avg. loss: 0.933 | lr: 0.0005730601756013991\n",
      "Epoch: 7 | Step: 100/566 | Avg. loss: 0.943 | lr: 0.0005703833250053537\n",
      "Epoch: 7 | Step: 150/566 | Avg. loss: 0.936 | lr: 0.0005677064744093082\n",
      "Epoch: 7 | Step: 200/566 | Avg. loss: 0.928 | lr: 0.000565029623813263\n",
      "Epoch: 7 | Step: 250/566 | Avg. loss: 0.939 | lr: 0.0005623527732172175\n",
      "Epoch: 7 | Step: 300/566 | Avg. loss: 0.925 | lr: 0.0005596759226211721\n",
      "Epoch: 7 | Step: 350/566 | Avg. loss: 0.914 | lr: 0.0005569990720251267\n",
      "Epoch: 7 | Step: 400/566 | Avg. loss: 0.948 | lr: 0.0005543222214290813\n",
      "Epoch: 7 | Step: 450/566 | Avg. loss: 0.946 | lr: 0.000551645370833036\n",
      "Epoch: 7 | Step: 500/566 | Avg. loss: 0.981 | lr: 0.0005489685202369905\n",
      "Saving model with test loss of 1.127\n",
      "Epoch: 7 | Step: 550/566 | Avg. loss: 1.206 | lr: 0.0005462916696409452\n"
     ]
    },
    {
     "data": {
      "text/plain": "  0%|          | 0/566 [00:00<?, ?it/s]",
      "application/vnd.jupyter.widget-view+json": {
       "version_major": 2,
       "version_minor": 0,
       "model_id": "39e31fd48f2e476db696c503cc1c74be"
      }
     },
     "metadata": {},
     "output_type": "display_data"
    },
    {
     "name": "stdout",
     "output_type": "stream",
     "text": [
      "Epoch: 8 | Step: 50/566 | Avg. loss: 0.899 | lr: 0.0005427582268541652\n",
      "Epoch: 8 | Step: 100/566 | Avg. loss: 0.874 | lr: 0.0005400813762581198\n",
      "Epoch: 8 | Step: 150/566 | Avg. loss: 0.847 | lr: 0.0005374045256620744\n",
      "Epoch: 8 | Step: 200/566 | Avg. loss: 0.810 | lr: 0.000534727675066029\n",
      "Epoch: 8 | Step: 250/566 | Avg. loss: 0.785 | lr: 0.0005320508244699836\n",
      "Epoch: 8 | Step: 300/566 | Avg. loss: 0.770 | lr: 0.0005293739738739382\n",
      "Epoch: 8 | Step: 350/566 | Avg. loss: 0.769 | lr: 0.0005266971232778928\n",
      "Epoch: 8 | Step: 400/566 | Avg. loss: 0.751 | lr: 0.0005240202726818474\n",
      "Epoch: 8 | Step: 450/566 | Avg. loss: 0.750 | lr: 0.0005213434220858019\n",
      "Epoch: 8 | Step: 500/566 | Avg. loss: 0.739 | lr: 0.0005186665714897567\n",
      "Saving model with test loss of 0.882\n",
      "Epoch: 8 | Step: 550/566 | Avg. loss: 0.757 | lr: 0.0005159897208937112\n"
     ]
    },
    {
     "data": {
      "text/plain": "  0%|          | 0/566 [00:00<?, ?it/s]",
      "application/vnd.jupyter.widget-view+json": {
       "version_major": 2,
       "version_minor": 0,
       "model_id": "0ba7e8eb07a44291a04031c8270f32ca"
      }
     },
     "metadata": {},
     "output_type": "display_data"
    },
    {
     "name": "stdout",
     "output_type": "stream",
     "text": [
      "Epoch: 9 | Step: 50/566 | Avg. loss: 0.675 | lr: 0.0005124562781069313\n",
      "Epoch: 9 | Step: 100/566 | Avg. loss: 0.692 | lr: 0.0005097794275108859\n",
      "Epoch: 9 | Step: 150/566 | Avg. loss: 0.679 | lr: 0.0005071025769148405\n",
      "Epoch: 9 | Step: 200/566 | Avg. loss: 0.685 | lr: 0.0005044257263187951\n",
      "Epoch: 9 | Step: 250/566 | Avg. loss: 0.683 | lr: 0.0005017488757227496\n",
      "Epoch: 9 | Step: 300/566 | Avg. loss: 0.670 | lr: 0.0004990720251267042\n",
      "Epoch: 9 | Step: 350/566 | Avg. loss: 0.665 | lr: 0.0004963951745306589\n",
      "Epoch: 9 | Step: 400/566 | Avg. loss: 0.662 | lr: 0.0004937183239346135\n",
      "Epoch: 9 | Step: 450/566 | Avg. loss: 0.652 | lr: 0.000491041473338568\n",
      "Epoch: 9 | Step: 500/566 | Avg. loss: 0.656 | lr: 0.0004883646227425227\n",
      "Saving model with test loss of 0.796\n",
      "Epoch: 9 | Step: 550/566 | Avg. loss: 0.663 | lr: 0.00048568777214647724\n"
     ]
    },
    {
     "data": {
      "text/plain": "  0%|          | 0/566 [00:00<?, ?it/s]",
      "application/vnd.jupyter.widget-view+json": {
       "version_major": 2,
       "version_minor": 0,
       "model_id": "2b860257333d4926a02876032a1e41d6"
      }
     },
     "metadata": {},
     "output_type": "display_data"
    },
    {
     "name": "stdout",
     "output_type": "stream",
     "text": [
      "Epoch: 10 | Step: 50/566 | Avg. loss: 0.592 | lr: 0.0004821543293596974\n",
      "Epoch: 10 | Step: 100/566 | Avg. loss: 0.593 | lr: 0.0004794774787636519\n",
      "Epoch: 10 | Step: 150/566 | Avg. loss: 0.582 | lr: 0.00047680062816760657\n",
      "Epoch: 10 | Step: 200/566 | Avg. loss: 0.602 | lr: 0.00047412377757156114\n",
      "Epoch: 10 | Step: 250/566 | Avg. loss: 0.582 | lr: 0.00047144692697551576\n",
      "Epoch: 10 | Step: 300/566 | Avg. loss: 0.594 | lr: 0.0004687700763794704\n",
      "Epoch: 10 | Step: 350/566 | Avg. loss: 0.608 | lr: 0.00046609322578342494\n",
      "Epoch: 10 | Step: 400/566 | Avg. loss: 0.593 | lr: 0.00046341637518737956\n",
      "Epoch: 10 | Step: 450/566 | Avg. loss: 0.601 | lr: 0.0004607395245913341\n",
      "Epoch: 10 | Step: 500/566 | Avg. loss: 0.592 | lr: 0.0004580626739952888\n",
      "Saving model with test loss of 0.780\n",
      "Epoch: 10 | Step: 550/566 | Avg. loss: 0.593 | lr: 0.0004553858233992433\n"
     ]
    },
    {
     "data": {
      "text/plain": "  0%|          | 0/566 [00:00<?, ?it/s]",
      "application/vnd.jupyter.widget-view+json": {
       "version_major": 2,
       "version_minor": 0,
       "model_id": "d2b4ddf555184678ab995f2a075fcec8"
      }
     },
     "metadata": {},
     "output_type": "display_data"
    },
    {
     "name": "stdout",
     "output_type": "stream",
     "text": [
      "Epoch: 11 | Step: 50/566 | Avg. loss: 0.518 | lr: 0.00045185238061246346\n",
      "Epoch: 11 | Step: 100/566 | Avg. loss: 0.523 | lr: 0.000449175530016418\n",
      "Epoch: 11 | Step: 150/566 | Avg. loss: 0.526 | lr: 0.00044649867942037264\n",
      "Epoch: 11 | Step: 200/566 | Avg. loss: 0.526 | lr: 0.0004438218288243272\n",
      "Epoch: 11 | Step: 250/566 | Avg. loss: 0.531 | lr: 0.00044114497822828183\n",
      "Epoch: 11 | Step: 300/566 | Avg. loss: 0.537 | lr: 0.0004384681276322364\n",
      "Epoch: 11 | Step: 350/566 | Avg. loss: 0.541 | lr: 0.000435791277036191\n",
      "Epoch: 11 | Step: 400/566 | Avg. loss: 0.548 | lr: 0.0004331144264401456\n",
      "Epoch: 11 | Step: 450/566 | Avg. loss: 0.539 | lr: 0.00043043757584410025\n",
      "Epoch: 11 | Step: 500/566 | Avg. loss: 0.551 | lr: 0.0004277607252480549\n",
      "Saving model with test loss of 0.819\n"
     ]
    },
    {
     "ename": "KeyboardInterrupt",
     "evalue": "",
     "output_type": "error",
     "traceback": [
      "\u001B[0;31m---------------------------------------------------------------------------\u001B[0m",
      "\u001B[0;31mKeyboardInterrupt\u001B[0m                         Traceback (most recent call last)",
      "Cell \u001B[0;32mIn[18], line 20\u001B[0m\n\u001B[1;32m     18\u001B[0m losses\u001B[38;5;241m.\u001B[39mappend(loss\u001B[38;5;241m.\u001B[39mitem())\n\u001B[1;32m     19\u001B[0m loss\u001B[38;5;241m.\u001B[39mbackward()\n\u001B[0;32m---> 20\u001B[0m \u001B[43moptimizer\u001B[49m\u001B[38;5;241;43m.\u001B[39;49m\u001B[43mstep\u001B[49m\u001B[43m(\u001B[49m\u001B[43m)\u001B[49m\n\u001B[1;32m     21\u001B[0m scheduler\u001B[38;5;241m.\u001B[39mstep()\n\u001B[1;32m     23\u001B[0m \u001B[38;5;66;03m# Print training update info\u001B[39;00m\n",
      "File \u001B[0;32m/usr/local/lib/python3.10/dist-packages/torch/optim/lr_scheduler.py:68\u001B[0m, in \u001B[0;36mLRScheduler.__init__.<locals>.with_counter.<locals>.wrapper\u001B[0;34m(*args, **kwargs)\u001B[0m\n\u001B[1;32m     66\u001B[0m instance\u001B[38;5;241m.\u001B[39m_step_count \u001B[38;5;241m+\u001B[39m\u001B[38;5;241m=\u001B[39m \u001B[38;5;241m1\u001B[39m\n\u001B[1;32m     67\u001B[0m wrapped \u001B[38;5;241m=\u001B[39m func\u001B[38;5;241m.\u001B[39m\u001B[38;5;21m__get__\u001B[39m(instance, \u001B[38;5;28mcls\u001B[39m)\n\u001B[0;32m---> 68\u001B[0m \u001B[38;5;28;01mreturn\u001B[39;00m \u001B[43mwrapped\u001B[49m\u001B[43m(\u001B[49m\u001B[38;5;241;43m*\u001B[39;49m\u001B[43margs\u001B[49m\u001B[43m,\u001B[49m\u001B[43m \u001B[49m\u001B[38;5;241;43m*\u001B[39;49m\u001B[38;5;241;43m*\u001B[39;49m\u001B[43mkwargs\u001B[49m\u001B[43m)\u001B[49m\n",
      "File \u001B[0;32m/usr/local/lib/python3.10/dist-packages/torch/optim/optimizer.py:373\u001B[0m, in \u001B[0;36mOptimizer.profile_hook_step.<locals>.wrapper\u001B[0;34m(*args, **kwargs)\u001B[0m\n\u001B[1;32m    368\u001B[0m         \u001B[38;5;28;01melse\u001B[39;00m:\n\u001B[1;32m    369\u001B[0m             \u001B[38;5;28;01mraise\u001B[39;00m \u001B[38;5;167;01mRuntimeError\u001B[39;00m(\n\u001B[1;32m    370\u001B[0m                 \u001B[38;5;124mf\u001B[39m\u001B[38;5;124m\"\u001B[39m\u001B[38;5;132;01m{\u001B[39;00mfunc\u001B[38;5;132;01m}\u001B[39;00m\u001B[38;5;124m must return None or a tuple of (new_args, new_kwargs), but got \u001B[39m\u001B[38;5;132;01m{\u001B[39;00mresult\u001B[38;5;132;01m}\u001B[39;00m\u001B[38;5;124m.\u001B[39m\u001B[38;5;124m\"\u001B[39m\n\u001B[1;32m    371\u001B[0m             )\n\u001B[0;32m--> 373\u001B[0m out \u001B[38;5;241m=\u001B[39m \u001B[43mfunc\u001B[49m\u001B[43m(\u001B[49m\u001B[38;5;241;43m*\u001B[39;49m\u001B[43margs\u001B[49m\u001B[43m,\u001B[49m\u001B[43m \u001B[49m\u001B[38;5;241;43m*\u001B[39;49m\u001B[38;5;241;43m*\u001B[39;49m\u001B[43mkwargs\u001B[49m\u001B[43m)\u001B[49m\n\u001B[1;32m    374\u001B[0m \u001B[38;5;28mself\u001B[39m\u001B[38;5;241m.\u001B[39m_optimizer_step_code()\n\u001B[1;32m    376\u001B[0m \u001B[38;5;66;03m# call optimizer step post hooks\u001B[39;00m\n",
      "File \u001B[0;32m/usr/local/lib/python3.10/dist-packages/torch/utils/_contextlib.py:115\u001B[0m, in \u001B[0;36mcontext_decorator.<locals>.decorate_context\u001B[0;34m(*args, **kwargs)\u001B[0m\n\u001B[1;32m    112\u001B[0m \u001B[38;5;129m@functools\u001B[39m\u001B[38;5;241m.\u001B[39mwraps(func)\n\u001B[1;32m    113\u001B[0m \u001B[38;5;28;01mdef\u001B[39;00m \u001B[38;5;21mdecorate_context\u001B[39m(\u001B[38;5;241m*\u001B[39margs, \u001B[38;5;241m*\u001B[39m\u001B[38;5;241m*\u001B[39mkwargs):\n\u001B[1;32m    114\u001B[0m     \u001B[38;5;28;01mwith\u001B[39;00m ctx_factory():\n\u001B[0;32m--> 115\u001B[0m         \u001B[38;5;28;01mreturn\u001B[39;00m \u001B[43mfunc\u001B[49m\u001B[43m(\u001B[49m\u001B[38;5;241;43m*\u001B[39;49m\u001B[43margs\u001B[49m\u001B[43m,\u001B[49m\u001B[43m \u001B[49m\u001B[38;5;241;43m*\u001B[39;49m\u001B[38;5;241;43m*\u001B[39;49m\u001B[43mkwargs\u001B[49m\u001B[43m)\u001B[49m\n",
      "File \u001B[0;32m/usr/local/lib/python3.10/dist-packages/transformers/optimization.py:468\u001B[0m, in \u001B[0;36mAdamW.step\u001B[0;34m(self, closure)\u001B[0m\n\u001B[1;32m    466\u001B[0m exp_avg\u001B[38;5;241m.\u001B[39mmul_(beta1)\u001B[38;5;241m.\u001B[39madd_(grad, alpha\u001B[38;5;241m=\u001B[39m(\u001B[38;5;241m1.0\u001B[39m \u001B[38;5;241m-\u001B[39m beta1))\n\u001B[1;32m    467\u001B[0m exp_avg_sq\u001B[38;5;241m.\u001B[39mmul_(beta2)\u001B[38;5;241m.\u001B[39maddcmul_(grad, grad, value\u001B[38;5;241m=\u001B[39m\u001B[38;5;241m1.0\u001B[39m \u001B[38;5;241m-\u001B[39m beta2)\n\u001B[0;32m--> 468\u001B[0m denom \u001B[38;5;241m=\u001B[39m \u001B[43mexp_avg_sq\u001B[49m\u001B[38;5;241;43m.\u001B[39;49m\u001B[43msqrt\u001B[49m\u001B[43m(\u001B[49m\u001B[43m)\u001B[49m\u001B[38;5;241m.\u001B[39madd_(group[\u001B[38;5;124m\"\u001B[39m\u001B[38;5;124meps\u001B[39m\u001B[38;5;124m\"\u001B[39m])\n\u001B[1;32m    470\u001B[0m step_size \u001B[38;5;241m=\u001B[39m group[\u001B[38;5;124m\"\u001B[39m\u001B[38;5;124mlr\u001B[39m\u001B[38;5;124m\"\u001B[39m]\n\u001B[1;32m    471\u001B[0m \u001B[38;5;28;01mif\u001B[39;00m group[\u001B[38;5;124m\"\u001B[39m\u001B[38;5;124mcorrect_bias\u001B[39m\u001B[38;5;124m\"\u001B[39m]:  \u001B[38;5;66;03m# No bias correction for Bert\u001B[39;00m\n",
      "\u001B[0;31mKeyboardInterrupt\u001B[0m: "
     ]
    }
   ],
   "source": [
    "for epoch_idx in range(n_epochs):\n",
    "    # Randomize data order\n",
    "    data_generator = get_data_generator(train_dataset, LANG_TOKEN_MAPPING,\n",
    "                                      tokenizer, batch_size)\n",
    "    \n",
    "    for batch_idx, (input_batch, label_batch, attention_mask_batch) \\\n",
    "            in tqdm_notebook(enumerate(data_generator), total=n_batches):\n",
    "        \n",
    "        model.train()\n",
    "        optimizer.zero_grad()\n",
    "        \n",
    "        # Forward pass\n",
    "        model_out = model(\n",
    "            input_ids = input_batch,\n",
    "            labels = label_batch,\n",
    "            attention_mask = attention_mask_batch)\n",
    "        \n",
    "        # Calculate loss and update weights\n",
    "        loss = model_out.loss\n",
    "        losses.append(loss.item())\n",
    "        loss.backward()\n",
    "        optimizer.step()\n",
    "        scheduler.step()\n",
    "        \n",
    "        # Print training update info\n",
    "        if (batch_idx + 1) % print_freq == 0:\n",
    "          avg_loss = np.mean(losses[-print_freq:])\n",
    "          print('Epoch: {} | Step: {}/{} | Avg. loss: {:.3f} | lr: {}'.format(\n",
    "              epoch_idx+1, batch_idx+1, n_batches, avg_loss, scheduler.get_last_lr()[0]))\n",
    "        \n",
    "        if (batch_idx + 1) % checkpoint_freq == 0:\n",
    "          test_loss = eval_model(model, test_dataset)\n",
    "          valLosses.append(test_loss)\n",
    "          print('Saving model with test loss of {:.3f}'.format(test_loss))\n",
    "          # torch.save(model.state_dict(), model_path.format(epoch_idx + 1))\n",
    "\n",
    "torch.save(model.state_dict(), model_path.format(epoch_idx + 1))"
   ],
   "metadata": {
    "colab": {
     "base_uri": "https://localhost:8080/",
     "height": 509,
     "referenced_widgets": [
      "a59a50f9c94346bb8ef776123b98c25b",
      "530bbbae71704b05bc26a1a32464db48",
      "6cca1a6623c2442dba4dec4272864f0b",
      "4575474b9aa1416c96d4001c62c6ff6c",
      "712f2fb965724879917e0cf1cb4e060f",
      "fada498686f64046872c84685db0aac4",
      "59d63e35dd01417daa742aea2fbb4afd",
      "f0215d0feb204d329d1107ae1e01181d",
      "a89fcd8a208746d2ba5831b30e11478e",
      "5cb8ee7150474e7b9ab476f943e4120f",
      "25391ae2f0a749c0a53a2c6b890f1295"
     ]
    },
    "id": "1245a9debe3b593f",
    "outputId": "7cb12166-48b8-48ca-dc03-da52fc9a5308",
    "ExecuteTime": {
     "end_time": "2023-10-22T20:30:33.581067300Z",
     "start_time": "2023-10-22T19:56:29.504440200Z"
    }
   },
   "id": "1245a9debe3b593f"
  },
  {
   "cell_type": "code",
   "execution_count": 19,
   "outputs": [
    {
     "data": {
      "text/plain": "[<matplotlib.lines.Line2D at 0x7fa08c1cd270>]"
     },
     "execution_count": 19,
     "metadata": {},
     "output_type": "execute_result"
    },
    {
     "data": {
      "text/plain": "<Figure size 640x480 with 1 Axes>",
      "image/png": "[encoded data removed]"
     },
     "metadata": {},
     "output_type": "display_data"
    }
   ],
   "source": [
    "# Graph the loss\n",
    "\n",
    "window_size = 50\n",
    "smoothed_losses = []\n",
    "for i in range(len(losses)-window_size):\n",
    "  smoothed_losses.append(np.mean(losses[i:i+window_size]))\n",
    "\n",
    "plt.plot(smoothed_losses[100:])"
   ],
   "metadata": {
    "id": "9bee917a62920671",
    "ExecuteTime": {
     "end_time": "2023-10-22T20:30:36.622375700Z",
     "start_time": "2023-10-22T20:30:36.235672800Z"
    }
   },
   "id": "9bee917a62920671"
  },
  {
   "cell_type": "code",
   "execution_count": 20,
   "outputs": [
    {
     "data": {
      "text/plain": "[<matplotlib.lines.Line2D at 0x7fa07c1286d0>]"
     },
     "execution_count": 20,
     "metadata": {},
     "output_type": "execute_result"
    },
    {
     "data": {
      "text/plain": "<Figure size 640x480 with 1 Axes>",
      "image/png": "[encoded data removed]"
     },
     "metadata": {},
     "output_type": "display_data"
    }
   ],
   "source": [
    "plt.plot(valLosses)"
   ],
   "metadata": {
    "collapsed": false,
    "ExecuteTime": {
     "end_time": "2023-10-22T20:30:39.912365900Z",
     "start_time": "2023-10-22T20:30:39.543730200Z"
    }
   },
   "id": "d29b7a996e1e1b2f"
  },
  {
   "cell_type": "code",
   "execution_count": 21,
   "outputs": [
    {
     "data": {
      "text/plain": "0.8017804175615311"
     },
     "execution_count": 21,
     "metadata": {},
     "output_type": "execute_result"
    }
   ],
   "source": [
    "test_loss = eval_model(model, test_dataset)\n",
    "test_loss"
   ],
   "metadata": {
    "id": "d38b3efd713de175",
    "ExecuteTime": {
     "end_time": "2023-10-22T20:30:45.727724600Z",
     "start_time": "2023-10-22T20:30:44.674684800Z"
    }
   },
   "id": "d38b3efd713de175"
  },
  {
   "cell_type": "code",
   "execution_count": 22,
   "outputs": [
    {
     "data": {
      "text/plain": "{'bg': 'সিডনির র\\u200d্যান্ডউইক রেসের মাঠের আটটি থরোব্রেড রেসের ঘোড়া্র এক্যুইন ইনফ্লুয়েঞ্জাতে আক্রান্ত হওয়ার খবরটি নিশ্চিত করা হয়েছে।',\n 'en': 'It has been confirmed that eight thoroughbred race horses at Randwick Racecourse in Sydney have been infected with equine influenza.',\n 'en_tok': 'It has been confirmed that eight thoroughbred race horses at Randwick Racecourse in Sydney have been infected with equine influenza .',\n 'fil': 'Kumpirmado na walong magandang lahing pangkarerang kabayo sa Randwick Racecourse sa Sydney ang nagkaroon ng trangkaso.',\n 'hi': 'यह पुष्टि की गई है कि सिडनी में रैंडविक रेसकोर्स के आठ घनी नस्ल के घोड़े इक्वाइन इन्फ्लूएंजा से संक्रमित हैं।',\n 'id': 'Telah dikonfirmasi bahwa 8 kuda pacu thoroughbred di pacuan kuda Randwick di Sydney telah terinfeksi oleh flu kuda.',\n 'ja': 'シドニーのランドウィック競馬場の8頭のサラブレッド競走馬が馬インフルエンザに感染していることが確認された。',\n 'khm': 'គេបានបញ្ចាក់ថាសេះពូជប្រណាំងទាំង៨នៅទីលានប្រណាំងសេះរង់វីក \\u200bទីក្រុងស៊ីដនីបានឆ្លងរោគផ្ដាសាយធំរបស់សត្វសេះ។',\n 'lo': 'ມີການຢັ້ງຢືນແລ້ວວ່າ ມ້າແຂ່ງພັນແທ້ແປດໂຕ ທີ່ ແຣນວິກ ເລັສຄອສ ໃນ ຊິດນີ່ ໄດ້ຕິດເຊື້ອໄຂ້ຫວັດໃຫຍ່ມ້າ.',\n 'ms': 'Telah disahkan bahawa lapan kuda lumba thoroughbred di Tapak Lumba Randwick di Sydney telah dijangkiti influenza kuda.',\n 'my': 'ဆစ်ဒနီ က ရန့်ဝစ်(ခ်) မြင်းပြိုင်ကွင်း မှ မျိုးသန့် ပြိုင်မြင်း ရှစ်ကောင် ဟာ မြင်းတုတ်ကွေးရောဂါ ကူးစက်ခံခဲ့ရတယ် ဆိုတာ အတည်ပြုခဲ့ပါတယ် ။',\n 'th': 'ได้เป็นที่ยืนยันแน่นอนแล้วว่าม้าแข่งพันธุ์ดีแปดตัวที่สนามแข่งแรนด์วิค ในเมืงซิดนีย์ได้ติดเชื้อไข้หวัดใหญ่ม้า',\n 'vi': 'Đã có thông tin khẳng định rằng tám chú ngựa đua thuần chủng tại Trường đua Randwick ở Sydney đã bị nhiễm cúm ngựa.',\n 'zh': '已经证实，悉尼兰德威克赛马场的8匹纯种赛马已经感染了马流感。'}"
     },
     "execution_count": 22,
     "metadata": {},
     "output_type": "execute_result"
    }
   ],
   "source": [
    "test_dataset[0]['translation']"
   ],
   "metadata": {
    "id": "2eae9c8b7cb95676",
    "ExecuteTime": {
     "end_time": "2023-10-22T20:30:47.053063400Z",
     "start_time": "2023-10-22T20:30:47.000860Z"
    }
   },
   "id": "2eae9c8b7cb95676"
  },
  {
   "cell_type": "code",
   "execution_count": 23,
   "outputs": [
    {
     "name": "stdout",
     "output_type": "stream",
     "text": [
      "Raw input text: ມີການຢັ້ງຢືນແລ້ວວ່າ ມ້າແຂ່ງພັນແທ້ແປດໂຕ ທີ່ ແຣນວິກ ເລັສຄອສ ໃນ ຊິດນີ່ ໄດ້ຕິດເຊື້ອໄຂ້ຫວັດໃຫຍ່ມ້າ.\n",
      "Truncated input text: <vi>  ມີການຢັ້ງຢືນແລ້ວວ່າ ມ້າແຂ່ງພັນແທ້ແປດໂຕ ທີ່ ແຣນວິກ ເລັສຄອສ ໃນ ຊິດນີ່ ໄດ້ຕິດເຊື້ອໄຂ້ຫວັດໃຫຍ່ມ້າ.</s><pad><pad><pad><pad><pad><pad><pad><pad><pad><pad><pad><pad><pad><pad><pad><pad><pad><pad><pad><pad><pad><pad><pad><pad><pad><pad><pad><pad><pad><pad><pad><pad><pad><pad><pad><pad><pad><pad><pad><pad><pad><pad><pad><pad><pad><pad><pad><pad><pad><pad><pad><pad><pad><pad><pad><pad><pad><pad><pad><pad><pad><pad><pad><pad><pad><pad><pad><pad><pad><pad><pad><pad><pad><pad><pad><pad><pad><pad><pad><pad><pad><pad><pad><pad><pad><pad><pad><pad><pad><pad><pad><pad><pad><pad><pad>\n"
     ]
    }
   ],
   "source": [
    "test_sentence = test_dataset[0]['translation']['lo']\n",
    "test_target = test_dataset[0]['translation']['vi']\n",
    "print('Raw input text:', test_sentence)\n",
    "\n",
    "input_ids, _, _ = encode_str(\n",
    "    text = test_sentence,\n",
    "    text_target = test_target,\n",
    "    target_lang = 'vi',\n",
    "    tokenizer = tokenizer,\n",
    "    seq_len = max_seq_len,\n",
    "    lang_token_map = LANG_TOKEN_MAPPING)\n",
    "input_ids = input_ids.unsqueeze(0).cuda()\n",
    "\n",
    "print('Truncated input text:', tokenizer.convert_tokens_to_string(\n",
    "    tokenizer.convert_ids_to_tokens(input_ids[0])))"
   ],
   "metadata": {
    "id": "5e03740463e0b8a0",
    "ExecuteTime": {
     "end_time": "2023-10-22T20:30:49.246146800Z",
     "start_time": "2023-10-22T20:30:49.228024500Z"
    }
   },
   "id": "5e03740463e0b8a0"
  },
  {
   "cell_type": "code",
   "execution_count": 26,
   "outputs": [
    {
     "name": "stdout",
     "output_type": "stream",
     "text": [
      "<pad> Hiện vẫn chưa được xác nhận rằng vận động viên trượt tuyết đã bị nhiễm cúm lợn gần như chưa được chẩn đoán của virus cúm lợn gần như bệnh cúm lợn gần như bệnh cúm lợn gần như bệnh cúm lợn gần như bệnh cúm lợn gần như bệnh cúm lợn.</s><pad><pad><pad>\n",
      "<pad> Hiện vẫn chưa được xác nhận rằng vận động viên trượt tuyết đã bị nhiễm cúm lợn gần như chưa được chẩn đoán của virus cúm lợn gần như bệnh cúm lợn gần như bệnh cúm lợn gần như bệnh cúm lợn gần như bệnh cúm lợn gần như chưa được chẩn đoán.</s><pad>\n",
      "<pad> Hiện vẫn chưa được xác nhận rằng vận động viên trượt tuyết đã bị nhiễm cúm lợn gần như chưa được chẩn đoán của virus cúm lợn gần như bệnh cúm lợn gần như bệnh cúm lợn gần như bệnh cúm lợn gần như bệnh cúm lợn gần như bệnh cúm lợn gần như\n"
     ]
    }
   ],
   "source": [
    "output_tokens = model.generate(input_ids, num_beams=20, num_return_sequences=3, max_new_tokens = max_seq_len)\n",
    "# print(output_tokens)\n",
    "for token_set in output_tokens:\n",
    "  print(tokenizer.decode(token_set, skip_special_tokens=False))"
   ],
   "metadata": {
    "id": "405910b65790bdfb",
    "ExecuteTime": {
     "end_time": "2023-10-22T20:32:18.417469200Z",
     "start_time": "2023-10-22T20:32:16.977450100Z"
    }
   },
   "id": "405910b65790bdfb"
  }
 ],
 "metadata": {
  "kernelspec": {
   "name": "python3",
   "language": "python",
   "display_name": "Python 3 (ipykernel)"
  },
  "language_info": {
   "codemirror_mode": {
    "name": "ipython",
    "version": 2
   },
   "file_extension": ".py",
   "mimetype": "text/x-python",
   "name": "python",
   "nbconvert_exporter": "python",
   "pygments_lexer": "ipython2",
   "version": "2.7.6"
  },
  "colab": {
   "provenance": [],
   "gpuType": "T4"
  },
  "accelerator": "GPU",
  "widgets": {
   "application/vnd.jupyter.widget-state+json": {
    "a59a50f9c94346bb8ef776123b98c25b": {
     "model_module": "@jupyter-widgets/controls",
     "model_name": "HBoxModel",
     "model_module_version": "1.5.0",
     "state": {
      "_dom_classes": [],
      "_model_module": "@jupyter-widgets/controls",
      "_model_module_version": "1.5.0",
      "_model_name": "HBoxModel",
      "_view_count": null,
      "_view_module": "@jupyter-widgets/controls",
      "_view_module_version": "1.5.0",
      "_view_name": "HBoxView",
      "box_style": "",
      "children": [
       "IPY_MODEL_530bbbae71704b05bc26a1a32464db48",
       "IPY_MODEL_6cca1a6623c2442dba4dec4272864f0b",
       "IPY_MODEL_4575474b9aa1416c96d4001c62c6ff6c"
      ],
      "layout": "IPY_MODEL_712f2fb965724879917e0cf1cb4e060f"
     }
    },
    "530bbbae71704b05bc26a1a32464db48": {
     "model_module": "@jupyter-widgets/controls",
     "model_name": "HTMLModel",
     "model_module_version": "1.5.0",
     "state": {
      "_dom_classes": [],
      "_model_module": "@jupyter-widgets/controls",
      "_model_module_version": "1.5.0",
      "_model_name": "HTMLModel",
      "_view_count": null,
      "_view_module": "@jupyter-widgets/controls",
      "_view_module_version": "1.5.0",
      "_view_name": "HTMLView",
      "description": "",
      "description_tooltip": null,
      "layout": "IPY_MODEL_fada498686f64046872c84685db0aac4",
      "placeholder": "​",
      "style": "IPY_MODEL_59d63e35dd01417daa742aea2fbb4afd",
      "value": "  0%"
     }
    },
    "6cca1a6623c2442dba4dec4272864f0b": {
     "model_module": "@jupyter-widgets/controls",
     "model_name": "FloatProgressModel",
     "model_module_version": "1.5.0",
     "state": {
      "_dom_classes": [],
      "_model_module": "@jupyter-widgets/controls",
      "_model_module_version": "1.5.0",
      "_model_name": "FloatProgressModel",
      "_view_count": null,
      "_view_module": "@jupyter-widgets/controls",
      "_view_module_version": "1.5.0",
      "_view_name": "ProgressView",
      "bar_style": "danger",
      "description": "",
      "description_tooltip": null,
      "layout": "IPY_MODEL_f0215d0feb204d329d1107ae1e01181d",
      "max": 1131,
      "min": 0,
      "orientation": "horizontal",
      "style": "IPY_MODEL_a89fcd8a208746d2ba5831b30e11478e",
      "value": 0
     }
    },
    "4575474b9aa1416c96d4001c62c6ff6c": {
     "model_module": "@jupyter-widgets/controls",
     "model_name": "HTMLModel",
     "model_module_version": "1.5.0",
     "state": {
      "_dom_classes": [],
      "_model_module": "@jupyter-widgets/controls",
      "_model_module_version": "1.5.0",
      "_model_name": "HTMLModel",
      "_view_count": null,
      "_view_module": "@jupyter-widgets/controls",
      "_view_module_version": "1.5.0",
      "_view_name": "HTMLView",
      "description": "",
      "description_tooltip": null,
      "layout": "IPY_MODEL_5cb8ee7150474e7b9ab476f943e4120f",
      "placeholder": "​",
      "style": "IPY_MODEL_25391ae2f0a749c0a53a2c6b890f1295",
      "value": " 0/1131 [00:00&lt;?, ?it/s]"
     }
    },
    "712f2fb965724879917e0cf1cb4e060f": {
     "model_module": "@jupyter-widgets/base",
     "model_name": "LayoutModel",
     "model_module_version": "1.2.0",
     "state": {
      "_model_module": "@jupyter-widgets/base",
      "_model_module_version": "1.2.0",
      "_model_name": "LayoutModel",
      "_view_count": null,
      "_view_module": "@jupyter-widgets/base",
      "_view_module_version": "1.2.0",
      "_view_name": "LayoutView",
      "align_content": null,
      "align_items": null,
      "align_self": null,
      "border": null,
      "bottom": null,
      "display": null,
      "flex": null,
      "flex_flow": null,
      "grid_area": null,
      "grid_auto_columns": null,
      "grid_auto_flow": null,
      "grid_auto_rows": null,
      "grid_column": null,
      "grid_gap": null,
      "grid_row": null,
      "grid_template_areas": null,
      "grid_template_columns": null,
      "grid_template_rows": null,
      "height": null,
      "justify_content": null,
      "justify_items": null,
      "left": null,
      "margin": null,
      "max_height": null,
      "max_width": null,
      "min_height": null,
      "min_width": null,
      "object_fit": null,
      "object_position": null,
      "order": null,
      "overflow": null,
      "overflow_x": null,
      "overflow_y": null,
      "padding": null,
      "right": null,
      "top": null,
      "visibility": null,
      "width": null
     }
    },
    "fada498686f64046872c84685db0aac4": {
     "model_module": "@jupyter-widgets/base",
     "model_name": "LayoutModel",
     "model_module_version": "1.2.0",
     "state": {
      "_model_module": "@jupyter-widgets/base",
      "_model_module_version": "1.2.0",
      "_model_name": "LayoutModel",
      "_view_count": null,
      "_view_module": "@jupyter-widgets/base",
      "_view_module_version": "1.2.0",
      "_view_name": "LayoutView",
      "align_content": null,
      "align_items": null,
      "align_self": null,
      "border": null,
      "bottom": null,
      "display": null,
      "flex": null,
      "flex_flow": null,
      "grid_area": null,
      "grid_auto_columns": null,
      "grid_auto_flow": null,
      "grid_auto_rows": null,
      "grid_column": null,
      "grid_gap": null,
      "grid_row": null,
      "grid_template_areas": null,
      "grid_template_columns": null,
      "grid_template_rows": null,
      "height": null,
      "justify_content": null,
      "justify_items": null,
      "left": null,
      "margin": null,
      "max_height": null,
      "max_width": null,
      "min_height": null,
      "min_width": null,
      "object_fit": null,
      "object_position": null,
      "order": null,
      "overflow": null,
      "overflow_x": null,
      "overflow_y": null,
      "padding": null,
      "right": null,
      "top": null,
      "visibility": null,
      "width": null
     }
    },
    "59d63e35dd01417daa742aea2fbb4afd": {
     "model_module": "@jupyter-widgets/controls",
     "model_name": "DescriptionStyleModel",
     "model_module_version": "1.5.0",
     "state": {
      "_model_module": "@jupyter-widgets/controls",
      "_model_module_version": "1.5.0",
      "_model_name": "DescriptionStyleModel",
      "_view_count": null,
      "_view_module": "@jupyter-widgets/base",
      "_view_module_version": "1.2.0",
      "_view_name": "StyleView",
      "description_width": ""
     }
    },
    "f0215d0feb204d329d1107ae1e01181d": {
     "model_module": "@jupyter-widgets/base",
     "model_name": "LayoutModel",
     "model_module_version": "1.2.0",
     "state": {
      "_model_module": "@jupyter-widgets/base",
      "_model_module_version": "1.2.0",
      "_model_name": "LayoutModel",
      "_view_count": null,
      "_view_module": "@jupyter-widgets/base",
      "_view_module_version": "1.2.0",
      "_view_name": "LayoutView",
      "align_content": null,
      "align_items": null,
      "align_self": null,
      "border": null,
      "bottom": null,
      "display": null,
      "flex": null,
      "flex_flow": null,
      "grid_area": null,
      "grid_auto_columns": null,
      "grid_auto_flow": null,
      "grid_auto_rows": null,
      "grid_column": null,
      "grid_gap": null,
      "grid_row": null,
      "grid_template_areas": null,
      "grid_template_columns": null,
      "grid_template_rows": null,
      "height": null,
      "justify_content": null,
      "justify_items": null,
      "left": null,
      "margin": null,
      "max_height": null,
      "max_width": null,
      "min_height": null,
      "min_width": null,
      "object_fit": null,
      "object_position": null,
      "order": null,
      "overflow": null,
      "overflow_x": null,
      "overflow_y": null,
      "padding": null,
      "right": null,
      "top": null,
      "visibility": null,
      "width": null
     }
    },
    "a89fcd8a208746d2ba5831b30e11478e": {
     "model_module": "@jupyter-widgets/controls",
     "model_name": "ProgressStyleModel",
     "model_module_version": "1.5.0",
     "state": {
      "_model_module": "@jupyter-widgets/controls",
      "_model_module_version": "1.5.0",
      "_model_name": "ProgressStyleModel",
      "_view_count": null,
      "_view_module": "@jupyter-widgets/base",
      "_view_module_version": "1.2.0",
      "_view_name": "StyleView",
      "bar_color": null,
      "description_width": ""
     }
    },
    "5cb8ee7150474e7b9ab476f943e4120f": {
     "model_module": "@jupyter-widgets/base",
     "model_name": "LayoutModel",
     "model_module_version": "1.2.0",
     "state": {
      "_model_module": "@jupyter-widgets/base",
      "_model_module_version": "1.2.0",
      "_model_name": "LayoutModel",
      "_view_count": null,
      "_view_module": "@jupyter-widgets/base",
      "_view_module_version": "1.2.0",
      "_view_name": "LayoutView",
      "align_content": null,
      "align_items": null,
      "align_self": null,
      "border": null,
      "bottom": null,
      "display": null,
      "flex": null,
      "flex_flow": null,
      "grid_area": null,
      "grid_auto_columns": null,
      "grid_auto_flow": null,
      "grid_auto_rows": null,
      "grid_column": null,
      "grid_gap": null,
      "grid_row": null,
      "grid_template_areas": null,
      "grid_template_columns": null,
      "grid_template_rows": null,
      "height": null,
      "justify_content": null,
      "justify_items": null,
      "left": null,
      "margin": null,
      "max_height": null,
      "max_width": null,
      "min_height": null,
      "min_width": null,
      "object_fit": null,
      "object_position": null,
      "order": null,
      "overflow": null,
      "overflow_x": null,
      "overflow_y": null,
      "padding": null,
      "right": null,
      "top": null,
      "visibility": null,
      "width": null
     }
    },
    "25391ae2f0a749c0a53a2c6b890f1295": {
     "model_module": "@jupyter-widgets/controls",
     "model_name": "DescriptionStyleModel",
     "model_module_version": "1.5.0",
     "state": {
      "_model_module": "@jupyter-widgets/controls",
      "_model_module_version": "1.5.0",
      "_model_name": "DescriptionStyleModel",
      "_view_count": null,
      "_view_module": "@jupyter-widgets/base",
      "_view_module_version": "1.2.0",
      "_view_name": "StyleView",
      "description_width": ""
     }
    }
   }
  }
 },
 "nbformat": 4,
 "nbformat_minor": 5
}
