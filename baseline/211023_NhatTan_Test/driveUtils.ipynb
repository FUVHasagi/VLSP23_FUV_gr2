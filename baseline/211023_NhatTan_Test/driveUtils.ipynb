{
 "cells": [
  {
   "cell_type": "code",
   "execution_count": 1,
   "id": "initial_id",
   "metadata": {
    "collapsed": true,
    "ExecuteTime": {
     "end_time": "2023-10-23T07:58:26.224046800Z",
     "start_time": "2023-10-23T07:58:26.035411500Z"
    }
   },
   "outputs": [],
   "source": [
    "from pydrive.auth import GoogleAuth\n",
    "from pydrive.drive import GoogleDrive\n",
    "import os\n",
    "gauth = GoogleAuth()           \n",
    "drive = GoogleDrive(gauth)"
   ]
  },
  {
   "cell_type": "code",
   "execution_count": 2,
   "outputs": [],
   "source": [
    "exist_file_list = drive.ListFile({'q': \"'{}' in parents and trashed=false\".format('1DVV5Kw-x8j-L8tRS70mNtaOoowQIFICy')}).GetList()"
   ],
   "metadata": {
    "collapsed": false,
    "ExecuteTime": {
     "end_time": "2023-10-23T07:58:28.554969300Z",
     "start_time": "2023-10-23T07:58:27.485073100Z"
    }
   },
   "id": "9f6f82f7c044f548"
  },
  {
   "cell_type": "code",
   "execution_count": 3,
   "outputs": [],
   "source": [
    "upload_file_list = ['m2m100_418M_FineTunedEpoch14.pt']\n",
    "\n",
    "for upload_file in upload_file_list:\n",
    "\tif(not os.path.exists(upload_file)):\n",
    "\t\tcontinue\n",
    "\t\t\n",
    "\tfileName = os.path.basename(upload_file)\n",
    "\tfor file1 in exist_file_list:\n",
    "\t\tif file1['title'] == fileName:\n",
    "\t\t\tfile1.Delete()\n",
    "\t\n",
    "\tprint('Uploading...')\n",
    "\tgfile = drive.CreateFile({'parents': [{'id': '1DVV5Kw-x8j-L8tRS70mNtaOoowQIFICy'}], 'title': fileName})\n",
    "\tprint('Completed!')\n",
    "\t# Read file and set it as the content of this instance.\n",
    "\tgfile.SetContentFile(upload_file)\n",
    "\tgfile.Upload() # Upload the file."
   ],
   "metadata": {
    "collapsed": false,
    "ExecuteTime": {
     "end_time": "2023-10-23T07:59:28.116818200Z",
     "start_time": "2023-10-23T07:58:30.209069200Z"
    }
   },
   "id": "43202aa28cd15fb5"
  },
  {
   "cell_type": "code",
   "execution_count": 13,
   "outputs": [
    {
     "name": "stdout",
     "output_type": "stream",
     "text": [
      "Downloading...\n",
      "Completed!\n"
     ]
    }
   ],
   "source": [
    "downloadFileName = 'm2m100_418M_FineTunedEpoch8_Early.pt'\n",
    "\n",
    "finishDownload = False\n",
    "for file in exist_file_list:\n",
    "\tif (file['title'] == downloadFileName):\n",
    "\t\tprint(\"Downloading...\")\n",
    "\t\tfile.GetContentFile(file['title'])\n",
    "\t\tfinishDownload = True\n",
    "\t\tprint(\"Completed!\")\n",
    "\t\tbreak\n",
    "if not(finishDownload):\n",
    "\tprint(\"No file.\")"
   ],
   "metadata": {
    "collapsed": false,
    "ExecuteTime": {
     "end_time": "2023-10-23T06:58:12.011627100Z",
     "start_time": "2023-10-23T06:56:38.434271400Z"
    }
   },
   "id": "4d142873d1171227"
  }
 ],
 "metadata": {
  "kernelspec": {
   "display_name": "Python 3",
   "language": "python",
   "name": "python3"
  },
  "language_info": {
   "codemirror_mode": {
    "name": "ipython",
    "version": 2
   },
   "file_extension": ".py",
   "mimetype": "text/x-python",
   "name": "python",
   "nbconvert_exporter": "python",
   "pygments_lexer": "ipython2",
   "version": "2.7.6"
  }
 },
 "nbformat": 4,
 "nbformat_minor": 5
}
