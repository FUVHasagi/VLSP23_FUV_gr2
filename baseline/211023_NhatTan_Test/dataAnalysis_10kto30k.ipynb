{
 "cells": [
  {
   "cell_type": "code",
   "execution_count": 12,
   "outputs": [],
   "source": [
    "import os\n",
    "\n",
    "import pandas as pd\n",
    "\n",
    "from dataUtils import *"
   ],
   "metadata": {
    "collapsed": false,
    "ExecuteTime": {
     "end_time": "2023-10-26T10:32:27.855592400Z",
     "start_time": "2023-10-26T10:32:27.830614700Z"
    }
   },
   "id": "f9fa321891b23c0b"
  },
  {
   "cell_type": "code",
   "execution_count": 27,
   "outputs": [],
   "source": [
    "curDir = os.getcwd()\n",
    "path = \"/datasets/modified/Release train and dev data/Train/\"\n",
    "fileName = \"train2023_10kto30k_cleaned.\"\n",
    "lang = \"lo\"\n",
    "fullPath = curDir + path + fileName + lang"
   ],
   "metadata": {
    "collapsed": false,
    "ExecuteTime": {
     "end_time": "2023-10-26T10:35:42.415082800Z",
     "start_time": "2023-10-26T10:35:42.399457500Z"
    }
   },
   "id": "bf5a3c9baeeef606"
  },
  {
   "cell_type": "code",
   "execution_count": 28,
   "outputs": [],
   "source": [
    "with open(fullPath, 'r', encoding = 'utf8') as file:\n",
    "    \n",
    "    allLine = file.readlines()\n",
    "    \n",
    "    wordLevelLen, countEmptyLine = getLineLen(allLine, mode = 'word')\n",
    "    \n",
    "    charLevelLen, countEmptyLine1 = getLineLen(allLine, mode = 'character')\n",
    "    \n",
    "    "
   ],
   "metadata": {
    "collapsed": false,
    "ExecuteTime": {
     "end_time": "2023-10-26T10:35:43.364898200Z",
     "start_time": "2023-10-26T10:35:43.286568400Z"
    }
   },
   "id": "1a92e83dc57ca4b"
  },
  {
   "cell_type": "code",
   "execution_count": 30,
   "outputs": [
    {
     "data": {
      "text/plain": "length    99\ndtype: int64"
     },
     "execution_count": 30,
     "metadata": {},
     "output_type": "execute_result"
    }
   ],
   "source": [
    "lenDF = pd.DataFrame(wordLevelLen, columns = ['length'])\n",
    "lenDF.nunique()"
   ],
   "metadata": {
    "collapsed": false,
    "ExecuteTime": {
     "end_time": "2023-10-26T10:35:45.863573Z",
     "start_time": "2023-10-26T10:35:45.832144800Z"
    }
   },
   "id": "2574af5f51409c12"
  },
  {
   "cell_type": "code",
   "execution_count": 41,
   "outputs": [
    {
     "data": {
      "text/plain": "array([[<AxesSubplot:title={'center':'length'}>]], dtype=object)"
     },
     "execution_count": 41,
     "metadata": {},
     "output_type": "execute_result"
    },
    {
     "data": {
      "text/plain": "<Figure size 432x288 with 1 Axes>",
      "image/png": "[encoded data removed]"
     },
     "metadata": {
      "needs_background": "light"
     },
     "output_type": "display_data"
    }
   ],
   "source": [
    "lenDF.hist(bins = 99)"
   ],
   "metadata": {
    "collapsed": false,
    "ExecuteTime": {
     "end_time": "2023-10-26T10:36:29.821794900Z",
     "start_time": "2023-10-26T10:36:29.643422100Z"
    }
   },
   "id": "6f1425818af3d633"
  },
  {
   "cell_type": "code",
   "execution_count": 42,
   "outputs": [
    {
     "data": {
      "text/plain": "array([[<AxesSubplot:title={'center':'length'}>]], dtype=object)"
     },
     "execution_count": 42,
     "metadata": {},
     "output_type": "execute_result"
    },
    {
     "data": {
      "text/plain": "<Figure size 432x288 with 1 Axes>",
      "image/png": "[encoded data removed]"
     },
     "metadata": {
      "needs_background": "light"
     },
     "output_type": "display_data"
    }
   ],
   "source": [
    "lenDF.hist(bins = 50)"
   ],
   "metadata": {
    "collapsed": false,
    "ExecuteTime": {
     "end_time": "2023-10-26T10:36:33.908601300Z",
     "start_time": "2023-10-26T10:36:33.776277700Z"
    }
   },
   "id": "d6e32f1cf114f153"
  },
  {
   "cell_type": "code",
   "execution_count": 33,
   "outputs": [
    {
     "data": {
      "text/plain": "19725"
     },
     "execution_count": 33,
     "metadata": {},
     "output_type": "execute_result"
    }
   ],
   "source": [
    "len(lenDF[lenDF['length'] <= 128])"
   ],
   "metadata": {
    "collapsed": false,
    "ExecuteTime": {
     "end_time": "2023-10-26T10:35:52.265330700Z",
     "start_time": "2023-10-26T10:35:52.249854200Z"
    }
   },
   "id": "bc9d3400ea3f2c06"
  },
  {
   "cell_type": "code",
   "execution_count": 47,
   "outputs": [
    {
     "data": {
      "text/plain": "11786"
     },
     "execution_count": 47,
     "metadata": {},
     "output_type": "execute_result"
    }
   ],
   "source": [
    "len(lenDF[(lenDF['length'] <= 50) & (lenDF['length'] > 10)])"
   ],
   "metadata": {
    "collapsed": false,
    "ExecuteTime": {
     "end_time": "2023-10-26T10:36:53.054643800Z",
     "start_time": "2023-10-26T10:36:53.039011600Z"
    }
   },
   "id": "b58b447833c54549"
  },
  {
   "cell_type": "code",
   "execution_count": 37,
   "outputs": [
    {
     "data": {
      "text/plain": "(19701, 25)"
     },
     "execution_count": 37,
     "metadata": {},
     "output_type": "execute_result"
    }
   ],
   "source": [
    "len(set(allLine)), len(allLine) - len(set(allLine))"
   ],
   "metadata": {
    "collapsed": false,
    "ExecuteTime": {
     "end_time": "2023-10-26T10:36:03.108508400Z",
     "start_time": "2023-10-26T10:36:03.077073200Z"
    }
   },
   "id": "9f88a79cd852efb6"
  },
  {
   "cell_type": "code",
   "execution_count": 38,
   "outputs": [],
   "source": [
    "sentenceDF = pd.DataFrame(allLine, columns = ['sentence'])"
   ],
   "metadata": {
    "collapsed": false,
    "ExecuteTime": {
     "end_time": "2023-10-26T10:36:05.229044400Z",
     "start_time": "2023-10-26T10:36:05.197614900Z"
    }
   },
   "id": "84c8eace12d99e4e"
  },
  {
   "cell_type": "code",
   "execution_count": 40,
   "outputs": [
    {
     "data": {
      "text/plain": "                                                sentence\n1507   ຂໍ ໃຫ້ ເຮົາ ທຸກ ຄົນ ຈົ່ງ ເອື້ອມ ອອກ ໄປ ຊ່ອຍ ເຫ...\n2289   ທ່ານ ຈະ ໄດ້ ຮັບ ຄວາມ ເຂັ້ມ ແຂງ ແລະ ໄດ້ ຮັບ ການ...\n2290   ທ່ານ ຈະ ໄດ້ ຮັບ ຄວາມ ເຂັ້ມ ແຂງ ແລະ ໄດ້ ຮັບ ການ...\n3955   ຂ້າພະເຈົ້າ ເປັນ ພະຍານ ວ່າ ເມື່ອ ທ່ານ ຮັກ ພຣະ ອ...\n4857   ຂໍ ໃຫ້ ເຮົາ ທຸກ ຄົນ ຈົ່ງ ເອື້ອມ ອອກ ໄປ ຊ່ອຍ ເຫ...\n6078   ຜູ້ ທີ່ ຢາກ ສະ ແດງ ຄວາມ ກະຕັນຍູ ຮ່ວມ ກັບພວກ ເຮ...\n6465   ເລີ່ມ ໂດຍ ການ ສາທິດ ວິທີ ສະເຫນີ ວາລະສານ ຕາມ ຕົ...\n6900   ໃຫ້ ສຶກ ສາ ຂ່າວ ສານ ນີ້ ດ້ວຍ ການ ອະ ທິ ຖານ ແລະ...\n6902   ໃຫ້ ສຶກ ສາ ຂ່າວ ສານ ນີ້ ດ້ວຍ ການ ອະ ທິ ຖານ ແລະ...\n7748   ຂ້າພະເຈົ້າ ເປັນ ພະຍານ ວ່າ ເມື່ອ ທ່ານ ຮັກ ພຣະ ອ...\n9640   ຜູ້ ທີ່ ຢາກ ສະແດງ ຄວາມ ຂອບໃຈ ນໍາ ພວກ ເຮົາ, ຂໍ ...\n9642   ຜູ້ ທີ່ ຢາກ ສະແດງ ຄວາມ ຂອບໃຈ ນໍາ ພວກ ເຮົາ, ຂໍ ...\n9844   ມີ ຫຍັງ ທີ່ ເຮັດ ໄດ້ ເພື່ອ ດັດ ແປງ ເຄື່ອງ ນຸ່ງ...\n9846   ມີ ຫຍັງ ທີ່ ເຮັດ ໄດ້ ເພື່ອ ດັດ ແປງ ເຄື່ອງ ນຸ່ງ...\n10298  ເລີ່ມ ໂດຍ ການ ສາທິດ ວິທີ ສະເຫນີ ວາລະສານ ຕາມ ຕົ...\n10637  ຂ້າ ພະ ເຈົ້າ ອະ ທິ ຖານ ວ່າ ເຮົາ ຈະ ບັນ ລຸ ການ ...\n10638  ຂ້າ ພະ ເຈົ້າ ອະ ທິ ຖານ ວ່າ ເຮົາ ຈະ ບັນ ລຸ ການ ...\n11145  ຜູ້ ທີ່ ຢາກ ສະ ແດງ ຄວາມ ກະຕັນຍູ ຮ່ວມ ກັບພວກ ເຮ...\n11174  ບັນດາໂຄງການທີ່ຂຶ້ນກັບ 5 ຂົງເຂດຈຸດສຸມປະກອບມີ: ພ...\n11181  ﻿ໃນເວລາທີ່ນາງມີອາຍຸໄດ້ເຈັດປີ, ພວກເຂົາໄດ້ປ່ຽນຊື...\n11183  “ໃນວິວັດການເຊື່ອມໂຍງ, ເຂົ້າຮ່ວມຕະຫຼາດການບິນສາກ...\n11392           ແລະດັ່ງນັ້ນ, ນີ້ແມ່ນການອອກແບບ, ແມ່ນບໍ?\\n\n11402   ການກະ ທຳ ນ້ອຍໆສາມາດສ້າງຄວາມປ່ຽນແປງທີ່ໃຫຍ່ຫຼວງ.\\n\n11440  ຜ່ານງານວາງສະແດງຈະເພີ່ມທະວີຄວາມເຂົ້າອົກເຂົ້າໃຈ,...\n11742  ນີ້ແມ່ນເຫດການວັດທະນະທຳມີຄວາມໝາຍເພື່ອໃຫ້ຜູ້ຊົມ ...\n12022              ທ່ານທັງ ໝົດ ແມ່ນສະມາຊິກຂອງຊົນເຜົ່າ.\\n\n12308  ໃນຂອບເຂດກອງປະຊຸມ ທີ່ຈັດຂຶ້ນໃນລະຫວ່າງວັນທີ 26 –...\n13024  ນີ້ແມ່ນເຫດການວັດທະນະທຳມີຄວາມໝາຍເພື່ອໃຫ້ຜູ້ຊົມ ...\n13439  ກ່າວຄຳເຫັນທີ່ການຕ້ອນຮັບ, ທ່ານ ສຸລິອຸດົງ ສູນດາລ...\n13476  ທີ່ກອງປະຊຸມ, ສະຫະພັນການຜະລິດ ສິງກະໂປ (SMF) ກໍ່...\n13689   ການກະ ທຳ ນ້ອຍໆສາມາດສ້າງຄວາມປ່ຽນແປງທີ່ໃຫຍ່ຫຼວງ.\\n\n13742  ທີ່ເວທີປາໄສ, ບັນດາຜູ້ແທນໄດ້ແລກປ່ຽນກ່ຽວກັບໂຄງກາ...\n13760              ທ່ານທັງ ໝົດ ແມ່ນສະມາຊິກຂອງຊົນເຜົ່າ.\\n\n14121   ກອງປະຊຸມລັດຖະມົນຕີທ່ອງທ່ຽວ ອາຊຽນ + 3 ຄັ້ງທີ 18\\n\n14584           ແລະດັ່ງນັ້ນ, ນີ້ແມ່ນການອອກແບບ, ແມ່ນບໍ?\\n\n15066  ກອງປະຊຸມການທະນາຄານ ອາຊຽນ ຄັ້ງທີ 22 ໄດ້ໄຂຂຶ້ນຢ່...\n15539  ກ່າວຄຳເຫັນທີ່ການຕ້ອນຮັບ, ທ່ານ ສຸລິອຸດົງ ສູນດາລ...\n15912  ທີ່ກອງປະຊຸມ, ສະຫະພັນການຜະລິດ ສິງກະໂປ (SMF) ກໍ່...\n16536  ທີ່ເວທີປາໄສ, ບັນດາຜູ້ແທນໄດ້ແລກປ່ຽນກ່ຽວກັບໂຄງກາ...\n16861        ພວກເຮົາໄດ້ພົບກັບນາງໃນວັນພັກຄອບຄົວ ທຳ ອິດ.\\n\n17749        ພວກເຮົາໄດ້ພົບກັບນາງໃນວັນພັກຄອບຄົວ ທຳ ອິດ.\\n\n17853   ກອງປະຊຸມລັດຖະມົນຕີທ່ອງທ່ຽວ ອາຊຽນ + 3 ຄັ້ງທີ 18\\n\n18286  ຜ່ານງານວາງສະແດງຈະເພີ່ມທະວີຄວາມເຂົ້າອົກເຂົ້າໃຈ,...\n19087  ໃນຂອບເຂດກອງປະຊຸມ ທີ່ຈັດຂຶ້ນໃນລະຫວ່າງວັນທີ 26 –...\n19571  ບັນດາໂຄງການທີ່ຂຶ້ນກັບ 5 ຂົງເຂດຈຸດສຸມປະກອບມີ: ພ...\n19583  ກອງປະຊຸມການທະນາຄານ ອາຊຽນ ຄັ້ງທີ 22 ໄດ້ໄຂຂຶ້ນຢ່...\n19702  ຕະຫຼາດການເງິນກໍາລັງພົບພໍ້ກັບສະຖານະການທີ່ເປັນຕາ...\n19705  ຕະຫຼາດການເງິນກໍາລັງພົບພໍ້ກັບສະຖານະການທີ່ເປັນຕາ...\n19709  “ໃນວິວັດການເຊື່ອມໂຍງ, ເຂົ້າຮ່ວມຕະຫຼາດການບິນສາກ...\n19711  ﻿ໃນເວລາທີ່ນາງມີອາຍຸໄດ້ເຈັດປີ, ພວກເຂົາໄດ້ປ່ຽນຊື...",
      "text/html": "<div>\n<style scoped>\n    .dataframe tbody tr th:only-of-type {\n        vertical-align: middle;\n    }\n\n    .dataframe tbody tr th {\n        vertical-align: top;\n    }\n\n    .dataframe thead th {\n        text-align: right;\n    }\n</style>\n<table border=\"1\" class=\"dataframe\">\n  <thead>\n    <tr style=\"text-align: right;\">\n      <th></th>\n      <th>sentence</th>\n    </tr>\n  </thead>\n  <tbody>\n    <tr>\n      <th>1507</th>\n      <td>ຂໍ ໃຫ້ ເຮົາ ທຸກ ຄົນ ຈົ່ງ ເອື້ອມ ອອກ ໄປ ຊ່ອຍ ເຫ...</td>\n    </tr>\n    <tr>\n      <th>2289</th>\n      <td>ທ່ານ ຈະ ໄດ້ ຮັບ ຄວາມ ເຂັ້ມ ແຂງ ແລະ ໄດ້ ຮັບ ການ...</td>\n    </tr>\n    <tr>\n      <th>2290</th>\n      <td>ທ່ານ ຈະ ໄດ້ ຮັບ ຄວາມ ເຂັ້ມ ແຂງ ແລະ ໄດ້ ຮັບ ການ...</td>\n    </tr>\n    <tr>\n      <th>3955</th>\n      <td>ຂ້າພະເຈົ້າ ເປັນ ພະຍານ ວ່າ ເມື່ອ ທ່ານ ຮັກ ພຣະ ອ...</td>\n    </tr>\n    <tr>\n      <th>4857</th>\n      <td>ຂໍ ໃຫ້ ເຮົາ ທຸກ ຄົນ ຈົ່ງ ເອື້ອມ ອອກ ໄປ ຊ່ອຍ ເຫ...</td>\n    </tr>\n    <tr>\n      <th>6078</th>\n      <td>ຜູ້ ທີ່ ຢາກ ສະ ແດງ ຄວາມ ກະຕັນຍູ ຮ່ວມ ກັບພວກ ເຮ...</td>\n    </tr>\n    <tr>\n      <th>6465</th>\n      <td>ເລີ່ມ ໂດຍ ການ ສາທິດ ວິທີ ສະເຫນີ ວາລະສານ ຕາມ ຕົ...</td>\n    </tr>\n    <tr>\n      <th>6900</th>\n      <td>ໃຫ້ ສຶກ ສາ ຂ່າວ ສານ ນີ້ ດ້ວຍ ການ ອະ ທິ ຖານ ແລະ...</td>\n    </tr>\n    <tr>\n      <th>6902</th>\n      <td>ໃຫ້ ສຶກ ສາ ຂ່າວ ສານ ນີ້ ດ້ວຍ ການ ອະ ທິ ຖານ ແລະ...</td>\n    </tr>\n    <tr>\n      <th>7748</th>\n      <td>ຂ້າພະເຈົ້າ ເປັນ ພະຍານ ວ່າ ເມື່ອ ທ່ານ ຮັກ ພຣະ ອ...</td>\n    </tr>\n    <tr>\n      <th>9640</th>\n      <td>ຜູ້ ທີ່ ຢາກ ສະແດງ ຄວາມ ຂອບໃຈ ນໍາ ພວກ ເຮົາ, ຂໍ ...</td>\n    </tr>\n    <tr>\n      <th>9642</th>\n      <td>ຜູ້ ທີ່ ຢາກ ສະແດງ ຄວາມ ຂອບໃຈ ນໍາ ພວກ ເຮົາ, ຂໍ ...</td>\n    </tr>\n    <tr>\n      <th>9844</th>\n      <td>ມີ ຫຍັງ ທີ່ ເຮັດ ໄດ້ ເພື່ອ ດັດ ແປງ ເຄື່ອງ ນຸ່ງ...</td>\n    </tr>\n    <tr>\n      <th>9846</th>\n      <td>ມີ ຫຍັງ ທີ່ ເຮັດ ໄດ້ ເພື່ອ ດັດ ແປງ ເຄື່ອງ ນຸ່ງ...</td>\n    </tr>\n    <tr>\n      <th>10298</th>\n      <td>ເລີ່ມ ໂດຍ ການ ສາທິດ ວິທີ ສະເຫນີ ວາລະສານ ຕາມ ຕົ...</td>\n    </tr>\n    <tr>\n      <th>10637</th>\n      <td>ຂ້າ ພະ ເຈົ້າ ອະ ທິ ຖານ ວ່າ ເຮົາ ຈະ ບັນ ລຸ ການ ...</td>\n    </tr>\n    <tr>\n      <th>10638</th>\n      <td>ຂ້າ ພະ ເຈົ້າ ອະ ທິ ຖານ ວ່າ ເຮົາ ຈະ ບັນ ລຸ ການ ...</td>\n    </tr>\n    <tr>\n      <th>11145</th>\n      <td>ຜູ້ ທີ່ ຢາກ ສະ ແດງ ຄວາມ ກະຕັນຍູ ຮ່ວມ ກັບພວກ ເຮ...</td>\n    </tr>\n    <tr>\n      <th>11174</th>\n      <td>ບັນດາໂຄງການທີ່ຂຶ້ນກັບ 5 ຂົງເຂດຈຸດສຸມປະກອບມີ: ພ...</td>\n    </tr>\n    <tr>\n      <th>11181</th>\n      <td>﻿ໃນເວລາທີ່ນາງມີອາຍຸໄດ້ເຈັດປີ, ພວກເຂົາໄດ້ປ່ຽນຊື...</td>\n    </tr>\n    <tr>\n      <th>11183</th>\n      <td>“ໃນວິວັດການເຊື່ອມໂຍງ, ເຂົ້າຮ່ວມຕະຫຼາດການບິນສາກ...</td>\n    </tr>\n    <tr>\n      <th>11392</th>\n      <td>ແລະດັ່ງນັ້ນ, ນີ້ແມ່ນການອອກແບບ, ແມ່ນບໍ?\\n</td>\n    </tr>\n    <tr>\n      <th>11402</th>\n      <td>ການກະ ທຳ ນ້ອຍໆສາມາດສ້າງຄວາມປ່ຽນແປງທີ່ໃຫຍ່ຫຼວງ.\\n</td>\n    </tr>\n    <tr>\n      <th>11440</th>\n      <td>ຜ່ານງານວາງສະແດງຈະເພີ່ມທະວີຄວາມເຂົ້າອົກເຂົ້າໃຈ,...</td>\n    </tr>\n    <tr>\n      <th>11742</th>\n      <td>ນີ້ແມ່ນເຫດການວັດທະນະທຳມີຄວາມໝາຍເພື່ອໃຫ້ຜູ້ຊົມ ...</td>\n    </tr>\n    <tr>\n      <th>12022</th>\n      <td>ທ່ານທັງ ໝົດ ແມ່ນສະມາຊິກຂອງຊົນເຜົ່າ.\\n</td>\n    </tr>\n    <tr>\n      <th>12308</th>\n      <td>ໃນຂອບເຂດກອງປະຊຸມ ທີ່ຈັດຂຶ້ນໃນລະຫວ່າງວັນທີ 26 –...</td>\n    </tr>\n    <tr>\n      <th>13024</th>\n      <td>ນີ້ແມ່ນເຫດການວັດທະນະທຳມີຄວາມໝາຍເພື່ອໃຫ້ຜູ້ຊົມ ...</td>\n    </tr>\n    <tr>\n      <th>13439</th>\n      <td>ກ່າວຄຳເຫັນທີ່ການຕ້ອນຮັບ, ທ່ານ ສຸລິອຸດົງ ສູນດາລ...</td>\n    </tr>\n    <tr>\n      <th>13476</th>\n      <td>ທີ່ກອງປະຊຸມ, ສະຫະພັນການຜະລິດ ສິງກະໂປ (SMF) ກໍ່...</td>\n    </tr>\n    <tr>\n      <th>13689</th>\n      <td>ການກະ ທຳ ນ້ອຍໆສາມາດສ້າງຄວາມປ່ຽນແປງທີ່ໃຫຍ່ຫຼວງ.\\n</td>\n    </tr>\n    <tr>\n      <th>13742</th>\n      <td>ທີ່ເວທີປາໄສ, ບັນດາຜູ້ແທນໄດ້ແລກປ່ຽນກ່ຽວກັບໂຄງກາ...</td>\n    </tr>\n    <tr>\n      <th>13760</th>\n      <td>ທ່ານທັງ ໝົດ ແມ່ນສະມາຊິກຂອງຊົນເຜົ່າ.\\n</td>\n    </tr>\n    <tr>\n      <th>14121</th>\n      <td>ກອງປະຊຸມລັດຖະມົນຕີທ່ອງທ່ຽວ ອາຊຽນ + 3 ຄັ້ງທີ 18\\n</td>\n    </tr>\n    <tr>\n      <th>14584</th>\n      <td>ແລະດັ່ງນັ້ນ, ນີ້ແມ່ນການອອກແບບ, ແມ່ນບໍ?\\n</td>\n    </tr>\n    <tr>\n      <th>15066</th>\n      <td>ກອງປະຊຸມການທະນາຄານ ອາຊຽນ ຄັ້ງທີ 22 ໄດ້ໄຂຂຶ້ນຢ່...</td>\n    </tr>\n    <tr>\n      <th>15539</th>\n      <td>ກ່າວຄຳເຫັນທີ່ການຕ້ອນຮັບ, ທ່ານ ສຸລິອຸດົງ ສູນດາລ...</td>\n    </tr>\n    <tr>\n      <th>15912</th>\n      <td>ທີ່ກອງປະຊຸມ, ສະຫະພັນການຜະລິດ ສິງກະໂປ (SMF) ກໍ່...</td>\n    </tr>\n    <tr>\n      <th>16536</th>\n      <td>ທີ່ເວທີປາໄສ, ບັນດາຜູ້ແທນໄດ້ແລກປ່ຽນກ່ຽວກັບໂຄງກາ...</td>\n    </tr>\n    <tr>\n      <th>16861</th>\n      <td>ພວກເຮົາໄດ້ພົບກັບນາງໃນວັນພັກຄອບຄົວ ທຳ ອິດ.\\n</td>\n    </tr>\n    <tr>\n      <th>17749</th>\n      <td>ພວກເຮົາໄດ້ພົບກັບນາງໃນວັນພັກຄອບຄົວ ທຳ ອິດ.\\n</td>\n    </tr>\n    <tr>\n      <th>17853</th>\n      <td>ກອງປະຊຸມລັດຖະມົນຕີທ່ອງທ່ຽວ ອາຊຽນ + 3 ຄັ້ງທີ 18\\n</td>\n    </tr>\n    <tr>\n      <th>18286</th>\n      <td>ຜ່ານງານວາງສະແດງຈະເພີ່ມທະວີຄວາມເຂົ້າອົກເຂົ້າໃຈ,...</td>\n    </tr>\n    <tr>\n      <th>19087</th>\n      <td>ໃນຂອບເຂດກອງປະຊຸມ ທີ່ຈັດຂຶ້ນໃນລະຫວ່າງວັນທີ 26 –...</td>\n    </tr>\n    <tr>\n      <th>19571</th>\n      <td>ບັນດາໂຄງການທີ່ຂຶ້ນກັບ 5 ຂົງເຂດຈຸດສຸມປະກອບມີ: ພ...</td>\n    </tr>\n    <tr>\n      <th>19583</th>\n      <td>ກອງປະຊຸມການທະນາຄານ ອາຊຽນ ຄັ້ງທີ 22 ໄດ້ໄຂຂຶ້ນຢ່...</td>\n    </tr>\n    <tr>\n      <th>19702</th>\n      <td>ຕະຫຼາດການເງິນກໍາລັງພົບພໍ້ກັບສະຖານະການທີ່ເປັນຕາ...</td>\n    </tr>\n    <tr>\n      <th>19705</th>\n      <td>ຕະຫຼາດການເງິນກໍາລັງພົບພໍ້ກັບສະຖານະການທີ່ເປັນຕາ...</td>\n    </tr>\n    <tr>\n      <th>19709</th>\n      <td>“ໃນວິວັດການເຊື່ອມໂຍງ, ເຂົ້າຮ່ວມຕະຫຼາດການບິນສາກ...</td>\n    </tr>\n    <tr>\n      <th>19711</th>\n      <td>﻿ໃນເວລາທີ່ນາງມີອາຍຸໄດ້ເຈັດປີ, ພວກເຂົາໄດ້ປ່ຽນຊື...</td>\n    </tr>\n  </tbody>\n</table>\n</div>"
     },
     "execution_count": 40,
     "metadata": {},
     "output_type": "execute_result"
    }
   ],
   "source": [
    "(sentenceDF[sentenceDF['sentence'].duplicated(keep = False) == True])"
   ],
   "metadata": {
    "collapsed": false,
    "ExecuteTime": {
     "end_time": "2023-10-26T10:36:14.318226500Z",
     "start_time": "2023-10-26T10:36:14.302600100Z"
    }
   },
   "id": "aa58af42c3353809"
  }
 ],
 "metadata": {
  "kernelspec": {
   "display_name": "Python 3",
   "language": "python",
   "name": "python3"
  },
  "language_info": {
   "codemirror_mode": {
    "name": "ipython",
    "version": 2
   },
   "file_extension": ".py",
   "mimetype": "text/x-python",
   "name": "python",
   "nbconvert_exporter": "python",
   "pygments_lexer": "ipython2",
   "version": "2.7.6"
  }
 },
 "nbformat": 4,
 "nbformat_minor": 5
}
