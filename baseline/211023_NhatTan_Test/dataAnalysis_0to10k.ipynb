{
 "cells": [
  {
   "cell_type": "code",
   "execution_count": 2,
   "outputs": [],
   "source": [
    "import os\n",
    "\n",
    "import pandas as pd\n",
    "\n",
    "from dataAnalysisUtils import *"
   ],
   "metadata": {
    "collapsed": false,
    "ExecuteTime": {
     "end_time": "2023-10-26T09:57:47.667596300Z",
     "start_time": "2023-10-26T09:57:46.611166700Z"
    }
   },
   "id": "f9fa321891b23c0b"
  },
  {
   "cell_type": "code",
   "execution_count": 3,
   "outputs": [],
   "source": [
    "curDir = os.getcwd()\n",
    "path = \"/datasets/modified/Release train and dev data/Train/\"\n",
    "fileName = \"train2023_0to10k.\"\n",
    "lang = \"vi\"\n",
    "fullPath = curDir + path + fileName + lang"
   ],
   "metadata": {
    "collapsed": false,
    "ExecuteTime": {
     "end_time": "2023-10-26T09:57:47.683214300Z",
     "start_time": "2023-10-26T09:57:47.667596300Z"
    }
   },
   "id": "bf5a3c9baeeef606"
  },
  {
   "cell_type": "code",
   "execution_count": 4,
   "outputs": [],
   "source": [
    "with open(fullPath, 'r', encoding = 'utf8') as file:\n",
    "    \n",
    "    allLine = file.readlines()\n",
    "    \n",
    "    wordLevelLen, countEmptyLine = getLineLen(allLine, mode = 'word')\n",
    "    \n",
    "    charLevelLen, countEmptyLine1 = getLineLen(allLine, mode = 'character')"
   ],
   "metadata": {
    "collapsed": false,
    "ExecuteTime": {
     "end_time": "2023-10-26T09:57:47.730063200Z",
     "start_time": "2023-10-26T09:57:47.683214300Z"
    }
   },
   "id": "1a92e83dc57ca4b"
  },
  {
   "cell_type": "code",
   "execution_count": 5,
   "outputs": [
    {
     "data": {
      "text/plain": "array([[<AxesSubplot:title={'center':'length'}>]], dtype=object)"
     },
     "execution_count": 5,
     "metadata": {},
     "output_type": "execute_result"
    },
    {
     "data": {
      "text/plain": "<Figure size 432x288 with 1 Axes>",
      "image/png": "[encoded data removed]"
     },
     "metadata": {
      "needs_background": "light"
     },
     "output_type": "display_data"
    }
   ],
   "source": [
    "lenDF = pd.DataFrame(wordLevelLen, columns = ['length'])\n",
    "lenDF.hist(bins = 100)"
   ],
   "metadata": {
    "collapsed": false,
    "ExecuteTime": {
     "end_time": "2023-10-26T09:57:48.508251700Z",
     "start_time": "2023-10-26T09:57:47.730063200Z"
    }
   },
   "id": "6f1425818af3d633"
  },
  {
   "cell_type": "code",
   "execution_count": 6,
   "outputs": [
    {
     "data": {
      "text/plain": "array([[<AxesSubplot:title={'center':'length'}>]], dtype=object)"
     },
     "execution_count": 6,
     "metadata": {},
     "output_type": "execute_result"
    },
    {
     "data": {
      "text/plain": "<Figure size 432x288 with 1 Axes>",
      "image/png": "[encoded data removed]"
     },
     "metadata": {
      "needs_background": "light"
     },
     "output_type": "display_data"
    }
   ],
   "source": [
    "lenDF.hist(bins = 30)"
   ],
   "metadata": {
    "collapsed": false,
    "ExecuteTime": {
     "end_time": "2023-10-26T09:57:48.633251300Z",
     "start_time": "2023-10-26T09:57:48.523874Z"
    }
   },
   "id": "d6e32f1cf114f153"
  },
  {
   "cell_type": "code",
   "execution_count": 7,
   "outputs": [
    {
     "data": {
      "text/plain": "length    99\ndtype: int64"
     },
     "execution_count": 7,
     "metadata": {},
     "output_type": "execute_result"
    }
   ],
   "source": [
    "lenDF.nunique()"
   ],
   "metadata": {
    "collapsed": false,
    "ExecuteTime": {
     "end_time": "2023-10-26T09:57:48.648878700Z",
     "start_time": "2023-10-26T09:57:48.633251300Z"
    }
   },
   "id": "b20abe54c6d8f67d"
  },
  {
   "cell_type": "code",
   "execution_count": 8,
   "outputs": [
    {
     "data": {
      "text/plain": "9999"
     },
     "execution_count": 8,
     "metadata": {},
     "output_type": "execute_result"
    }
   ],
   "source": [
    "len(lenDF[lenDF['length'] < 128])"
   ],
   "metadata": {
    "collapsed": false,
    "ExecuteTime": {
     "end_time": "2023-10-26T09:57:48.746739300Z",
     "start_time": "2023-10-26T09:57:48.648878700Z"
    }
   },
   "id": "bc9d3400ea3f2c06"
  },
  {
   "cell_type": "code",
   "execution_count": 9,
   "outputs": [
    {
     "data": {
      "text/plain": "9404"
     },
     "execution_count": 9,
     "metadata": {},
     "output_type": "execute_result"
    }
   ],
   "source": [
    "len(lenDF[(lenDF['length'] <= 50) & (lenDF['length'] > 10)])"
   ],
   "metadata": {
    "collapsed": false,
    "ExecuteTime": {
     "end_time": "2023-10-26T09:57:48.746739300Z",
     "start_time": "2023-10-26T09:57:48.664506800Z"
    }
   },
   "id": "b58b447833c54549"
  },
  {
   "cell_type": "code",
   "execution_count": 10,
   "outputs": [
    {
     "data": {
      "text/plain": "(9977, 23.0)"
     },
     "execution_count": 10,
     "metadata": {},
     "output_type": "execute_result"
    }
   ],
   "source": [
    "len(set(allLine)), 1e4 - len(set(allLine))"
   ],
   "metadata": {
    "collapsed": false,
    "ExecuteTime": {
     "end_time": "2023-10-26T09:57:48.746739300Z",
     "start_time": "2023-10-26T09:57:48.680124200Z"
    }
   },
   "id": "9f88a79cd852efb6"
  },
  {
   "cell_type": "code",
   "execution_count": 11,
   "outputs": [],
   "source": [
    "sentenceDF = pd.DataFrame(allLine, columns = ['sentence'])"
   ],
   "metadata": {
    "collapsed": false,
    "ExecuteTime": {
     "end_time": "2023-10-26T09:57:48.746739300Z",
     "start_time": "2023-10-26T09:57:48.695749700Z"
    }
   },
   "id": "84c8eace12d99e4e"
  },
  {
   "cell_type": "code",
   "execution_count": 12,
   "outputs": [
    {
     "data": {
      "text/plain": "                                               sentence\n1688  Vậy nên, hãy gắn bó với lòng bác ái, nó là một...\n2069  Điều đó có nghĩa là cho dù chúng ta có làm điề...\n2070  Điều đó có nghĩa là cho dù chúng ta có làm điề...\n2733  “Nhờ lòng nhân từ, và sự hiểu biết thuần túy, ...\n2734  “Nhờ lòng nhân từ, và sự hiểu biết thuần túy, ...\n2735  “Nhờ lòng nhân từ, và sự hiểu biết thuần túy, ...\n2983  Chúng ta là các phụ nữ lập giao ước thuộc đủ l...\n2984  Chúng ta là các phụ nữ lập giao ước thuộc đủ l...\n2985  Trở lại nơi hiện diện của Ngài và nhận được cá...\n2986  Trở lại nơi hiện diện của Ngài và nhận được cá...\n3578  Tôi chưa phải chịu đựng sự lạm dụng hoặc bị bệ...\n3631  Cho biết các sắp đặt tại địa phương để phân ph...\n3634  Cho biết các sắp đặt tại địa phương để phân ph...\n3875  Đáp lại một ý kiến phản bác thông thường trong...\n3876  Đáp lại một ý kiến phản bác thông thường trong...\n3906  Chúng tôi xin mời những người nào phản đối bất...\n3907  Chúng tôi xin mời những người nào phản đối bất...\n4272  Sau đó, phân tích từ đầu đến cuối các lời trìn...\n4275  Sau đó, phân tích từ đầu đến cuối các lời trìn...\n4651  Trong các ngươi có ai què, đui, câm, điếc, cụt...\n4654  Trong các ngươi có ai què, đui, câm, điếc, cụt...\n5077  Giáo Hội tuân theo những phương pháp thực hành...\n5078  Giáo Hội tuân theo những phương pháp thực hành...\n6302  Những ai muốn cùng với chúng tôi bày tỏ lòng b...\n6304  Những ai muốn cùng với chúng tôi bày tỏ lòng b...\n6399  “Nếu ngươi mở lòng cho kẻ đói, và làm no kẻ kh...\n6401  “Nếu ngươi mở lòng cho kẻ đói, và làm no kẻ kh...\n7133  Việc giảng dạy tại gia đáp ứng cho nhiều lời c...\n7134  Việc giảng dạy tại gia đáp ứng cho nhiều lời c...\n7626  Và nếu không có sự ngay chính thì làm gì có hạ...\n7627  Và nếu không có sự ngay chính thì làm gì có hạ...\n7723  “Song khi ngươi bố thí, đừng cho tay tả biết t...\n7745  Tôi chưa phải chịu đựng sự lạm dụng hoặc bị bệ...\n9028  Có rất nhiều người trong chúng ta đang luẩn qu...\n9029  Có rất nhiều người trong chúng ta đang luẩn qu...\n9094  Vậy nên, hãy gắn bó với lòng bác ái, nó là một...\n9095  Vậy nên, hãy gắn bó với lòng bác ái, nó là một...\n9096  Vậy nên, hãy gắn bó với lòng bác ái, nó là một...\n9712  Nếu không cẩn thận, chúng ta sẽ bắt đầu theo đ...\n9715  Nếu không cẩn thận, chúng ta sẽ bắt đầu theo đ...\n9809  Chúng tôi cần sự cam kết hoàn toàn và trọn vẹn...\n9810  Chúng tôi cần sự cam kết hoàn toàn và trọn vẹn...\n9984  “Song khi ngươi bố thí, đừng cho tay tả biết t...",
      "text/html": "<div>\n<style scoped>\n    .dataframe tbody tr th:only-of-type {\n        vertical-align: middle;\n    }\n\n    .dataframe tbody tr th {\n        vertical-align: top;\n    }\n\n    .dataframe thead th {\n        text-align: right;\n    }\n</style>\n<table border=\"1\" class=\"dataframe\">\n  <thead>\n    <tr style=\"text-align: right;\">\n      <th></th>\n      <th>sentence</th>\n    </tr>\n  </thead>\n  <tbody>\n    <tr>\n      <th>1688</th>\n      <td>Vậy nên, hãy gắn bó với lòng bác ái, nó là một...</td>\n    </tr>\n    <tr>\n      <th>2069</th>\n      <td>Điều đó có nghĩa là cho dù chúng ta có làm điề...</td>\n    </tr>\n    <tr>\n      <th>2070</th>\n      <td>Điều đó có nghĩa là cho dù chúng ta có làm điề...</td>\n    </tr>\n    <tr>\n      <th>2733</th>\n      <td>“Nhờ lòng nhân từ, và sự hiểu biết thuần túy, ...</td>\n    </tr>\n    <tr>\n      <th>2734</th>\n      <td>“Nhờ lòng nhân từ, và sự hiểu biết thuần túy, ...</td>\n    </tr>\n    <tr>\n      <th>2735</th>\n      <td>“Nhờ lòng nhân từ, và sự hiểu biết thuần túy, ...</td>\n    </tr>\n    <tr>\n      <th>2983</th>\n      <td>Chúng ta là các phụ nữ lập giao ước thuộc đủ l...</td>\n    </tr>\n    <tr>\n      <th>2984</th>\n      <td>Chúng ta là các phụ nữ lập giao ước thuộc đủ l...</td>\n    </tr>\n    <tr>\n      <th>2985</th>\n      <td>Trở lại nơi hiện diện của Ngài và nhận được cá...</td>\n    </tr>\n    <tr>\n      <th>2986</th>\n      <td>Trở lại nơi hiện diện của Ngài và nhận được cá...</td>\n    </tr>\n    <tr>\n      <th>3578</th>\n      <td>Tôi chưa phải chịu đựng sự lạm dụng hoặc bị bệ...</td>\n    </tr>\n    <tr>\n      <th>3631</th>\n      <td>Cho biết các sắp đặt tại địa phương để phân ph...</td>\n    </tr>\n    <tr>\n      <th>3634</th>\n      <td>Cho biết các sắp đặt tại địa phương để phân ph...</td>\n    </tr>\n    <tr>\n      <th>3875</th>\n      <td>Đáp lại một ý kiến phản bác thông thường trong...</td>\n    </tr>\n    <tr>\n      <th>3876</th>\n      <td>Đáp lại một ý kiến phản bác thông thường trong...</td>\n    </tr>\n    <tr>\n      <th>3906</th>\n      <td>Chúng tôi xin mời những người nào phản đối bất...</td>\n    </tr>\n    <tr>\n      <th>3907</th>\n      <td>Chúng tôi xin mời những người nào phản đối bất...</td>\n    </tr>\n    <tr>\n      <th>4272</th>\n      <td>Sau đó, phân tích từ đầu đến cuối các lời trìn...</td>\n    </tr>\n    <tr>\n      <th>4275</th>\n      <td>Sau đó, phân tích từ đầu đến cuối các lời trìn...</td>\n    </tr>\n    <tr>\n      <th>4651</th>\n      <td>Trong các ngươi có ai què, đui, câm, điếc, cụt...</td>\n    </tr>\n    <tr>\n      <th>4654</th>\n      <td>Trong các ngươi có ai què, đui, câm, điếc, cụt...</td>\n    </tr>\n    <tr>\n      <th>5077</th>\n      <td>Giáo Hội tuân theo những phương pháp thực hành...</td>\n    </tr>\n    <tr>\n      <th>5078</th>\n      <td>Giáo Hội tuân theo những phương pháp thực hành...</td>\n    </tr>\n    <tr>\n      <th>6302</th>\n      <td>Những ai muốn cùng với chúng tôi bày tỏ lòng b...</td>\n    </tr>\n    <tr>\n      <th>6304</th>\n      <td>Những ai muốn cùng với chúng tôi bày tỏ lòng b...</td>\n    </tr>\n    <tr>\n      <th>6399</th>\n      <td>“Nếu ngươi mở lòng cho kẻ đói, và làm no kẻ kh...</td>\n    </tr>\n    <tr>\n      <th>6401</th>\n      <td>“Nếu ngươi mở lòng cho kẻ đói, và làm no kẻ kh...</td>\n    </tr>\n    <tr>\n      <th>7133</th>\n      <td>Việc giảng dạy tại gia đáp ứng cho nhiều lời c...</td>\n    </tr>\n    <tr>\n      <th>7134</th>\n      <td>Việc giảng dạy tại gia đáp ứng cho nhiều lời c...</td>\n    </tr>\n    <tr>\n      <th>7626</th>\n      <td>Và nếu không có sự ngay chính thì làm gì có hạ...</td>\n    </tr>\n    <tr>\n      <th>7627</th>\n      <td>Và nếu không có sự ngay chính thì làm gì có hạ...</td>\n    </tr>\n    <tr>\n      <th>7723</th>\n      <td>“Song khi ngươi bố thí, đừng cho tay tả biết t...</td>\n    </tr>\n    <tr>\n      <th>7745</th>\n      <td>Tôi chưa phải chịu đựng sự lạm dụng hoặc bị bệ...</td>\n    </tr>\n    <tr>\n      <th>9028</th>\n      <td>Có rất nhiều người trong chúng ta đang luẩn qu...</td>\n    </tr>\n    <tr>\n      <th>9029</th>\n      <td>Có rất nhiều người trong chúng ta đang luẩn qu...</td>\n    </tr>\n    <tr>\n      <th>9094</th>\n      <td>Vậy nên, hãy gắn bó với lòng bác ái, nó là một...</td>\n    </tr>\n    <tr>\n      <th>9095</th>\n      <td>Vậy nên, hãy gắn bó với lòng bác ái, nó là một...</td>\n    </tr>\n    <tr>\n      <th>9096</th>\n      <td>Vậy nên, hãy gắn bó với lòng bác ái, nó là một...</td>\n    </tr>\n    <tr>\n      <th>9712</th>\n      <td>Nếu không cẩn thận, chúng ta sẽ bắt đầu theo đ...</td>\n    </tr>\n    <tr>\n      <th>9715</th>\n      <td>Nếu không cẩn thận, chúng ta sẽ bắt đầu theo đ...</td>\n    </tr>\n    <tr>\n      <th>9809</th>\n      <td>Chúng tôi cần sự cam kết hoàn toàn và trọn vẹn...</td>\n    </tr>\n    <tr>\n      <th>9810</th>\n      <td>Chúng tôi cần sự cam kết hoàn toàn và trọn vẹn...</td>\n    </tr>\n    <tr>\n      <th>9984</th>\n      <td>“Song khi ngươi bố thí, đừng cho tay tả biết t...</td>\n    </tr>\n  </tbody>\n</table>\n</div>"
     },
     "execution_count": 12,
     "metadata": {},
     "output_type": "execute_result"
    }
   ],
   "source": [
    "(sentenceDF[sentenceDF['sentence'].duplicated(keep = False) == True])"
   ],
   "metadata": {
    "collapsed": false,
    "ExecuteTime": {
     "end_time": "2023-10-26T09:57:48.746739300Z",
     "start_time": "2023-10-26T09:57:48.711393600Z"
    }
   },
   "id": "aa58af42c3353809"
  }
 ],
 "metadata": {
  "kernelspec": {
   "display_name": "Python 3",
   "language": "python",
   "name": "python3"
  },
  "language_info": {
   "codemirror_mode": {
    "name": "ipython",
    "version": 2
   },
   "file_extension": ".py",
   "mimetype": "text/x-python",
   "name": "python",
   "nbconvert_exporter": "python",
   "pygments_lexer": "ipython2",
   "version": "2.7.6"
  }
 },
 "nbformat": 4,
 "nbformat_minor": 5
}
