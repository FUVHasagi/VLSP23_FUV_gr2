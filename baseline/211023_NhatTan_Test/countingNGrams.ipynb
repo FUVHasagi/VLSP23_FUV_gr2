{
 "cells": [
  {
   "cell_type": "code",
   "execution_count": 66,
   "outputs": [],
   "source": [
    "import os\n",
    "import json\n",
    "\n",
    "import pandas as pd"
   ],
   "metadata": {
    "collapsed": false,
    "ExecuteTime": {
     "end_time": "2023-10-25T08:49:16.659881900Z",
     "start_time": "2023-10-25T08:49:16.644162Z"
    }
   },
   "id": "49de95f4b4853449"
  },
  {
   "cell_type": "code",
   "execution_count": 67,
   "outputs": [],
   "source": [
    "curDir = os.getcwd()\n",
    "path = \"/datasets/original/Release train and dev data/Train/\"\n",
    "fileName = \"train2023.\"\n",
    "lang = \"vi\"\n",
    "fullPath = curDir + path + fileName + lang"
   ],
   "metadata": {
    "collapsed": false,
    "ExecuteTime": {
     "end_time": "2023-10-25T08:49:16.675431100Z",
     "start_time": "2023-10-25T08:49:16.659881900Z"
    }
   },
   "id": "b3ff479f80c108aa"
  },
  {
   "cell_type": "code",
   "execution_count": 68,
   "outputs": [],
   "source": [
    "def seq_ngrams(xs, n):\n",
    "    return [' '.join(xs[i:i+n]) for i in range(len(xs)-n+1)]"
   ],
   "metadata": {
    "collapsed": false,
    "ExecuteTime": {
     "end_time": "2023-10-25T08:49:16.691061Z",
     "start_time": "2023-10-25T08:49:16.675431100Z"
    }
   },
   "id": "cebc69ed9292f6c0"
  },
  {
   "cell_type": "code",
   "execution_count": null,
   "outputs": [],
   "source": [
    "with open(fullPath, 'r', encoding = 'utf8') as file:\n",
    "    \n",
    "    allLine = file.readlines()\n",
    "    nGramAll = set()\n",
    "    \n",
    "    for line in allLine:\n",
    "        \n",
    "        lineStripped = line.strip()\n",
    "        \n",
    "        nGramAll.update(seq_ngrams(lineStripped.split(' '), 2))\n",
    "        \n",
    "    nGramAll = list(nGramAll)\n",
    "    \n",
    "    nGramCount = dict()\n",
    "    for nGram in nGramAll:\n",
    "        if (len(nGram) == 0):\n",
    "            pass\n",
    "        else:\n",
    "            nGramCount[nGram] = 0\n",
    "            for line in allLine:\n",
    "                nGramCount[nGram] += line.count(nGram)"
   ],
   "metadata": {
    "collapsed": false,
    "is_executing": true,
    "ExecuteTime": {
     "start_time": "2023-10-25T08:49:16.691061Z"
    }
   },
   "id": "25a83919b02fdf12"
  },
  {
   "cell_type": "code",
   "execution_count": null,
   "outputs": [],
   "source": [
    "nGramCountSorted = {k: v for k, v in sorted(nGramCount.items(), key=lambda item: -item[1])}"
   ],
   "metadata": {
    "collapsed": false,
    "is_executing": true
   },
   "id": "987a149cebd3ee07"
  },
  {
   "cell_type": "code",
   "execution_count": null,
   "outputs": [],
   "source": [
    "with open(\"2gram_count.json\", 'w', encoding = 'utf8') as f: \n",
    "    json.dump(nGramCountSorted, f, indent = 2, ensure_ascii = False)"
   ],
   "metadata": {
    "collapsed": false,
    "is_executing": true
   },
   "id": "b75c19bae36813d7"
  }
 ],
 "metadata": {
  "kernelspec": {
   "display_name": "Python 3",
   "language": "python",
   "name": "python3"
  },
  "language_info": {
   "codemirror_mode": {
    "name": "ipython",
    "version": 2
   },
   "file_extension": ".py",
   "mimetype": "text/x-python",
   "name": "python",
   "nbconvert_exporter": "python",
   "pygments_lexer": "ipython2",
   "version": "2.7.6"
  }
 },
 "nbformat": 4,
 "nbformat_minor": 5
}
