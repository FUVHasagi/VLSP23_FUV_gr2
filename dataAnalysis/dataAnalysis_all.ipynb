{
 "cells": [
  {
   "cell_type": "code",
   "execution_count": 9,
   "id": "initial_id",
   "metadata": {
    "collapsed": true,
    "ExecuteTime": {
     "end_time": "2023-10-26T18:46:42.423111600Z",
     "start_time": "2023-10-26T18:46:39.743991600Z"
    }
   },
   "outputs": [
    {
     "ename": "SyntaxError",
     "evalue": "expected ':' (dataAnalysisUtils.py, line 127)",
     "output_type": "error",
     "traceback": [
      "Traceback \u001B[1;36m(most recent call last)\u001B[0m:\n",
      "  File \u001B[0;32m~\\AppData\\Local\\Programs\\Python\\Python310\\lib\\site-packages\\IPython\\core\\interactiveshell.py:3398\u001B[0m in \u001B[0;35mrun_code\u001B[0m\n    exec(code_obj, self.user_global_ns, self.user_ns)\n",
      "\u001B[1;36m  Input \u001B[1;32mIn [9]\u001B[1;36m in \u001B[1;35m<cell line: 7>\u001B[1;36m\u001B[0m\n\u001B[1;33m    from dataAnalysisUtils import *\u001B[0m\n",
      "\u001B[1;36m  File \u001B[1;32mD:\\Becks\\VLSP_Task2\\211023_NhatTan_Test\\dataAnalysisUtils.py:127\u001B[1;36m\u001B[0m\n\u001B[1;33m    for emo, count in countList1\u001B[0m\n\u001B[1;37m                                ^\u001B[0m\n\u001B[1;31mSyntaxError\u001B[0m\u001B[1;31m:\u001B[0m expected ':'\n"
     ]
    }
   ],
   "source": [
    "import os\n",
    "import string\n",
    "\n",
    "import pandas as pd\n",
    "import numpy as np\n",
    "import matplotlib.pyplot as plt\n",
    "\n",
    "from dataUtils import *"
   ]
  },
  {
   "cell_type": "code",
   "execution_count": 14,
   "outputs": [],
   "source": [
    "curDir = os.getcwd()\n",
    "path = \"/datasets/original/Release train and dev data/Train/\"\n",
    "fileName = \"train2023.\"\n",
    "lang = \"vi\"\n",
    "fullPath = curDir + path + fileName + lang"
   ],
   "metadata": {
    "collapsed": false,
    "ExecuteTime": {
     "end_time": "2023-10-26T09:57:56.834196800Z",
     "start_time": "2023-10-26T09:57:56.803038Z"
    }
   },
   "id": "44e1e38164f15b7b"
  },
  {
   "cell_type": "code",
   "execution_count": 15,
   "outputs": [],
   "source": [
    "with open(fullPath, 'r', encoding = 'utf8') as file:\n",
    "    \n",
    "    allLine = file.readlines()\n",
    "    \n",
    "    wordLevelLen, countEmptyLine = getLineLen(allLine, mode = 'word')\n",
    "    \n",
    "    charLevelLen, countEmptyLine1 = getLineLen(allLine, mode = 'character')    "
   ],
   "metadata": {
    "collapsed": false,
    "ExecuteTime": {
     "end_time": "2023-10-26T09:57:57.084209900Z",
     "start_time": "2023-10-26T09:57:56.818572700Z"
    }
   },
   "id": "dd3a1970a0955945"
  },
  {
   "cell_type": "code",
   "execution_count": 16,
   "outputs": [
    {
     "data": {
      "text/plain": "array([[<AxesSubplot:title={'center':'length'}>]], dtype=object)"
     },
     "execution_count": 16,
     "metadata": {},
     "output_type": "execute_result"
    },
    {
     "data": {
      "text/plain": "<Figure size 432x288 with 1 Axes>",
      "image/png": "[encoded data removed]"
     },
     "metadata": {
      "needs_background": "light"
     },
     "output_type": "display_data"
    }
   ],
   "source": [
    "lenDF = pd.DataFrame(wordLevelLen, columns = ['length'])\n",
    "lenDF.hist(bins = 265)"
   ],
   "metadata": {
    "collapsed": false,
    "ExecuteTime": {
     "end_time": "2023-10-26T09:57:57.428146400Z",
     "start_time": "2023-10-26T09:57:57.084209900Z"
    }
   },
   "id": "8a7d1c12ad3bdd53"
  },
  {
   "cell_type": "code",
   "execution_count": 17,
   "outputs": [
    {
     "data": {
      "text/plain": "array([[<AxesSubplot:title={'center':'length'}>]], dtype=object)"
     },
     "execution_count": 17,
     "metadata": {},
     "output_type": "execute_result"
    },
    {
     "data": {
      "text/plain": "<Figure size 432x288 with 1 Axes>",
      "image/png": "[encoded data removed]"
     },
     "metadata": {
      "needs_background": "light"
     },
     "output_type": "display_data"
    }
   ],
   "source": [
    "lenDF.hist(bins = 100)"
   ],
   "metadata": {
    "collapsed": false,
    "ExecuteTime": {
     "end_time": "2023-10-26T09:57:57.615523600Z",
     "start_time": "2023-10-26T09:57:57.443574500Z"
    }
   },
   "id": "eac7720316419226"
  },
  {
   "cell_type": "code",
   "execution_count": 18,
   "outputs": [
    {
     "data": {
      "text/plain": "length    265\ndtype: int64"
     },
     "execution_count": 18,
     "metadata": {},
     "output_type": "execute_result"
    }
   ],
   "source": [
    "lenDF.nunique()"
   ],
   "metadata": {
    "collapsed": false,
    "ExecuteTime": {
     "end_time": "2023-10-26T09:57:57.660587700Z",
     "start_time": "2023-10-26T09:57:57.615523600Z"
    }
   },
   "id": "98d7c145f33504a2"
  },
  {
   "cell_type": "code",
   "execution_count": 19,
   "outputs": [
    {
     "data": {
      "text/plain": "99077"
     },
     "execution_count": 19,
     "metadata": {},
     "output_type": "execute_result"
    }
   ],
   "source": [
    "len(lenDF[lenDF['length'] < 144])"
   ],
   "metadata": {
    "collapsed": false,
    "ExecuteTime": {
     "end_time": "2023-10-26T09:57:57.660587700Z",
     "start_time": "2023-10-26T09:57:57.631076600Z"
    }
   },
   "id": "35ac50d7890830f4"
  },
  {
   "cell_type": "code",
   "execution_count": 20,
   "outputs": [
    {
     "data": {
      "text/plain": "38442"
     },
     "execution_count": 20,
     "metadata": {},
     "output_type": "execute_result"
    }
   ],
   "source": [
    "len(lenDF[(lenDF['length'] <= 10) & (lenDF['length'] > 0)])"
   ],
   "metadata": {
    "collapsed": false,
    "ExecuteTime": {
     "end_time": "2023-10-26T09:57:57.660587700Z",
     "start_time": "2023-10-26T09:57:57.646698100Z"
    }
   },
   "id": "f021c9de0eb2d94f"
  },
  {
   "cell_type": "code",
   "execution_count": 21,
   "outputs": [
    {
     "data": {
      "text/plain": "(87118, 12882.0)"
     },
     "execution_count": 21,
     "metadata": {},
     "output_type": "execute_result"
    }
   ],
   "source": [
    "len(set(allLine)), 1e5 - len(set(allLine))"
   ],
   "metadata": {
    "collapsed": false,
    "ExecuteTime": {
     "end_time": "2023-10-26T09:57:57.723201700Z",
     "start_time": "2023-10-26T09:57:57.660587700Z"
    }
   },
   "id": "b4fac3ac92bcafee"
  },
  {
   "cell_type": "code",
   "execution_count": 22,
   "outputs": [],
   "source": [
    "sentenceDF = pd.DataFrame(allLine, columns = ['sentence'])"
   ],
   "metadata": {
    "collapsed": false,
    "ExecuteTime": {
     "end_time": "2023-10-26T09:57:57.723201700Z",
     "start_time": "2023-10-26T09:57:57.707563300Z"
    }
   },
   "id": "12273b89bd83cdad"
  },
  {
   "cell_type": "code",
   "execution_count": 23,
   "outputs": [
    {
     "data": {
      "text/plain": "                                                sentence\n0      Nếu anh chị cảm thấy e ngại khi giới thiệu về ...\n1      Hẳn nhiều người thấp kém e sợ và tránh mặt nhữ...\n2      21 Bấy giờ, khi hoàng hậu trông thấy vẻ kinh h...\n3      Quyết định để thay đổi thuộc vào chính các anh...\n4      Những lựa chọn của các em ngay trước mắt là qu...\n...                                                  ...\n99918                 Hỗ trợ email info@qdruidetai.com\\n\n99920  GBP, £EUR, €CAD, $đô la, $JPY, ¥AUD, $NZD, $CH...\n99955  © Copyright - 2010-2019 : All Rights Reserved....\n99956  Hebei Samsung Metal Wire Mesh Sản xuất Công ty...\n99981                                từ viết tắt : AAU\\n\n\n[24809 rows x 1 columns]",
      "text/html": "<div>\n<style scoped>\n    .dataframe tbody tr th:only-of-type {\n        vertical-align: middle;\n    }\n\n    .dataframe tbody tr th {\n        vertical-align: top;\n    }\n\n    .dataframe thead th {\n        text-align: right;\n    }\n</style>\n<table border=\"1\" class=\"dataframe\">\n  <thead>\n    <tr style=\"text-align: right;\">\n      <th></th>\n      <th>sentence</th>\n    </tr>\n  </thead>\n  <tbody>\n    <tr>\n      <th>0</th>\n      <td>Nếu anh chị cảm thấy e ngại khi giới thiệu về ...</td>\n    </tr>\n    <tr>\n      <th>1</th>\n      <td>Hẳn nhiều người thấp kém e sợ và tránh mặt nhữ...</td>\n    </tr>\n    <tr>\n      <th>2</th>\n      <td>21 Bấy giờ, khi hoàng hậu trông thấy vẻ kinh h...</td>\n    </tr>\n    <tr>\n      <th>3</th>\n      <td>Quyết định để thay đổi thuộc vào chính các anh...</td>\n    </tr>\n    <tr>\n      <th>4</th>\n      <td>Những lựa chọn của các em ngay trước mắt là qu...</td>\n    </tr>\n    <tr>\n      <th>...</th>\n      <td>...</td>\n    </tr>\n    <tr>\n      <th>99918</th>\n      <td>Hỗ trợ email info@qdruidetai.com\\n</td>\n    </tr>\n    <tr>\n      <th>99920</th>\n      <td>GBP, £EUR, €CAD, $đô la, $JPY, ¥AUD, $NZD, $CH...</td>\n    </tr>\n    <tr>\n      <th>99955</th>\n      <td>© Copyright - 2010-2019 : All Rights Reserved....</td>\n    </tr>\n    <tr>\n      <th>99956</th>\n      <td>Hebei Samsung Metal Wire Mesh Sản xuất Công ty...</td>\n    </tr>\n    <tr>\n      <th>99981</th>\n      <td>từ viết tắt : AAU\\n</td>\n    </tr>\n  </tbody>\n</table>\n<p>24809 rows × 1 columns</p>\n</div>"
     },
     "execution_count": 23,
     "metadata": {},
     "output_type": "execute_result"
    }
   ],
   "source": [
    "(sentenceDF[sentenceDF['sentence'].duplicated(keep = False) == True])"
   ],
   "metadata": {
    "collapsed": false,
    "ExecuteTime": {
     "end_time": "2023-10-26T09:57:57.801305400Z",
     "start_time": "2023-10-26T09:57:57.723201700Z"
    }
   },
   "id": "d5f0de35c169f31e"
  },
  {
   "cell_type": "code",
   "execution_count": 24,
   "outputs": [
    {
     "data": {
      "text/plain": "                                                sentence\n40001                           Liên lạc với chúng tôi\\n\n40008                                        Đọc thêm:\\n\n40016                                          LIÊN HỆ\\n\n40025                                        Tìm kiếm:\\n\n40029                                           Ví dụ:\\n\n...                                                  ...\n99918                 Hỗ trợ email info@qdruidetai.com\\n\n99920  GBP, £EUR, €CAD, $đô la, $JPY, ¥AUD, $NZD, $CH...\n99955  © Copyright - 2010-2019 : All Rights Reserved....\n99956  Hebei Samsung Metal Wire Mesh Sản xuất Công ty...\n99981                                từ viết tắt : AAU\\n\n\n[3947 rows x 1 columns]",
      "text/html": "<div>\n<style scoped>\n    .dataframe tbody tr th:only-of-type {\n        vertical-align: middle;\n    }\n\n    .dataframe tbody tr th {\n        vertical-align: top;\n    }\n\n    .dataframe thead th {\n        text-align: right;\n    }\n</style>\n<table border=\"1\" class=\"dataframe\">\n  <thead>\n    <tr style=\"text-align: right;\">\n      <th></th>\n      <th>sentence</th>\n    </tr>\n  </thead>\n  <tbody>\n    <tr>\n      <th>40001</th>\n      <td>Liên lạc với chúng tôi\\n</td>\n    </tr>\n    <tr>\n      <th>40008</th>\n      <td>Đọc thêm:\\n</td>\n    </tr>\n    <tr>\n      <th>40016</th>\n      <td>LIÊN HỆ\\n</td>\n    </tr>\n    <tr>\n      <th>40025</th>\n      <td>Tìm kiếm:\\n</td>\n    </tr>\n    <tr>\n      <th>40029</th>\n      <td>Ví dụ:\\n</td>\n    </tr>\n    <tr>\n      <th>...</th>\n      <td>...</td>\n    </tr>\n    <tr>\n      <th>99918</th>\n      <td>Hỗ trợ email info@qdruidetai.com\\n</td>\n    </tr>\n    <tr>\n      <th>99920</th>\n      <td>GBP, £EUR, €CAD, $đô la, $JPY, ¥AUD, $NZD, $CH...</td>\n    </tr>\n    <tr>\n      <th>99955</th>\n      <td>© Copyright - 2010-2019 : All Rights Reserved....</td>\n    </tr>\n    <tr>\n      <th>99956</th>\n      <td>Hebei Samsung Metal Wire Mesh Sản xuất Công ty...</td>\n    </tr>\n    <tr>\n      <th>99981</th>\n      <td>từ viết tắt : AAU\\n</td>\n    </tr>\n  </tbody>\n</table>\n<p>3947 rows × 1 columns</p>\n</div>"
     },
     "execution_count": 24,
     "metadata": {},
     "output_type": "execute_result"
    }
   ],
   "source": [
    "truncatedSentenceDF = sentenceDF.truncate(before = 4e4, after = None)\n",
    "(truncatedSentenceDF[truncatedSentenceDF['sentence'].duplicated(keep = False) == True])"
   ],
   "metadata": {
    "collapsed": false,
    "ExecuteTime": {
     "end_time": "2023-10-26T09:57:57.848089500Z",
     "start_time": "2023-10-26T09:57:57.769965700Z"
    }
   },
   "id": "3e01f053bfb189f0"
  },
  {
   "cell_type": "markdown",
   "source": [
    "# 0-10K + 10k-30k"
   ],
   "metadata": {
    "collapsed": false
   },
   "id": "3cf8f9728e57cee1"
  },
  {
   "cell_type": "code",
   "execution_count": 31,
   "outputs": [],
   "source": [
    "curDir = os.getcwd()\n",
    "path = \"/datasets/modified/Release train and dev data/Train/\"\n",
    "fileName = \"train2023_0to10k.\"\n",
    "fileName1 = \"train2023_10kto30k_cleaned.\"\n",
    "fullPath = curDir + path + fileName\n",
    "fullPath1 = curDir + path + fileName1"
   ],
   "metadata": {
    "collapsed": false,
    "ExecuteTime": {
     "end_time": "2023-10-26T10:45:09.165339300Z",
     "start_time": "2023-10-26T10:45:09.134068500Z"
    }
   },
   "id": "54b891a032c1ccfc"
  },
  {
   "cell_type": "code",
   "execution_count": 32,
   "outputs": [
    {
     "name": "stdout",
     "output_type": "stream",
     "text": [
      "0 0\n",
      "0 0\n"
     ]
    }
   ],
   "source": [
    "with open(fullPath + 'vi', 'r', encoding = 'utf8') as file10kVi, \\\n",
    "        open(fullPath + 'lo', 'r', encoding = 'utf8') as file10kLo, \\\n",
    "        open(fullPath1 + 'vi', 'r', encoding = 'utf8') as file30kVi, \\\n",
    "        open(fullPath1 + 'lo', 'r', encoding = 'utf8') as file30kLo:\n",
    "    \n",
    "    allLine10kVi = file10kVi.readlines()\n",
    "    allLine10kLo = file10kLo.readlines()\n",
    "    allLine30kVi = file30kVi.readlines()\n",
    "    allLine30kLo = file30kLo.readlines()\n",
    "    \n",
    "    allLineVi = allLine10kVi + allLine30kVi\n",
    "    allLineLo = allLine10kLo + allLine30kLo\n",
    "    \n",
    "    wordLevelLenVi, countEmptyLineVi = getLineLen(allLineVi, mode = 'word')\n",
    "    \n",
    "    charLevelLenVi, countEmptyLine1Vi = getLineLen(allLineVi, mode = 'character')    \n",
    "    \n",
    "    wordLevelLenLo, countEmptyLineLo = getLineLen(allLineLo, mode = 'word')\n",
    "    \n",
    "    charLevelLenLo, countEmptyLine1Lo = getLineLen(allLineLo, mode = 'character')    \n",
    "    \n",
    "    print(countEmptyLineVi, countEmptyLine1Vi)\n",
    "    print(countEmptyLineLo, countEmptyLine1Lo)"
   ],
   "metadata": {
    "collapsed": false,
    "ExecuteTime": {
     "end_time": "2023-10-26T10:45:10.401228Z",
     "start_time": "2023-10-26T10:45:10.200060900Z"
    }
   },
   "id": "ab44b66aae373db7"
  },
  {
   "cell_type": "code",
   "execution_count": 44,
   "outputs": [
    {
     "name": "stdout",
     "output_type": "stream",
     "text": [
      "wordLevelLen    138\n",
      "dtype: int64\n",
      "charLevelLen    489\n",
      "dtype: int64\n",
      "wordLevelLen    120\n",
      "dtype: int64\n",
      "charLevelLen    493\n",
      "dtype: int64\n"
     ]
    }
   ],
   "source": [
    "wordLevelLenViDF = pd.DataFrame(wordLevelLenVi, columns = ['wordLevelLen'])\n",
    "charLevelLenViDF = pd.DataFrame(charLevelLenVi, columns = ['charLevelLen'])\n",
    "wordLevelLenLoDF = pd.DataFrame(wordLevelLenLo , columns = ['wordLevelLen'])\n",
    "charLevelLenLoDF = pd.DataFrame(charLevelLenLo, columns = ['charLevelLen'])"
   ],
   "metadata": {
    "collapsed": false,
    "ExecuteTime": {
     "end_time": "2023-10-26T10:49:43.208666900Z",
     "start_time": "2023-10-26T10:49:43.145930300Z"
    }
   },
   "id": "916cc1ed3229fab1"
  },
  {
   "cell_type": "code",
   "execution_count": 70,
   "outputs": [
    {
     "name": "stdout",
     "output_type": "stream",
     "text": [
      "wordLevelLen    138\n",
      "dtype: int64\n",
      "wordLevelLen    120\n",
      "dtype: int64\n",
      "27383\n",
      "20318\n"
     ]
    },
    {
     "data": {
      "text/plain": "<Figure size 432x288 with 1 Axes>",
      "image/png": "[encoded data removed]"
     },
     "metadata": {
      "needs_background": "light"
     },
     "output_type": "display_data"
    },
    {
     "data": {
      "text/plain": "<Figure size 432x288 with 1 Axes>",
      "image/png": "[encoded data removed]"
     },
     "metadata": {
      "needs_background": "light"
     },
     "output_type": "display_data"
    }
   ],
   "source": [
    "print(wordLevelLenViDF.nunique())\n",
    "print(wordLevelLenLoDF.nunique())\n",
    "\n",
    "wordLevelLenViDF.hist(bins = 75), wordLevelLenLoDF.hist(bins = 75)\n",
    "\n",
    "print(len(wordLevelLenViDF[(wordLevelLenViDF['wordLevelLen'] <= 50) & (wordLevelLenViDF['wordLevelLen'] > 10)]))\n",
    "\n",
    "print(len(wordLevelLenLoDF[(wordLevelLenLoDF['wordLevelLen'] <= 50) & (wordLevelLenLoDF['wordLevelLen'] > 10)]))"
   ],
   "metadata": {
    "collapsed": false,
    "ExecuteTime": {
     "end_time": "2023-10-26T10:59:23.001953300Z",
     "start_time": "2023-10-26T10:59:22.705040200Z"
    }
   },
   "id": "fa7fff09de6eee6b"
  },
  {
   "cell_type": "code",
   "execution_count": 74,
   "outputs": [
    {
     "name": "stdout",
     "output_type": "stream",
     "text": [
      "charLevelLen    489\n",
      "dtype: int64\n",
      "charLevelLen    493\n",
      "dtype: int64\n",
      "29010\n",
      "29020\n"
     ]
    },
    {
     "data": {
      "text/plain": "<Figure size 432x288 with 1 Axes>",
      "image/png": "[encoded data removed]"
     },
     "metadata": {
      "needs_background": "light"
     },
     "output_type": "display_data"
    },
    {
     "data": {
      "text/plain": "<Figure size 432x288 with 1 Axes>",
      "image/png": "[encoded data removed]"
     },
     "metadata": {
      "needs_background": "light"
     },
     "output_type": "display_data"
    }
   ],
   "source": [
    "print(charLevelLenViDF.nunique())\n",
    "print(charLevelLenLoDF.nunique())\n",
    "\n",
    "charLevelLenViDF.hist(bins = 250), charLevelLenLoDF.hist(bins = 250)\n",
    "\n",
    "print(len(charLevelLenViDF[(charLevelLenViDF['charLevelLen'] <= 300) & (charLevelLenViDF['charLevelLen'] > 10)]))\n",
    "\n",
    "print(len(charLevelLenLoDF[(charLevelLenLoDF['charLevelLen'] <= 300) & (charLevelLenLoDF['charLevelLen'] > 10)]))"
   ],
   "metadata": {
    "collapsed": false,
    "ExecuteTime": {
     "end_time": "2023-10-26T11:07:02.282272700Z",
     "start_time": "2023-10-26T11:07:01.685595200Z"
    }
   },
   "id": "6cadce9bae9945d1"
  },
  {
   "cell_type": "code",
   "execution_count": 81,
   "outputs": [],
   "source": [
    "wordLevelLenViNP = np.array(wordLevelLenVi)\n",
    "charLevelLenViNP = np.array(charLevelLenVi)\n",
    "wordLevelLenLoNP = np.array(wordLevelLenLo)\n",
    "charLevelLenLoNP = np.array(charLevelLenLo)"
   ],
   "metadata": {
    "collapsed": false,
    "ExecuteTime": {
     "end_time": "2023-10-26T11:11:33.786021800Z",
     "start_time": "2023-10-26T11:11:33.770794Z"
    }
   },
   "id": "70a35bb6933a8a23"
  },
  {
   "cell_type": "code",
   "execution_count": 85,
   "outputs": [],
   "source": [
    "wordLevelLenRatio = wordLevelLenViNP / wordLevelLenLoNP\n",
    "charLevelLenRatio = charLevelLenViNP / charLevelLenLoNP"
   ],
   "metadata": {
    "collapsed": false,
    "ExecuteTime": {
     "end_time": "2023-10-26T11:15:00.760668400Z",
     "start_time": "2023-10-26T11:15:00.746439900Z"
    }
   },
   "id": "6e41ad6e0a5428e1"
  },
  {
   "cell_type": "code",
   "execution_count": 87,
   "outputs": [],
   "source": [
    "wordLevelLenRatioDF = pd.DataFrame(wordLevelLenRatio, columns = ['wordLevelLenRatio'])\n",
    "charLevelLenRatioDF = pd.DataFrame(charLevelLenRatio, columns = ['charLevelLenRatio'])"
   ],
   "metadata": {
    "collapsed": false,
    "ExecuteTime": {
     "end_time": "2023-10-26T11:16:00.871687100Z",
     "start_time": "2023-10-26T11:16:00.856063500Z"
    }
   },
   "id": "2c173dfa9bbb366a"
  },
  {
   "cell_type": "code",
   "execution_count": 132,
   "outputs": [
    {
     "name": "stdout",
     "output_type": "stream",
     "text": [
      "27815\n",
      "28730\n"
     ]
    },
    {
     "data": {
      "text/plain": "<Figure size 432x288 with 1 Axes>",
      "image/png": "[encoded data removed]"
     },
     "metadata": {
      "needs_background": "light"
     },
     "output_type": "display_data"
    },
    {
     "data": {
      "text/plain": "<Figure size 432x288 with 1 Axes>",
      "image/png": "[encoded data removed]"
     },
     "metadata": {
      "needs_background": "light"
     },
     "output_type": "display_data"
    }
   ],
   "source": [
    "wordLevelLenRatioDF.nunique(), charLevelLenRatioDF.nunique()\n",
    "\n",
    "wordLevelLenRatioDF.hist(bins = 100), charLevelLenRatioDF.hist(bins = 100)\n",
    "\n",
    "print(len(wordLevelLenRatioDF[(wordLevelLenRatioDF['wordLevelLenRatio'] <= 8) & (wordLevelLenRatioDF['wordLevelLenRatio'] >= 0)]))\n",
    "\n",
    "print(len(charLevelLenRatioDF[(charLevelLenRatioDF['charLevelLenRatio'] <= 1.5) & (charLevelLenRatioDF['charLevelLenRatio'] >= 0.5)]))"
   ],
   "metadata": {
    "collapsed": false,
    "ExecuteTime": {
     "end_time": "2023-10-26T12:09:18.294603800Z",
     "start_time": "2023-10-26T12:09:17.959991900Z"
    }
   },
   "id": "ee6ba0ad751c2981"
  },
  {
   "cell_type": "code",
   "execution_count": 134,
   "outputs": [],
   "source": [
    "# combine0to30kDF = pd.DataFrame({\n",
    "#     'vi': allLineVi,\n",
    "#     'lo': allLineLo,\n",
    "#     'charLevelLenRatio': charLevelLenRatio.tolist(),\n",
    "# })\n",
    "# \n",
    "# with open('train2023_combine0to30k_cleaned_thresholded.vi', 'w', encoding = 'utf8') as fileCleanedVi:\n",
    "#     for line in (combine0to30kDF[(combine0to30kDF['charLevelLenRatio'] <= 1.5) & (combine0to30kDF['charLevelLenRatio'] >= 0.5)]['vi'].to_list()):\n",
    "#         fileCleanedVi.write(line)\n",
    "# \n",
    "# with open('train2023_combine0kto30k_cleaned_thresholded.lo', 'w', encoding = 'utf8') as fileCleanedLo:\n",
    "#     for line in (combine0to30kDF[(combine0to30kDF['charLevelLenRatio'] <= 1.5) & (combine0to30kDF['charLevelLenRatio'] >= 0.5)]['lo'].to_list()):\n",
    "#         fileCleanedLo.write(line)"
   ],
   "metadata": {
    "collapsed": false,
    "ExecuteTime": {
     "end_time": "2023-10-26T12:20:38.050425400Z",
     "start_time": "2023-10-26T12:20:38.033250800Z"
    }
   },
   "id": "41b7953bf0d89774"
  }
 ],
 "metadata": {
  "kernelspec": {
   "display_name": "Python 3",
   "language": "python",
   "name": "python3"
  },
  "language_info": {
   "codemirror_mode": {
    "name": "ipython",
    "version": 2
   },
   "file_extension": ".py",
   "mimetype": "text/x-python",
   "name": "python",
   "nbconvert_exporter": "python",
   "pygments_lexer": "ipython2",
   "version": "2.7.6"
  }
 },
 "nbformat": 4,
 "nbformat_minor": 5
}
