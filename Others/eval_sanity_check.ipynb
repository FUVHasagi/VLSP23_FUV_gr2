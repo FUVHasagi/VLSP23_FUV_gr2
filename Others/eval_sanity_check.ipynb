{
 "cells": [
  {
   "cell_type": "code",
   "execution_count": null,
   "outputs": [],
   "source": [
    "import json\n",
    "import evaluate"
   ],
   "metadata": {
    "collapsed": false
   },
   "id": "8d22edf8e7ec1b61"
  },
  {
   "cell_type": "code",
   "execution_count": null,
   "outputs": [],
   "source": [
    "sacrebleu = evaluate.load('sacrebleu')\n",
    "bleu = evaluate.load('bleu')\n",
    "\n",
    "with open(\"M2M_Eval/trueSentenceListLoVi.json\", \"r\", encoding = \"utf8\") as fileTrueLoVi, \\\n",
    "        open(\"M2M_Eval/trueSentenceListViLo.json\", \"r\", encoding = \"utf8\") as fileTrueViLo, \\\n",
    "        open(\"M2M_Eval/outputSentenceListLoVi.json\", \"r\", encoding = \"utf8\") as fileOutputLoVi, \\\n",
    "        open(\"M2M_Eval/outputSentenceListViLo.json\", \"r\", encoding = \"utf8\") as fileOutputViLo:\n",
    "    \n",
    "    allLineTrueLoVi = json.load(fileTrueLoVi)\n",
    "    allLineTrueViLo = json.load(fileTrueViLo)\n",
    "    allLineOutputLoVi = json.load(fileOutputLoVi)\n",
    "    allLineOutputViLo = json.load(fileOutputViLo)\n",
    "    \n",
    "    print(bleu.compute(predictions = allLineOutputViLo, references = allLineTrueViLo))\n",
    "    print(bleu.compute(predictions = allLineOutputLoVi, references = allLineTrueLoVi))\n",
    "    \n",
    "    print(sacrebleu.compute(predictions = allLineOutputViLo, references = allLineTrueViLo))\n",
    "    print(sacrebleu.compute(predictions = allLineOutputLoVi, references = allLineTrueLoVi))"
   ],
   "metadata": {
    "collapsed": false
   },
   "id": "4a8d17367dc79a65"
  },
  {
   "cell_type": "code",
   "execution_count": null,
   "id": "initial_id",
   "metadata": {
    "collapsed": true
   },
   "outputs": [],
   "source": [
    "with open(\"M2M_Eval/trueSentenceListLoVi.json\", 'r', encoding = 'utf8') as fileM2MLoVi, \\\n",
    "     open(\"M2M_Eval/trueSentenceListViLo.json\", 'r', encoding = 'utf8') as fileM2MViLo, \\\n",
    "     open(\"mT5_Eval/trueSentenceListLoVi.json\", 'r', encoding = 'utf8') as filemT5LoVi, \\\n",
    "     open(\"mT5_Eval/trueSentenceListViLo.json\", 'r', encoding = 'utf8') as filemT5ViLo:\n",
    "    \n",
    "    sentenceM2MLoVi = json.load(fileM2MLoVi)\n",
    "    sentenceM2MViLo = json.load(fileM2MViLo)\n",
    "    sentencemT5LoVi = json.load(filemT5LoVi)\n",
    "    sentencemT5ViLo = json.load(filemT5ViLo)\n",
    "    \n",
    "    count = 1\n",
    "    for sentenceViLo in sentenceM2MViLo:\n",
    "        count += 1\n",
    "        if sentenceViLo in sentencemT5ViLo:\n",
    "            pass\n",
    "        else:\n",
    "            print(count, sentenceViLo)\n",
    "            \n",
    "    count = 1\n",
    "    for sentenceLoVi in sentenceM2MLoVi:\n",
    "        count += 1\n",
    "        if sentenceLoVi in sentencemT5LoVi:\n",
    "            pass\n",
    "        else:\n",
    "            print(count, sentenceLoVi)"
   ]
  }
 ],
 "metadata": {
  "kernelspec": {
   "display_name": "Python 3",
   "language": "python",
   "name": "python3"
  },
  "language_info": {
   "codemirror_mode": {
    "name": "ipython",
    "version": 2
   },
   "file_extension": ".py",
   "mimetype": "text/x-python",
   "name": "python",
   "nbconvert_exporter": "python",
   "pygments_lexer": "ipython2",
   "version": "2.7.6"
  }
 },
 "nbformat": 4,
 "nbformat_minor": 5
}
