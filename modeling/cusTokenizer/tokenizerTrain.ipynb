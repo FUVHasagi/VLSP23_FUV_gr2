{
 "cells": [
  {
   "cell_type": "code",
   "execution_count": 92,
   "id": "initial_id",
   "metadata": {
    "collapsed": true,
    "ExecuteTime": {
     "end_time": "2023-10-30T15:08:59.107860600Z",
     "start_time": "2023-10-30T15:08:58.839891Z"
    }
   },
   "outputs": [],
   "source": [
    "import os\n",
    "import sys\n",
    "os.chdir(\"/home/group2/naTtahN_T2/Tan3010/211023_NhatTan_Test\")\n",
    "sys.path.append(\"..\")"
   ]
  },
  {
   "cell_type": "code",
   "execution_count": null,
   "outputs": [],
   "source": [
    "from utilFuncs.modelUtils import *"
   ],
   "metadata": {
    "collapsed": false
   },
   "id": "31efd47e80e39b22"
  },
  {
   "cell_type": "code",
   "execution_count": null,
   "outputs": [],
   "source": [
    "unkTok = '[UNK]'\n",
    "beginTok = '[CLS]'\n",
    "endTok = '[SEP]'\n",
    "padTok = '[PAD]'\n",
    "maskTok = '[MASK]'"
   ],
   "metadata": {
    "collapsed": false
   },
   "id": "268646e70463e9fe"
  },
  {
   "cell_type": "code",
   "execution_count": 68,
   "outputs": [],
   "source": [
    "files = ['train2023.lo', 'train2023.vi',\n",
    "         'lo.txt', 'vi.txt']\n",
    "fullPaths = [glob.glob(\"../**/%s\" % (file), recursive = True)[0] for file in files]\n",
    "\n",
    "tokenizerPath = glob.glob(\"../**/BilinMonolin_LoVi_NoClean.json\", recursive = True)[0]"
   ],
   "metadata": {
    "collapsed": false,
    "ExecuteTime": {
     "end_time": "2023-10-30T14:40:07.815062400Z",
     "start_time": "2023-10-30T14:40:07.801672400Z"
    }
   },
   "id": "64b4bd5ac5236e6b"
  },
  {
   "cell_type": "code",
   "execution_count": 69,
   "outputs": [],
   "source": [
    "customTokenizer = Tokenizer.from_file(tokenizerPath)"
   ],
   "metadata": {
    "collapsed": false,
    "ExecuteTime": {
     "end_time": "2023-10-30T14:40:11.595049500Z",
     "start_time": "2023-10-30T14:40:11.589932500Z"
    }
   },
   "id": "bd847da8526f9769"
  },
  {
   "cell_type": "code",
   "execution_count": 59,
   "outputs": [],
   "source": [
    "# customTokenizer = Tokenizer(BPE(unk_token = unkTok))"
   ],
   "metadata": {
    "collapsed": false,
    "ExecuteTime": {
     "end_time": "2023-10-30T14:24:36.823972100Z",
     "start_time": "2023-10-30T14:24:36.823972100Z"
    }
   },
   "id": "901eb7f5842b3ca2"
  },
  {
   "cell_type": "code",
   "execution_count": 70,
   "outputs": [],
   "source": [
    "preTokWhitespace = Whitespace()\n",
    "\n",
    "customPreTokenizer = pre_tokenizers.Sequence([preTokWhitespace])\n",
    "customTokenizer.pre_tokenizer = customPreTokenizer"
   ],
   "metadata": {
    "collapsed": false,
    "ExecuteTime": {
     "end_time": "2023-10-30T14:40:26.097736800Z",
     "start_time": "2023-10-30T14:40:26.093852Z"
    }
   },
   "id": "efafe5378e96f2f4"
  },
  {
   "cell_type": "code",
   "execution_count": 71,
   "outputs": [],
   "source": [
    "# customTokenizerTrainer = BpeTrainer(special_tokens = [unkTok, beginTok, endTok, padTok, maskTok], vocab_size = int(6e4))"
   ],
   "metadata": {
    "collapsed": false,
    "ExecuteTime": {
     "end_time": "2023-10-30T14:40:28.247920200Z",
     "start_time": "2023-10-30T14:40:28.242916100Z"
    }
   },
   "id": "123e0b5735003b66"
  },
  {
   "cell_type": "code",
   "execution_count": 8,
   "outputs": [
    {
     "name": "stdout",
     "output_type": "stream",
     "text": []
    }
   ],
   "source": [
    "# customTokenizer.train(fullPaths, customTokenizerTrainer)\n",
    "# customTokenizer.save(\"customTokenizerFolder/BilinMonolin_LoVi_NoClean.json\")"
   ],
   "metadata": {
    "collapsed": false,
    "ExecuteTime": {
     "end_time": "2023-10-30T09:53:41.040195500Z",
     "start_time": "2023-10-30T09:46:45.354623500Z"
    }
   },
   "id": "64395e3352cf9159"
  },
  {
   "cell_type": "code",
   "execution_count": 72,
   "outputs": [],
   "source": [
    "postProcessTemplateProcess = TemplateProcessing(\n",
    "    single = '%s $A %s' % (beginTok, endTok),\n",
    "    pair = '%s $A %s $B:1 %s:1' % (beginTok, endTok, endTok),\n",
    "    special_tokens = [\n",
    "        (beginTok, customTokenizer.token_to_id(beginTok)),\n",
    "        (endTok, customTokenizer.token_to_id(endTok)),\n",
    "    ]\n",
    ")\n",
    "\n",
    "customPostProcess = processors.Sequence([postProcessTemplateProcess])\n",
    "customTokenizer.post_processor = customPostProcess"
   ],
   "metadata": {
    "collapsed": false,
    "ExecuteTime": {
     "end_time": "2023-10-30T14:40:33.139356400Z",
     "start_time": "2023-10-30T14:40:33.135064400Z"
    }
   },
   "id": "46ba721ac9a9835"
  },
  {
   "cell_type": "code",
   "execution_count": 73,
   "outputs": [],
   "source": [
    "customTokenizer.enable_padding(pad_id = customTokenizer.token_to_id(padTok))"
   ],
   "metadata": {
    "collapsed": false,
    "ExecuteTime": {
     "end_time": "2023-10-30T14:40:35.849118Z",
     "start_time": "2023-10-30T14:40:35.845864Z"
    }
   },
   "id": "2f22618048b94abc"
  },
  {
   "cell_type": "code",
   "execution_count": 91,
   "outputs": [
    {
     "ename": "AttributeError",
     "evalue": "'tokenizers.Encoding' object has no attribute 'is_fast'",
     "output_type": "error",
     "traceback": [
      "\u001B[0;31m---------------------------------------------------------------------------\u001B[0m",
      "\u001B[0;31mAttributeError\u001B[0m                            Traceback (most recent call last)",
      "Cell \u001B[0;32mIn[91], line 1\u001B[0m\n\u001B[0;32m----> 1\u001B[0m \u001B[43mcustomTokenizer\u001B[49m\u001B[38;5;241;43m.\u001B[39;49m\u001B[43mencode\u001B[49m\u001B[43m(\u001B[49m\u001B[38;5;124;43m'\u001B[39;49m\u001B[38;5;124;43m🆎\u001B[39;49m\u001B[38;5;124;43m'\u001B[39;49m\u001B[43m)\u001B[49m\u001B[38;5;241;43m.\u001B[39;49m\u001B[43mis_fast\u001B[49m\n",
      "\u001B[0;31mAttributeError\u001B[0m: 'tokenizers.Encoding' object has no attribute 'is_fast'"
     ]
    }
   ],
   "source": [
    "customTokenizer.encode('🆎').tokens"
   ],
   "metadata": {
    "collapsed": false,
    "ExecuteTime": {
     "end_time": "2023-10-30T14:55:54.339965200Z",
     "start_time": "2023-10-30T14:55:54.297406800Z"
    }
   },
   "id": "d8240b790e8ac0a6"
  },
  {
   "cell_type": "code",
   "execution_count": 90,
   "outputs": [
    {
     "ename": "AttributeError",
     "evalue": "'tokenizers.Tokenizer' object has no attribute 'is_fast'",
     "output_type": "error",
     "traceback": [
      "\u001B[0;31m---------------------------------------------------------------------------\u001B[0m",
      "\u001B[0;31mAttributeError\u001B[0m                            Traceback (most recent call last)",
      "Cell \u001B[0;32mIn[90], line 1\u001B[0m\n\u001B[0;32m----> 1\u001B[0m \u001B[43mcustomTokenizer\u001B[49m\u001B[38;5;241;43m.\u001B[39;49m\u001B[43mis_fast\u001B[49m\n",
      "\u001B[0;31mAttributeError\u001B[0m: 'tokenizers.Tokenizer' object has no attribute 'is_fast'"
     ]
    }
   ],
   "source": [
    "customTokenizer.is_fast"
   ],
   "metadata": {
    "collapsed": false,
    "ExecuteTime": {
     "end_time": "2023-10-30T14:55:40.558059400Z",
     "start_time": "2023-10-30T14:55:40.553158200Z"
    }
   },
   "id": "e854464d317fe495"
  }
 ],
 "metadata": {
  "kernelspec": {
   "display_name": "Python 3",
   "language": "python",
   "name": "python3"
  },
  "language_info": {
   "codemirror_mode": {
    "name": "ipython",
    "version": 2
   },
   "file_extension": ".py",
   "mimetype": "text/x-python",
   "name": "python",
   "nbconvert_exporter": "python",
   "pygments_lexer": "ipython2",
   "version": "2.7.6"
  }
 },
 "nbformat": 4,
 "nbformat_minor": 5
}
