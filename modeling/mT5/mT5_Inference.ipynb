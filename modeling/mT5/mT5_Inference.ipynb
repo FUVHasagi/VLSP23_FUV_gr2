{
 "cells": [
  {
   "cell_type": "code",
   "execution_count": 1,
   "id": "initial_id",
   "metadata": {
    "collapsed": true,
    "colab": {
     "base_uri": "https://localhost:8080/"
    },
    "id": "initial_id",
    "outputId": "088d0475-b125-41ae-b3d0-629d3c8f8b7f",
    "ExecuteTime": {
     "end_time": "2023-11-01T18:57:22.524759Z",
     "start_time": "2023-11-01T18:57:22.524759Z"
    }
   },
   "outputs": [],
   "source": [
    "import os\n",
    "import sys\n",
    "os.chdir(\"/home/group2/naTtahN_T2/Tan3010/211023_NhatTan_Test\")\n",
    "sys.path.append(\"..\")"
   ]
  },
  {
   "cell_type": "code",
   "execution_count": 2,
   "outputs": [
    {
     "name": "stdout",
     "output_type": "stream",
     "text": [
      "Current directory: /home/group2/naTtahN_T2/Tan3010/211023_NhatTan_Test\n",
      "Using device: cuda\n"
     ]
    }
   ],
   "source": [
    "from utilFuncs.modelUtils import *"
   ],
   "metadata": {
    "collapsed": false,
    "ExecuteTime": {
     "end_time": "2023-11-01T18:57:38.060633400Z",
     "start_time": "2023-11-01T18:57:28.537775400Z"
    }
   },
   "id": "2b3c95005a8e6fdc"
  },
  {
   "cell_type": "code",
   "execution_count": 4,
   "outputs": [
    {
     "output_type": "execute_result",
     "data": {
      "text/plain": [
       "{'SNT.URLID': '80188',\n",
       " 'SNT.URLID.SNTID': '1',\n",
       " 'url': 'http://en.wikinews.org/wiki/2007_Rugby_World_Cup:_Italy_31_-_5_Portugal',\n",
       " 'translation': {'bg': 'ফ্রান্সের প্যারিসের পার্ক দি প্রিন্সেস-এ হওয়া ২০০৭-এর রাগবি বিশ্বকাপের পুল সি-তে ইটালি পর্তুগালকে ৩১-৫ গোলে হারিয়েছে।',\n",
       "  'en': 'Italy have defeated Portugal 31-5 in Pool C of the 2007 Rugby World Cup at Parc des Princes, Paris, France.',\n",
       "  'en_tok': 'Italy have defeated Portugal 31-5 in Pool C of the 2007 Rugby World Cup at Parc des Princes , Paris , France .',\n",
       "  'fil': 'Natalo ng Italya ang Portugal sa puntos na 31-5 sa Grupong C noong 2007 sa Pandaigdigang laro ng Ragbi sa Parc des Princes, Paris, France.',\n",
       "  'hi': '2007 में फ़्रांस, पेरिस के पार्क डेस प्रिंसेस में हुए रग्बी विश्व कप के पूल C में इटली ने पुर्तगाल को 31-5 से हराया।',\n",
       "  'id': 'Italia berhasil mengalahkan Portugal 31-5 di grup C dalam Piala Dunia Rugby 2007 di Parc des Princes, Paris, Perancis.',\n",
       "  'ja': 'フランスのパリ、パルク・デ・プランスで行われた2007年ラグビーワールドカップのプールCで、イタリアは31対5でポルトガルを下した。',\n",
       "  'khm': 'អ៊ីតាលីបានឈ្នះលើព័រទុយហ្គាល់ 31-5 ក្នុងប៉ូលCនៃពីធីប្រកួតពានរង្វាន់ពិភពលោកនៃកីឡាបាល់ឱបឆ្នាំ2007ដែលប្រព្រឹត្តនៅប៉ាសឌេសប្រីន ក្រុងប៉ារីស បារាំង។',\n",
       "  'lo': 'ອິຕາລີໄດ້ເສຍໃຫ້ປ໊ອກຕຸຍການ 31 ຕໍ່ 5 ໃນພູລ C ຂອງ ການແຂ່ງຂັນຣັກບີ້ລະດັບໂລກປີ 2007 ທີ່ ປາກເດແພຣັງ ປາຣີ ປະເທດຝຣັ່ງ.',\n",
       "  'ms': 'Itali telah mengalahkan Portugal 31-5 dalam Pool C pada Piala Dunia Ragbi 2007 di Parc des Princes, Paris, Perancis.',\n",
       "  'my': 'ပြင်သစ်နိုင်ငံ ပါရီမြို့ ပါ့ဒက်စ် ပရင့်စက် ၌ ၂၀၀၇ခုနှစ် ရပ်ဘီ ကမ္ဘာ့ ဖလား တွင် အီတလီ သည် ပေါ်တူဂီ ကို ၃၁-၅ ဂိုး ဖြင့် ရေကူးကန် စီ တွင် ရှုံးနိမ့်သွားပါသည် ။',\n",
       "  'th': 'อิตาลีได้เอาชนะโปรตุเกสด้วยคะแนน31ต่อ5 ในกลุ่มc ของการแข่งขันรักบี้เวิลด์คัพปี2007 ที่สนามปาร์กเดแพร็งส์ ที่กรุงปารีส ประเทศฝรั่งเศส',\n",
       "  'vi': 'Ý đã đánh bại Bồ Đào Nha với tỉ số 31-5 ở Bảng C Giải vô địch Rugby thế giới 2007 tại Parc des Princes, Pari, Pháp.',\n",
       "  'zh': '意大利在法国巴黎王子公园体育场举办的2007年橄榄球世界杯C组以31-5击败葡萄牙。'}}"
      ]
     },
     "metadata": {},
     "execution_count": 4
    }
   ],
   "source": [
    "# dataset = load_dataset('alt')\n",
    "# train_dataset = dataset['train']\n",
    "# test_dataset = dataset['test']\n",
    "# train_dataset[0]"
   ],
   "metadata": {
    "colab": {
     "base_uri": "https://localhost:8080/"
    },
    "id": "e9bd26e780aa9d3d",
    "outputId": "7e908ef7-b9c8-4d38-a02f-bed64eea2731"
   },
   "id": "e9bd26e780aa9d3d"
  },
  {
   "cell_type": "code",
   "execution_count": null,
   "outputs": [],
   "source": [
    "filesTrain = ['split_train2023_0to10k.vi', 'split_train2023_0to10k.lo', \n",
    "              'split_train2023_10kto30k.vi', 'split_train2023_10kto30k.lo',\n",
    "              'split_train2023_40kto100k.vi', 'split_train2023_40kto100k.lo']\n",
    "allPathsTrain = findFiles(filesTrain, '../**')"
   ],
   "metadata": {
    "collapsed": false
   },
   "id": "366640e1251d5a38"
  },
  {
   "cell_type": "code",
   "execution_count": null,
   "outputs": [],
   "source": [
    "allDataTrain = readAllData(allPathsTrain)\n",
    "train_dataset = createDataset([allDataTrain[0], allDataTrain[2], allDataTrain[4]],\n",
    "                              [allDataTrain[1], allDataTrain[3], allDataTrain[5]])"
   ],
   "metadata": {
    "collapsed": false
   },
   "id": "9c3591abf8abdcb5"
  },
  {
   "cell_type": "code",
   "execution_count": null,
   "outputs": [],
   "source": [
    "filesEval = ['split_val2023_0to10k.vi', 'split_val2023_0to10k.lo', \n",
    "              'split_val2023_10kto30k.vi', 'split_val2023_10kto30k.lo',\n",
    "              'split_val2023_40kto100k.vi', 'split_val2023_40kto100k.lo']\n",
    "allPathsEval = findFiles(filesEval, '../**')"
   ],
   "metadata": {
    "collapsed": false
   },
   "id": "e1f580bad0761a15"
  },
  {
   "cell_type": "code",
   "execution_count": null,
   "outputs": [],
   "source": [
    "allDataEval = readAllData(allPathsEval)\n",
    "eval_dataset = createDataset([allDataEval[0], allDataEval[2], allDataEval[4]],\n",
    "                             [allDataEval[1], allDataEval[3], allDataEval[5]])"
   ],
   "metadata": {
    "collapsed": false
   },
   "id": "adfe254403b99e1a"
  },
  {
   "cell_type": "code",
   "execution_count": 3,
   "outputs": [
    {
     "name": "stderr",
     "output_type": "stream",
     "text": [
      "/home/group2/miniconda3/envs/pytorch_Tan3010/lib/python3.9/site-packages/transformers/convert_slow_tokenizer.py:454: UserWarning: The sentencepiece tokenizer that you are converting to a fast tokenizer uses the byte fallback option which is not implemented in the fast tokenizers. In practice this means that the fast version of the tokenizer can produce unknown tokens whereas the sentencepiece version would have converted these unknown tokens into a sequence of byte tokens matching the original piece of text.\n",
      "  warnings.warn(\n"
     ]
    }
   ],
   "source": [
    "TOKENIZER_REPO = 'google/mt5-base'\n",
    "MODEL_REPO = TOKENIZER_REPO\n",
    "\n",
    "tokenizer, model = loadTokenizerAndSeq2SeqLM(TOKENIZER_REPO, MODEL_REPO,\n",
    "                                             use_pretrained = False)\n",
    "\n",
    "MAX_SEQ_LEN = 144\n",
    "set_tokenizer_lang = False\n",
    "add_lang_token = True\n",
    "forced_bos = False"
   ],
   "metadata": {
    "id": "ba98a9e97984f82f",
    "colab": {
     "base_uri": "https://localhost:8080/"
    },
    "outputId": "a63741a0-0860-44a3-f2bc-ce66df76f191",
    "ExecuteTime": {
     "end_time": "2023-11-01T18:57:51.884077900Z",
     "start_time": "2023-11-01T18:57:38.107655200Z"
    }
   },
   "id": "ba98a9e97984f82f"
  },
  {
   "cell_type": "code",
   "execution_count": 4,
   "outputs": [],
   "source": [
    "add_lang_tokens_to_tokenizer(tokenizer, model)"
   ],
   "metadata": {
    "collapsed": false,
    "ExecuteTime": {
     "end_time": "2023-11-01T18:58:09.813396400Z",
     "start_time": "2023-11-01T18:58:06.056327400Z"
    }
   },
   "id": "b116ffaec820fe38"
  },
  {
   "cell_type": "code",
   "execution_count": 6,
   "outputs": [],
   "source": [
    "model.load_state_dict(torch.load(''))"
   ],
   "metadata": {
    "ExecuteTime": {
     "end_time": "2023-10-23T06:59:47.892775100Z",
     "start_time": "2023-10-23T06:59:47.888231900Z"
    },
    "id": "a53be91523320515"
   },
   "id": "a53be91523320515"
  },
  {
   "cell_type": "code",
   "source": [
    "inputText = \"Neil Armstrong là người đầu tiên bước chân lên mặt trăng.\"\n",
    "outputText = \"\"\n",
    "toyDataset = createDataset([[inputText]], [])\n",
    "\n",
    "textGenerated = inference(\n",
    "    model, toyDataset,\n",
    "    tokenizer, set_tokenizer_lang, add_lang_token,\n",
    "    MAX_SEQ_LEN,\n",
    "    input_lang = 'vi', target_lang = 'lo', random_lang = False,\n",
    "    batch_size = 8,\n",
    "    forced_bos = forced_bos\n",
    ")\n",
    "\n",
    "print(textGenerated)"
   ],
   "metadata": {
    "colab": {
     "base_uri": "https://localhost:8080/"
    },
    "id": "44bDEng_4cS_",
    "outputId": "b63a8193-0403-4a73-9c40-4186b5477e6b",
    "ExecuteTime": {
     "end_time": "2023-11-01T18:58:11.899949100Z",
     "start_time": "2023-11-01T18:58:11.644469800Z"
    }
   },
   "id": "44bDEng_4cS_",
   "execution_count": 5,
   "outputs": [
    {
     "name": "stdout",
     "output_type": "stream",
     "text": [
      "Inference process finished with 1 sentences\n",
      "['<extra_id_0> tại sao']\n"
     ]
    }
   ]
  },
  {
   "cell_type": "code",
   "source": [
    "# import json\n",
    "# \n",
    "# with open(\"/content/drive/MyDrive/outputSentenceListLoVi.json\", 'w') as f:\n",
    "#     json.dump(outputSentenceListLoVi, f, indent = 2, ensure_ascii = False)\n",
    "# \n",
    "# with open(\"/content/drive/MyDrive/outputSentenceListViLo.json\", 'w') as f:\n",
    "#     json.dump(outputSentenceListViLo, f, indent = 2, ensure_ascii = False)\n",
    "# \n",
    "# with open(\"/content/drive/MyDrive/trueSentenceListLoVi.json\", 'w') as f:\n",
    "#     json.dump(trueSentenceListLoVi, f, indent = 2, ensure_ascii = False)\n",
    "# \n",
    "# with open(\"/content/drive/MyDrive/trueSentenceListViLo.json\", 'w') as f:\n",
    "#     json.dump(trueSentenceListViLo, f, indent = 2, ensure_ascii = False)"
   ],
   "metadata": {
    "id": "1rivUs2DyeJJ"
   },
   "id": "1rivUs2DyeJJ",
   "execution_count": 14,
   "outputs": []
  }
 ],
 "metadata": {
  "kernelspec": {
   "name": "python3",
   "language": "python",
   "display_name": "Python 3 (ipykernel)"
  },
  "language_info": {
   "codemirror_mode": {
    "name": "ipython",
    "version": 2
   },
   "file_extension": ".py",
   "mimetype": "text/x-python",
   "name": "python",
   "nbconvert_exporter": "python",
   "pygments_lexer": "ipython2",
   "version": "2.7.6"
  },
  "colab": {
   "provenance": [],
   "gpuType": "T4"
  },
  "accelerator": "GPU"
 },
 "nbformat": 4,
 "nbformat_minor": 5
}
