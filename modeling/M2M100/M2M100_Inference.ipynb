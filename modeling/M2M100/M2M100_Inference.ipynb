{
 "cells": [
  {
   "cell_type": "code",
   "execution_count": 1,
   "outputs": [],
   "source": [
    "import os\n",
    "import sys\n",
    "os.chdir(\"/home/group2/naTtahN_T2/Tan3010/211023_NhatTan_Test\")\n",
    "sys.path.append(\"..\")"
   ],
   "metadata": {
    "collapsed": false,
    "ExecuteTime": {
     "end_time": "2023-11-01T18:54:17.026121400Z",
     "start_time": "2023-11-01T18:54:17.018463500Z"
    }
   },
   "id": "b13a471d23ee9470"
  },
  {
   "cell_type": "code",
   "execution_count": 2,
   "outputs": [
    {
     "name": "stdout",
     "output_type": "stream",
     "text": [
      "Current directory: /home/group2/naTtahN_T2/Tan3010/211023_NhatTan_Test\n",
      "Using device: cuda\n"
     ]
    }
   ],
   "source": [
    "from utilFuncs.modelUtils import *"
   ],
   "metadata": {
    "collapsed": false,
    "ExecuteTime": {
     "end_time": "2023-11-01T18:54:27.411851900Z",
     "start_time": "2023-11-01T18:54:18.097164800Z"
    }
   },
   "id": "26de7b78f5fd69cb"
  },
  {
   "cell_type": "code",
   "execution_count": 3,
   "id": "e9bd26e780aa9d3d",
   "metadata": {
    "colab": {
     "base_uri": "https://localhost:8080/"
    },
    "id": "e9bd26e780aa9d3d",
    "outputId": "23681d48-2f53-4860-d423-e5a3393a32a9",
    "ExecuteTime": {
     "end_time": "2023-11-01T18:40:21.653407400Z",
     "start_time": "2023-11-01T18:40:21.653407400Z"
    }
   },
   "outputs": [],
   "source": [
    "# dataset = load_dataset('alt')\n",
    "# train_dataset = dataset['train']\n",
    "# test_dataset = dataset['test']\n",
    "# train_dataset[0]"
   ]
  },
  {
   "cell_type": "code",
   "execution_count": 4,
   "id": "ba98a9e97984f82f",
   "metadata": {
    "id": "ba98a9e97984f82f",
    "ExecuteTime": {
     "end_time": "2023-11-01T18:40:21.653407400Z",
     "start_time": "2023-11-01T18:40:21.653407400Z"
    }
   },
   "outputs": [
    {
     "name": "stdout",
     "output_type": "stream",
     "text": [
      "Found 6 paths\n"
     ]
    }
   ],
   "source": [
    "filesTrain = ['split_train2023_0to10k.vi', 'split_train2023_0to10k.lo', \n",
    "              'split_train2023_10kto30k.vi', 'split_train2023_10kto30k.lo',\n",
    "              'split_train2023_40kto100k.vi', 'split_train2023_40kto100k.lo']\n",
    "allPathsTrain = findFiles(filesTrain, '../**')"
   ]
  },
  {
   "cell_type": "code",
   "execution_count": 5,
   "id": "cb8891c86803f764",
   "metadata": {
    "id": "cb8891c86803f764",
    "ExecuteTime": {
     "end_time": "2023-11-01T18:40:23.992035300Z",
     "start_time": "2023-11-01T18:40:21.653407400Z"
    }
   },
   "outputs": [
    {
     "name": "stdout",
     "output_type": "stream",
     "text": [
      "Read 6 files\n"
     ]
    },
    {
     "ename": "KeyboardInterrupt",
     "evalue": "",
     "output_type": "error",
     "traceback": [
      "\u001B[0;31m---------------------------------------------------------------------------\u001B[0m",
      "\u001B[0;31mKeyboardInterrupt\u001B[0m                         Traceback (most recent call last)",
      "Cell \u001B[0;32mIn[5], line 2\u001B[0m\n\u001B[1;32m      1\u001B[0m allDataTrain \u001B[38;5;241m=\u001B[39m readAllData(allPathsTrain)\n\u001B[0;32m----> 2\u001B[0m train_dataset \u001B[38;5;241m=\u001B[39m \u001B[43mcreateDataset\u001B[49m\u001B[43m(\u001B[49m\u001B[43m[\u001B[49m\u001B[43mallDataTrain\u001B[49m\u001B[43m[\u001B[49m\u001B[38;5;241;43m0\u001B[39;49m\u001B[43m]\u001B[49m\u001B[43m,\u001B[49m\u001B[43m \u001B[49m\u001B[43mallDataTrain\u001B[49m\u001B[43m[\u001B[49m\u001B[38;5;241;43m2\u001B[39;49m\u001B[43m]\u001B[49m\u001B[43m,\u001B[49m\u001B[43m \u001B[49m\u001B[43mallDataTrain\u001B[49m\u001B[43m[\u001B[49m\u001B[38;5;241;43m4\u001B[39;49m\u001B[43m]\u001B[49m\u001B[43m]\u001B[49m\u001B[43m,\u001B[49m\n\u001B[1;32m      3\u001B[0m \u001B[43m                              \u001B[49m\u001B[43m[\u001B[49m\u001B[43mallDataTrain\u001B[49m\u001B[43m[\u001B[49m\u001B[38;5;241;43m1\u001B[39;49m\u001B[43m]\u001B[49m\u001B[43m,\u001B[49m\u001B[43m \u001B[49m\u001B[43mallDataTrain\u001B[49m\u001B[43m[\u001B[49m\u001B[38;5;241;43m3\u001B[39;49m\u001B[43m]\u001B[49m\u001B[43m,\u001B[49m\u001B[43m \u001B[49m\u001B[43mallDataTrain\u001B[49m\u001B[43m[\u001B[49m\u001B[38;5;241;43m5\u001B[39;49m\u001B[43m]\u001B[49m\u001B[43m]\u001B[49m\u001B[43m)\u001B[49m\n",
      "File \u001B[0;32m~/naTtahN_T2/Tan3010/211023_NhatTan_Test/utilFuncs/dataUtils.py:100\u001B[0m, in \u001B[0;36mcreateDataset\u001B[0;34m(allVi, allLo)\u001B[0m\n\u001B[1;32m     94\u001B[0m     \u001B[38;5;28;01mreturn\u001B[39;00m Dataset\u001B[38;5;241m.\u001B[39mfrom_dict({\n\u001B[1;32m     95\u001B[0m         \u001B[38;5;124m'\u001B[39m\u001B[38;5;124mtranslation\u001B[39m\u001B[38;5;124m'\u001B[39m: Dataset\u001B[38;5;241m.\u001B[39mfrom_dict({\n\u001B[1;32m     96\u001B[0m             \u001B[38;5;124m'\u001B[39m\u001B[38;5;124mlo\u001B[39m\u001B[38;5;124m'\u001B[39m: allLoConcat,\n\u001B[1;32m     97\u001B[0m         })\n\u001B[1;32m     98\u001B[0m     })\n\u001B[1;32m     99\u001B[0m \u001B[38;5;28;01melse\u001B[39;00m:\n\u001B[0;32m--> 100\u001B[0m     \u001B[38;5;28;01mreturn\u001B[39;00m \u001B[43mDataset\u001B[49m\u001B[38;5;241;43m.\u001B[39;49m\u001B[43mfrom_dict\u001B[49m\u001B[43m(\u001B[49m\u001B[43m{\u001B[49m\n\u001B[1;32m    101\u001B[0m \u001B[43m        \u001B[49m\u001B[38;5;124;43m'\u001B[39;49m\u001B[38;5;124;43mtranslation\u001B[39;49m\u001B[38;5;124;43m'\u001B[39;49m\u001B[43m:\u001B[49m\u001B[43m \u001B[49m\u001B[43mDataset\u001B[49m\u001B[38;5;241;43m.\u001B[39;49m\u001B[43mfrom_dict\u001B[49m\u001B[43m(\u001B[49m\u001B[43m{\u001B[49m\n\u001B[1;32m    102\u001B[0m \u001B[43m            \u001B[49m\u001B[38;5;124;43m'\u001B[39;49m\u001B[38;5;124;43mlo\u001B[39;49m\u001B[38;5;124;43m'\u001B[39;49m\u001B[43m:\u001B[49m\u001B[43m \u001B[49m\u001B[43mallLoConcat\u001B[49m\u001B[43m,\u001B[49m\n\u001B[1;32m    103\u001B[0m \u001B[43m            \u001B[49m\u001B[38;5;124;43m'\u001B[39;49m\u001B[38;5;124;43mvi\u001B[39;49m\u001B[38;5;124;43m'\u001B[39;49m\u001B[43m:\u001B[49m\u001B[43m \u001B[49m\u001B[43mallViConcat\u001B[49m\u001B[43m,\u001B[49m\n\u001B[1;32m    104\u001B[0m \u001B[43m        \u001B[49m\u001B[43m}\u001B[49m\u001B[43m)\u001B[49m\n\u001B[1;32m    105\u001B[0m \u001B[43m    \u001B[49m\u001B[43m}\u001B[49m\u001B[43m)\u001B[49m\n",
      "File \u001B[0;32m~/miniconda3/envs/pytorch_Tan3010/lib/python3.9/site-packages/datasets/arrow_dataset.py:911\u001B[0m, in \u001B[0;36mDataset.from_dict\u001B[0;34m(cls, mapping, features, info, split)\u001B[0m\n\u001B[1;32m    909\u001B[0m     arrow_typed_mapping[col] \u001B[38;5;241m=\u001B[39m data\n\u001B[1;32m    910\u001B[0m mapping \u001B[38;5;241m=\u001B[39m arrow_typed_mapping\n\u001B[0;32m--> 911\u001B[0m pa_table \u001B[38;5;241m=\u001B[39m \u001B[43mInMemoryTable\u001B[49m\u001B[38;5;241;43m.\u001B[39;49m\u001B[43mfrom_pydict\u001B[49m\u001B[43m(\u001B[49m\u001B[43mmapping\u001B[49m\u001B[38;5;241;43m=\u001B[39;49m\u001B[43mmapping\u001B[49m\u001B[43m)\u001B[49m\n\u001B[1;32m    912\u001B[0m \u001B[38;5;28;01mif\u001B[39;00m info \u001B[38;5;129;01mis\u001B[39;00m \u001B[38;5;28;01mNone\u001B[39;00m:\n\u001B[1;32m    913\u001B[0m     info \u001B[38;5;241m=\u001B[39m DatasetInfo()\n",
      "File \u001B[0;32m~/miniconda3/envs/pytorch_Tan3010/lib/python3.9/site-packages/datasets/table.py:799\u001B[0m, in \u001B[0;36mInMemoryTable.from_pydict\u001B[0;34m(cls, *args, **kwargs)\u001B[0m\n\u001B[1;32m    783\u001B[0m \u001B[38;5;129m@classmethod\u001B[39m\n\u001B[1;32m    784\u001B[0m \u001B[38;5;28;01mdef\u001B[39;00m \u001B[38;5;21mfrom_pydict\u001B[39m(\u001B[38;5;28mcls\u001B[39m, \u001B[38;5;241m*\u001B[39margs, \u001B[38;5;241m*\u001B[39m\u001B[38;5;241m*\u001B[39mkwargs):\n\u001B[1;32m    785\u001B[0m \u001B[38;5;250m    \u001B[39m\u001B[38;5;124;03m\"\"\"\u001B[39;00m\n\u001B[1;32m    786\u001B[0m \u001B[38;5;124;03m    Construct a Table from Arrow arrays or columns.\u001B[39;00m\n\u001B[1;32m    787\u001B[0m \n\u001B[0;32m   (...)\u001B[0m\n\u001B[1;32m    797\u001B[0m \u001B[38;5;124;03m        `datasets.table.Table`\u001B[39;00m\n\u001B[1;32m    798\u001B[0m \u001B[38;5;124;03m    \"\"\"\u001B[39;00m\n\u001B[0;32m--> 799\u001B[0m     \u001B[38;5;28;01mreturn\u001B[39;00m \u001B[38;5;28mcls\u001B[39m(\u001B[43mpa\u001B[49m\u001B[38;5;241;43m.\u001B[39;49m\u001B[43mTable\u001B[49m\u001B[38;5;241;43m.\u001B[39;49m\u001B[43mfrom_pydict\u001B[49m\u001B[43m(\u001B[49m\u001B[38;5;241;43m*\u001B[39;49m\u001B[43margs\u001B[49m\u001B[43m,\u001B[49m\u001B[43m \u001B[49m\u001B[38;5;241;43m*\u001B[39;49m\u001B[38;5;241;43m*\u001B[39;49m\u001B[43mkwargs\u001B[49m\u001B[43m)\u001B[49m)\n",
      "File \u001B[0;32m~/miniconda3/envs/pytorch_Tan3010/lib/python3.9/site-packages/pyarrow/table.pxi:1799\u001B[0m, in \u001B[0;36mpyarrow.lib._Tabular.from_pydict\u001B[0;34m()\u001B[0m\n",
      "File \u001B[0;32m~/miniconda3/envs/pytorch_Tan3010/lib/python3.9/site-packages/pyarrow/table.pxi:5101\u001B[0m, in \u001B[0;36mpyarrow.lib._from_pydict\u001B[0;34m()\u001B[0m\n",
      "File \u001B[0;32m~/miniconda3/envs/pytorch_Tan3010/lib/python3.9/site-packages/pyarrow/array.pxi:357\u001B[0m, in \u001B[0;36mpyarrow.lib.asarray\u001B[0;34m()\u001B[0m\n",
      "File \u001B[0;32m~/miniconda3/envs/pytorch_Tan3010/lib/python3.9/site-packages/pyarrow/array.pxi:243\u001B[0m, in \u001B[0;36mpyarrow.lib.array\u001B[0;34m()\u001B[0m\n",
      "File \u001B[0;32m~/miniconda3/envs/pytorch_Tan3010/lib/python3.9/site-packages/pyarrow/array.pxi:110\u001B[0m, in \u001B[0;36mpyarrow.lib._handle_arrow_array_protocol\u001B[0;34m()\u001B[0m\n",
      "File \u001B[0;32m~/miniconda3/envs/pytorch_Tan3010/lib/python3.9/site-packages/datasets/arrow_writer.py:189\u001B[0m, in \u001B[0;36mTypedSequence.__arrow_array__\u001B[0;34m(self, type)\u001B[0m\n\u001B[1;32m    187\u001B[0m \u001B[38;5;28;01melse\u001B[39;00m:\n\u001B[1;32m    188\u001B[0m     trying_cast_to_python_objects \u001B[38;5;241m=\u001B[39m \u001B[38;5;28;01mTrue\u001B[39;00m\n\u001B[0;32m--> 189\u001B[0m     out \u001B[38;5;241m=\u001B[39m \u001B[43mpa\u001B[49m\u001B[38;5;241;43m.\u001B[39;49m\u001B[43marray\u001B[49m\u001B[43m(\u001B[49m\u001B[43mcast_to_python_objects\u001B[49m\u001B[43m(\u001B[49m\u001B[43mdata\u001B[49m\u001B[43m,\u001B[49m\u001B[43m \u001B[49m\u001B[43monly_1d_for_numpy\u001B[49m\u001B[38;5;241;43m=\u001B[39;49m\u001B[38;5;28;43;01mTrue\u001B[39;49;00m\u001B[43m)\u001B[49m\u001B[43m)\u001B[49m\n\u001B[1;32m    190\u001B[0m \u001B[38;5;66;03m# use smaller integer precisions if possible\u001B[39;00m\n\u001B[1;32m    191\u001B[0m \u001B[38;5;28;01mif\u001B[39;00m \u001B[38;5;28mself\u001B[39m\u001B[38;5;241m.\u001B[39mtrying_int_optimization:\n",
      "File \u001B[0;32m~/miniconda3/envs/pytorch_Tan3010/lib/python3.9/site-packages/pyarrow/array.pxi:327\u001B[0m, in \u001B[0;36mpyarrow.lib.array\u001B[0;34m()\u001B[0m\n",
      "File \u001B[0;32m~/miniconda3/envs/pytorch_Tan3010/lib/python3.9/site-packages/pyarrow/array.pxi:39\u001B[0m, in \u001B[0;36mpyarrow.lib._sequence_to_array\u001B[0;34m()\u001B[0m\n",
      "File \u001B[0;32m~/miniconda3/envs/pytorch_Tan3010/lib/python3.9/site-packages/pyarrow/error.pxi:144\u001B[0m, in \u001B[0;36mpyarrow.lib.pyarrow_internal_check_status\u001B[0;34m()\u001B[0m\n",
      "File \u001B[0;32m~/miniconda3/envs/pytorch_Tan3010/lib/python3.9/site-packages/datasets/arrow_dataset.py:2803\u001B[0m, in \u001B[0;36mDataset.__getitem__\u001B[0;34m(self, key)\u001B[0m\n\u001B[1;32m   2801\u001B[0m \u001B[38;5;28;01mdef\u001B[39;00m \u001B[38;5;21m__getitem__\u001B[39m(\u001B[38;5;28mself\u001B[39m, key):  \u001B[38;5;66;03m# noqa: F811\u001B[39;00m\n\u001B[1;32m   2802\u001B[0m \u001B[38;5;250m    \u001B[39m\u001B[38;5;124;03m\"\"\"Can be used to index columns (by string names) or rows (by integer index or iterable of indices or bools).\"\"\"\u001B[39;00m\n\u001B[0;32m-> 2803\u001B[0m     \u001B[38;5;28;01mreturn\u001B[39;00m \u001B[38;5;28;43mself\u001B[39;49m\u001B[38;5;241;43m.\u001B[39;49m\u001B[43m_getitem\u001B[49m\u001B[43m(\u001B[49m\u001B[43mkey\u001B[49m\u001B[43m)\u001B[49m\n",
      "File \u001B[0;32m~/miniconda3/envs/pytorch_Tan3010/lib/python3.9/site-packages/datasets/arrow_dataset.py:2788\u001B[0m, in \u001B[0;36mDataset._getitem\u001B[0;34m(self, key, **kwargs)\u001B[0m\n\u001B[1;32m   2786\u001B[0m formatter \u001B[38;5;241m=\u001B[39m get_formatter(format_type, features\u001B[38;5;241m=\u001B[39m\u001B[38;5;28mself\u001B[39m\u001B[38;5;241m.\u001B[39m_info\u001B[38;5;241m.\u001B[39mfeatures, \u001B[38;5;241m*\u001B[39m\u001B[38;5;241m*\u001B[39mformat_kwargs)\n\u001B[1;32m   2787\u001B[0m pa_subtable \u001B[38;5;241m=\u001B[39m query_table(\u001B[38;5;28mself\u001B[39m\u001B[38;5;241m.\u001B[39m_data, key, indices\u001B[38;5;241m=\u001B[39m\u001B[38;5;28mself\u001B[39m\u001B[38;5;241m.\u001B[39m_indices \u001B[38;5;28;01mif\u001B[39;00m \u001B[38;5;28mself\u001B[39m\u001B[38;5;241m.\u001B[39m_indices \u001B[38;5;129;01mis\u001B[39;00m \u001B[38;5;129;01mnot\u001B[39;00m \u001B[38;5;28;01mNone\u001B[39;00m \u001B[38;5;28;01melse\u001B[39;00m \u001B[38;5;28;01mNone\u001B[39;00m)\n\u001B[0;32m-> 2788\u001B[0m formatted_output \u001B[38;5;241m=\u001B[39m \u001B[43mformat_table\u001B[49m\u001B[43m(\u001B[49m\n\u001B[1;32m   2789\u001B[0m \u001B[43m    \u001B[49m\u001B[43mpa_subtable\u001B[49m\u001B[43m,\u001B[49m\u001B[43m \u001B[49m\u001B[43mkey\u001B[49m\u001B[43m,\u001B[49m\u001B[43m \u001B[49m\u001B[43mformatter\u001B[49m\u001B[38;5;241;43m=\u001B[39;49m\u001B[43mformatter\u001B[49m\u001B[43m,\u001B[49m\u001B[43m \u001B[49m\u001B[43mformat_columns\u001B[49m\u001B[38;5;241;43m=\u001B[39;49m\u001B[43mformat_columns\u001B[49m\u001B[43m,\u001B[49m\u001B[43m \u001B[49m\u001B[43moutput_all_columns\u001B[49m\u001B[38;5;241;43m=\u001B[39;49m\u001B[43moutput_all_columns\u001B[49m\n\u001B[1;32m   2790\u001B[0m \u001B[43m\u001B[49m\u001B[43m)\u001B[49m\n\u001B[1;32m   2791\u001B[0m \u001B[38;5;28;01mreturn\u001B[39;00m formatted_output\n",
      "File \u001B[0;32m~/miniconda3/envs/pytorch_Tan3010/lib/python3.9/site-packages/datasets/formatting/formatting.py:629\u001B[0m, in \u001B[0;36mformat_table\u001B[0;34m(table, key, formatter, format_columns, output_all_columns)\u001B[0m\n\u001B[1;32m    627\u001B[0m python_formatter \u001B[38;5;241m=\u001B[39m PythonFormatter(features\u001B[38;5;241m=\u001B[39m\u001B[38;5;28;01mNone\u001B[39;00m)\n\u001B[1;32m    628\u001B[0m \u001B[38;5;28;01mif\u001B[39;00m format_columns \u001B[38;5;129;01mis\u001B[39;00m \u001B[38;5;28;01mNone\u001B[39;00m:\n\u001B[0;32m--> 629\u001B[0m     \u001B[38;5;28;01mreturn\u001B[39;00m \u001B[43mformatter\u001B[49m\u001B[43m(\u001B[49m\u001B[43mpa_table\u001B[49m\u001B[43m,\u001B[49m\u001B[43m \u001B[49m\u001B[43mquery_type\u001B[49m\u001B[38;5;241;43m=\u001B[39;49m\u001B[43mquery_type\u001B[49m\u001B[43m)\u001B[49m\n\u001B[1;32m    630\u001B[0m \u001B[38;5;28;01melif\u001B[39;00m query_type \u001B[38;5;241m==\u001B[39m \u001B[38;5;124m\"\u001B[39m\u001B[38;5;124mcolumn\u001B[39m\u001B[38;5;124m\"\u001B[39m:\n\u001B[1;32m    631\u001B[0m     \u001B[38;5;28;01mif\u001B[39;00m key \u001B[38;5;129;01min\u001B[39;00m format_columns:\n",
      "File \u001B[0;32m~/miniconda3/envs/pytorch_Tan3010/lib/python3.9/site-packages/datasets/formatting/formatting.py:396\u001B[0m, in \u001B[0;36mFormatter.__call__\u001B[0;34m(self, pa_table, query_type)\u001B[0m\n\u001B[1;32m    394\u001B[0m \u001B[38;5;28;01mdef\u001B[39;00m \u001B[38;5;21m__call__\u001B[39m(\u001B[38;5;28mself\u001B[39m, pa_table: pa\u001B[38;5;241m.\u001B[39mTable, query_type: \u001B[38;5;28mstr\u001B[39m) \u001B[38;5;241m-\u001B[39m\u001B[38;5;241m>\u001B[39m Union[RowFormat, ColumnFormat, BatchFormat]:\n\u001B[1;32m    395\u001B[0m     \u001B[38;5;28;01mif\u001B[39;00m query_type \u001B[38;5;241m==\u001B[39m \u001B[38;5;124m\"\u001B[39m\u001B[38;5;124mrow\u001B[39m\u001B[38;5;124m\"\u001B[39m:\n\u001B[0;32m--> 396\u001B[0m         \u001B[38;5;28;01mreturn\u001B[39;00m \u001B[38;5;28;43mself\u001B[39;49m\u001B[38;5;241;43m.\u001B[39;49m\u001B[43mformat_row\u001B[49m\u001B[43m(\u001B[49m\u001B[43mpa_table\u001B[49m\u001B[43m)\u001B[49m\n\u001B[1;32m    397\u001B[0m     \u001B[38;5;28;01melif\u001B[39;00m query_type \u001B[38;5;241m==\u001B[39m \u001B[38;5;124m\"\u001B[39m\u001B[38;5;124mcolumn\u001B[39m\u001B[38;5;124m\"\u001B[39m:\n\u001B[1;32m    398\u001B[0m         \u001B[38;5;28;01mreturn\u001B[39;00m \u001B[38;5;28mself\u001B[39m\u001B[38;5;241m.\u001B[39mformat_column(pa_table)\n",
      "File \u001B[0;32m~/miniconda3/envs/pytorch_Tan3010/lib/python3.9/site-packages/datasets/formatting/formatting.py:437\u001B[0m, in \u001B[0;36mPythonFormatter.format_row\u001B[0;34m(self, pa_table)\u001B[0m\n\u001B[1;32m    435\u001B[0m     \u001B[38;5;28;01mreturn\u001B[39;00m LazyRow(pa_table, \u001B[38;5;28mself\u001B[39m)\n\u001B[1;32m    436\u001B[0m row \u001B[38;5;241m=\u001B[39m \u001B[38;5;28mself\u001B[39m\u001B[38;5;241m.\u001B[39mpython_arrow_extractor()\u001B[38;5;241m.\u001B[39mextract_row(pa_table)\n\u001B[0;32m--> 437\u001B[0m row \u001B[38;5;241m=\u001B[39m \u001B[38;5;28;43mself\u001B[39;49m\u001B[38;5;241;43m.\u001B[39;49m\u001B[43mpython_features_decoder\u001B[49m\u001B[38;5;241;43m.\u001B[39;49m\u001B[43mdecode_row\u001B[49m\u001B[43m(\u001B[49m\u001B[43mrow\u001B[49m\u001B[43m)\u001B[49m\n\u001B[1;32m    438\u001B[0m \u001B[38;5;28;01mreturn\u001B[39;00m row\n",
      "File \u001B[0;32m~/miniconda3/envs/pytorch_Tan3010/lib/python3.9/site-packages/datasets/formatting/formatting.py:215\u001B[0m, in \u001B[0;36mPythonFeaturesDecoder.decode_row\u001B[0;34m(self, row)\u001B[0m\n\u001B[1;32m    214\u001B[0m \u001B[38;5;28;01mdef\u001B[39;00m \u001B[38;5;21mdecode_row\u001B[39m(\u001B[38;5;28mself\u001B[39m, row: \u001B[38;5;28mdict\u001B[39m) \u001B[38;5;241m-\u001B[39m\u001B[38;5;241m>\u001B[39m \u001B[38;5;28mdict\u001B[39m:\n\u001B[0;32m--> 215\u001B[0m     \u001B[38;5;28;01mreturn\u001B[39;00m \u001B[38;5;28;43mself\u001B[39;49m\u001B[38;5;241;43m.\u001B[39;49m\u001B[43mfeatures\u001B[49m\u001B[38;5;241m.\u001B[39mdecode_example(row) \u001B[38;5;28;01mif\u001B[39;00m \u001B[38;5;28mself\u001B[39m\u001B[38;5;241m.\u001B[39mfeatures \u001B[38;5;28;01melse\u001B[39;00m row\n",
      "\u001B[0;31mKeyboardInterrupt\u001B[0m: "
     ]
    }
   ],
   "source": [
    "allDataTrain = readAllData(allPathsTrain)\n",
    "train_dataset = createDataset([allDataTrain[0], allDataTrain[2], allDataTrain[4]],\n",
    "                              [allDataTrain[1], allDataTrain[3], allDataTrain[5]])"
   ]
  },
  {
   "cell_type": "code",
   "execution_count": null,
   "id": "a53be91523320515",
   "metadata": {
    "id": "a53be91523320515",
    "ExecuteTime": {
     "end_time": "2023-11-01T18:40:24.023290700Z",
     "start_time": "2023-11-01T18:40:24.023290700Z"
    }
   },
   "outputs": [],
   "source": [
    "filesEval = ['split_val2023_0to10k.vi', 'split_val2023_0to10k.lo', \n",
    "              'split_val2023_10kto30k.vi', 'split_val2023_10kto30k.lo',\n",
    "              'split_val2023_40kto100k.vi', 'split_val2023_40kto100k.lo']\n",
    "allPathsEval = findFiles(filesEval, '../**')"
   ]
  },
  {
   "cell_type": "code",
   "execution_count": null,
   "outputs": [],
   "source": [
    "allDataEval = readAllData(allPathsEval)\n",
    "eval_dataset = createDataset([allDataEval[0], allDataEval[2], allDataEval[4]],\n",
    "                             [allDataEval[1], allDataEval[3], allDataEval[5]])"
   ],
   "metadata": {
    "collapsed": false,
    "ExecuteTime": {
     "start_time": "2023-11-01T18:40:24.023290700Z"
    }
   },
   "id": "6041bfe3b1a85d33"
  },
  {
   "cell_type": "code",
   "execution_count": 5,
   "id": "-35Y0W0wQxdF",
   "metadata": {
    "id": "-35Y0W0wQxdF",
    "ExecuteTime": {
     "end_time": "2023-11-01T18:55:01.639358900Z",
     "start_time": "2023-11-01T18:54:51.083851200Z"
    }
   },
   "outputs": [],
   "source": [
    "TOKENIZER_REPO = 'facebook/m2m100_418M'\n",
    "MODEL_REPO = TOKENIZER_REPO\n",
    "\n",
    "tokenizer, model = loadTokenizerAndSeq2SeqLM(TOKENIZER_REPO, MODEL_REPO,\n",
    "                                             use_pretrained = False)\n",
    "\n",
    "MAX_SEQ_LEN = model.config.max_length\n",
    "set_tokenizer_lang = True\n",
    "add_lang_token = False\n",
    "forced_bos = True"
   ]
  },
  {
   "cell_type": "code",
   "execution_count": null,
   "outputs": [],
   "source": [
    "model.load_state_dict(torch.load(''))"
   ],
   "metadata": {
    "collapsed": false,
    "ExecuteTime": {
     "start_time": "2023-11-01T18:40:24.023290700Z"
    }
   },
   "id": "d2daad959f38a792"
  },
  {
   "cell_type": "code",
   "execution_count": 9,
   "outputs": [
    {
     "name": "stdout",
     "output_type": "stream",
     "text": [
      "Inference process finished with 1 sentences\n",
      "['Neil Armstrong ແມ່ນຜູ້ທີ່ມາມາຈາກການສົນທົນທົນທົນທົນທົນທົນທົນທົນທົນທົນທົນທົນທົນທົນທົນທົນທົນທົນທົນທົນທົນທົນທົນທົນທົນທົນທົນທົນທົນທົນທົນທົນທົນທົນທົນທົນທົນທົນທົນທົນທົນທົນທົນທົນທົນທົນທົນທົນທົນທົນທົນທົນທົນທົນທົນທົນທົນທົນທົນທົນທົນທົນທົນທົນທົນທົນທົນທົນທົນທົນທົນທົນທົນທົນທົນທົນທົນທົນທົນທົນທົນທົນທົນທົນທົນທົນທົນທົນທົນທົນທົນທົນທົນ']\n"
     ]
    }
   ],
   "source": [
    "inputText = \"Neil Armstrong là người đầu tiên bước chân lên mặt trăng.\"\n",
    "outputText = \"\"\n",
    "toyDataset = createDataset([[inputText]], [])\n",
    "\n",
    "textGenerated = inference(\n",
    "    model, toyDataset,\n",
    "    tokenizer, set_tokenizer_lang, add_lang_token,\n",
    "    MAX_SEQ_LEN,\n",
    "    input_lang = 'vi', target_lang = 'lo', random_lang = False,\n",
    "    batch_size = 8,\n",
    "    forced_bos = forced_bos\n",
    ")\n",
    "\n",
    "print(textGenerated)"
   ],
   "metadata": {
    "collapsed": false,
    "ExecuteTime": {
     "end_time": "2023-11-01T18:56:22.600582600Z",
     "start_time": "2023-11-01T18:56:20.491265900Z"
    }
   },
   "id": "b09da9a338df2212"
  },
  {
   "cell_type": "code",
   "execution_count": null,
   "outputs": [],
   "source": [
    "# import json\n",
    "# \n",
    "# with open(\"/content/drive/MyDrive/outputSentenceListLoVi.json\", 'w') as f:\n",
    "#     json.dump(outputSentenceListLoVi, f, indent = 2, ensure_ascii = False)\n",
    "# \n",
    "# with open(\"/content/drive/MyDrive/outputSentenceListViLo.json\", 'w') as f:\n",
    "#     json.dump(outputSentenceListViLo, f, indent = 2, ensure_ascii = False)\n",
    "# \n",
    "# with open(\"/content/drive/MyDrive/trueSentenceListLoVi.json\", 'w') as f:\n",
    "#     json.dump(trueSentenceListLoVi, f, indent = 2, ensure_ascii = False)\n",
    "# \n",
    "# with open(\"/content/drive/MyDrive/trueSentenceListViLo.json\", 'w') as f:\n",
    "#     json.dump(trueSentenceListViLo, f, indent = 2, ensure_ascii = False)"
   ],
   "metadata": {
    "collapsed": false,
    "ExecuteTime": {
     "start_time": "2023-11-01T18:40:24.023290700Z"
    }
   },
   "id": "1a96258a1d110a9c"
  }
 ],
 "metadata": {
  "accelerator": "GPU",
  "colab": {
   "gpuType": "T4",
   "provenance": []
  },
  "kernelspec": {
   "name": "python3",
   "language": "python",
   "display_name": "Python 3 (ipykernel)"
  },
  "language_info": {
   "codemirror_mode": {
    "name": "ipython",
    "version": 2
   },
   "file_extension": ".py",
   "mimetype": "text/x-python",
   "name": "python",
   "nbconvert_exporter": "python",
   "pygments_lexer": "ipython2",
   "version": "2.7.6"
  }
 },
 "nbformat": 4,
 "nbformat_minor": 5
}
